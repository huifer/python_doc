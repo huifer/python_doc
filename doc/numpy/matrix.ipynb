{
 "cells": [
  {
   "cell_type": "markdown",
   "metadata": {
    "collapsed": true,
    "pycharm": {
     "name": "#%% md\n"
    }
   },
   "source": [
    "# 矩阵运算\n",
    "\n",
    "### 矩阵加法 Plus\n",
    " 矩阵加法: 参与运算的矩阵必须是大小一样的(n,m都一样)\n",
    " \n",
    "$$\n",
    "\\left[\n",
    " \\begin{matrix}\n",
    "   1 & 2 \\\\\n",
    "   3 & 4  \n",
    "  \\end{matrix} \n",
    "\\right] \n",
    "$$\n",
    "\n",
    "- 交换律：A+B=B+A\n",
    "- 结合律：(A+B)+C=A+(B+C)\n",
    "\n",
    "### 矩阵乘法 Multiply   \n",
    "#### 矩阵 X 数字\n",
    "#### 矩阵 X 矩阵\n",
    "### 哈达马乘积 Hadamard product\n",
    "### 转置 Transpose\n",
    "### 矩阵的行列式 Determinant\n",
    "### 逆矩阵 Inverse\n",
    "### 矩阵的秩 Rank\n",
    "### 迹 Trace"
   ]
  }
 ],
 "metadata": {
  "kernelspec": {
   "display_name": "Python 3",
   "language": "python",
   "name": "python3"
  },
  "language_info": {
   "codemirror_mode": {
    "name": "ipython",
    "version": 2
   },
   "file_extension": ".py",
   "mimetype": "text/x-python",
   "name": "python",
   "nbconvert_exporter": "python",
   "pygments_lexer": "ipython2",
   "version": "2.7.6"
  },
  "pycharm": {
   "stem_cell": {
    "cell_type": "raw",
    "source": [],
    "metadata": {
     "collapsed": false
    }
   }
  }
 },
 "nbformat": 4,
 "nbformat_minor": 0
}