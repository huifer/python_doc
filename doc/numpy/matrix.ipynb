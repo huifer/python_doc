{
 "cells": [
  {
   "cell_type": "markdown",
   "metadata": {
    "collapsed": true,
    "pycharm": {
     "name": "#%% md\n"
    }
   },
   "source": [
    "# 矩阵运算\n",
    "\n",
    "### 矩阵加法 Plus\n",
    " 矩阵加法: 参与运算的矩阵必须是大小一样的(n,m都一样)\n",
    " \n",
    "$$\n",
    "\\left[\n",
    " \\begin{matrix}\n",
    "   1 & 2 \\\\\n",
    "   3 & 4  \n",
    "  \\end{matrix} \n",
    "\\right] \n",
    "\n",
    "+ \n",
    "\n",
    "\\left[\n",
    " \\begin{matrix}\n",
    "   1 & 2 \\\\\n",
    "   3 & 4  \n",
    "  \\end{matrix} \n",
    "\\right] \n",
    "\n",
    "= \n",
    "\\left[\n",
    " \\begin{matrix}\n",
    "   2 & 4 \\\\\n",
    "   6 & 8  \n",
    "  \\end{matrix} \n",
    "\\right] \n",
    "$$\n",
    "\n",
    "- 交换律：A+B=B+A\n",
    "- 结合律：(A+B)+C=A+(B+C)\n",
    "### 代码"
   ]
  },
  {
   "cell_type": "code",
   "execution_count": 2,
   "outputs": [
    {
     "data": {
      "text/plain": "array([[2, 4],\n       [4, 6]])"
     },
     "metadata": {},
     "output_type": "execute_result",
     "execution_count": 2
    }
   ],
   "source": [
    "import numpy as np\n",
    "def plus(x: np.ndarray, y: np.ndarray) -> np.ndarray:\n",
    "    \"\"\" 矩阵相加\"\"\"\n",
    "    if x.shape == y.shape:\n",
    "        return x + y\n",
    "\n",
    "a = np.array([\n",
    "    [1, 2],\n",
    "    [2, 3]\n",
    "])\n",
    "b = np.copy(a)\n",
    "c = plus(a, b)\n",
    "c"
   ],
   "metadata": {
    "collapsed": false,
    "pycharm": {
     "name": "#%%\n",
     "is_executing": false
    }
   }
  },
  {
   "cell_type": "markdown",
   "source": [
    "### 矩阵乘法 Multiply   \n",
    "- 矩阵A(m*p) X 矩阵B(p*n)  结论为C(m*n) 公式如下\n",
    "$$\n",
    "( AB )_{ij} = \\sum^{p}_{k=1} A_{ik}b_{kj} = a_{i1}b_{1j} + a_{i2}b_{2j}+...+ a_{ip}b_{pj}\n",
    "$$\n",
    "\n",
    "- 例子\n",
    "\n",
    "$$\n",
    "\\left[\n",
    " \\begin{matrix}\n",
    "   1 & 2 & 3 \\\\\n",
    "   4 & 5 & 6 \n",
    "  \\end{matrix} \n",
    "\\right] \n",
    "*\n",
    "\\left[\n",
    " \\begin{matrix}\n",
    "   1 & 4 \\\\\n",
    "   2 & 5 \\\\  \n",
    "   3 & 6   \n",
    "   \\end{matrix} \n",
    "\\right] \n",
    "= \n",
    "\\left[\n",
    " \\begin{matrix}\n",
    "   1*1+2*2+3*3 & 1*4+2*5+3*6 \\\\\n",
    "   4*1+5*2+6*3 & 4*4+5*5+6*6 \n",
    "   \\end{matrix} \n",
    "\\right] \n",
    "= \\left[\n",
    " \\begin{matrix}\n",
    "   14 & 32 \\\\\n",
    "   32 & 77   \n",
    "   \\end{matrix} \n",
    "\\right] \n",
    "$$\n",
    "\n",
    "### 代码"
   ],
   "metadata": {
    "collapsed": false,
    "pycharm": {
     "name": "#%% md\n"
    }
   }
  },
  {
   "cell_type": "code",
   "execution_count": 2,
   "outputs": [
    {
     "data": {
      "text/plain": "array([[14, 32],\n       [32, 77]])"
     },
     "metadata": {},
     "output_type": "execute_result",
     "execution_count": 2
    }
   ],
   "source": [
    "def multiply(x: np.ndarray, y) -> np.ndarray:\n",
    "    \"\"\"矩阵乘法\"\"\"\n",
    "    return x.dot(y)\n",
    "a = np.array([[1, 2, 3], [4, 5, 6]])\n",
    "b = np.array([\n",
    "    [1, 4],\n",
    "    [2, 5],\n",
    "    [3, 6],\n",
    "])\n",
    "multiply(a,b)\n"
   ],
   "metadata": {
    "collapsed": false,
    "pycharm": {
     "name": "#%%\n",
     "is_executing": false
    }
   }
  },
  {
   "cell_type": "markdown",
   "source": [
    "### 哈达马乘积 Hadamard product\n",
    " 哈达马乘积: 参与运算的矩阵必须是大小一样的(n,m都一样)\n",
    "$$\n",
    "\\left[\n",
    " \\begin{matrix}\n",
    "   1 & 4 \\\\\n",
    "   2 & 5 \n",
    "   \\end{matrix} \n",
    "\\right]*\n",
    "\\left[\n",
    " \\begin{matrix}\n",
    "   1 & 4 \\\\\n",
    "   2 & 5 \n",
    "   \\end{matrix} \n",
    "\\right]\n",
    "=\\left[\n",
    " \\begin{matrix}\n",
    "   1*1 & 4*4 \\\\\n",
    "   2*2 & 5*5 \n",
    "   \\end{matrix} \n",
    "\\right]\n",
    "=\\left[\n",
    " \\begin{matrix}\n",
    "   1 & 16 \\\\\n",
    "   4 & 25 \n",
    "   \\end{matrix} \n",
    "\\right]\n",
    "$$\n",
    "### 代码"
   ],
   "metadata": {
    "collapsed": false,
    "pycharm": {
     "name": "#%% md\n"
    }
   }
  },
  {
   "cell_type": "code",
   "execution_count": 5,
   "outputs": [
    {
     "data": {
      "text/plain": "array([[ 9, 24],\n       [12, 33]])"
     },
     "metadata": {},
     "output_type": "execute_result",
     "execution_count": 5
    }
   ],
   "source": [
    "a = np.array([\n",
    "    [1, 4],\n",
    "    [2, 5]\n",
    "])\n",
    "\n",
    "a.dot(a)"
   ],
   "metadata": {
    "collapsed": false,
    "pycharm": {
     "name": "#%%\n",
     "is_executing": false
    }
   }
  },
  {
   "cell_type": "markdown",
   "source": [
    "### 转置 Transpose\n",
    "设A为m×n阶矩阵（即m行n列），第i 行j 列的元素是a(i,j)\n",
    "\n",
    "$$\n",
    "\\left[\n",
    " \\begin{matrix}\n",
    "   1 & 4 \\\\\n",
    "   2 & 5 \\\\ \n",
    "   3 & 6 \n",
    "   \\end{matrix} \n",
    "\\right]^T\n",
    "= \\\n",
    "\\left[\n",
    " \\begin{matrix}\n",
    "   1 & 2 & 3 \\\\\n",
    "   4 & 5 & 6\n",
    "   \\end{matrix} \n",
    "\\right]\n",
    "$$\n",
    "### 代码"
   ],
   "metadata": {
    "collapsed": false,
    "pycharm": {
     "name": "#%% md\n"
    }
   }
  },
  {
   "cell_type": "code",
   "execution_count": 3,
   "outputs": [
    {
     "data": {
      "text/plain": "array([[1, 2, 3],\n       [4, 5, 6]])"
     },
     "metadata": {},
     "output_type": "execute_result",
     "execution_count": 3
    }
   ],
   "source": [
    "def transpose(x: np.ndarray) -> np.ndarray:\n",
    "    \"\"\"矩阵转置\"\"\"\n",
    "    return x.T\n",
    "\n",
    "b = np.array([\n",
    "    [1, 4],\n",
    "    [2, 5],\n",
    "    [3, 6],\n",
    "])\n",
    "transpose(b)"
   ],
   "metadata": {
    "collapsed": false,
    "pycharm": {
     "name": "#%%\n",
     "is_executing": false
    }
   }
  },
  {
   "cell_type": "code",
   "execution_count": 4,
   "outputs": [
    {
     "data": {
      "text/plain": "array([[1, 2, 3],\n       [4, 5, 6]])"
     },
     "metadata": {},
     "output_type": "execute_result",
     "execution_count": 4
    }
   ],
   "source": [
    "def transpose2(x: np.ndarray) -> np.ndarray:\n",
    "    \"\"\"矩阵转置\"\"\"\n",
    "    return x.transpose()\n",
    "transpose2(b)"
   ],
   "metadata": {
    "collapsed": false,
    "pycharm": {
     "name": "#%% \n",
     "is_executing": false
    }
   }
  },
  {
   "cell_type": "markdown",
   "source": [
    "### 矩阵的行列式 Determinant\n",
    "**行列式的计算必须是n*n的矩阵**\n",
    "#### 2x2矩阵\n",
    "$$\n",
    "det(\n",
    "\\left[\n",
    " \\begin{matrix}\n",
    "   a & b  \\\\\n",
    "   c & d \n",
    "   \\end{matrix} \n",
    "\\right]) = ad-bc\n",
    "$$\n",
    "### 代码"
   ],
   "metadata": {
    "collapsed": false,
    "pycharm": {
     "name": "#%% md\n"
    }
   }
  },
  {
   "cell_type": "code",
   "execution_count": 3,
   "outputs": [
    {
     "data": {
      "text/plain": "-2.0000000000000004"
     },
     "metadata": {},
     "output_type": "execute_result",
     "execution_count": 3
    }
   ],
   "source": [
    "def det(x: np.ndarray) -> np.ndarray:\n",
    "    \"\"\"行列式\"\"\"\n",
    "    return np.linalg.det(x)\n",
    "a = np.array([\n",
    "    [1, 2],\n",
    "    [3, 4],\n",
    "])\n",
    "\n",
    "det(a)"
   ],
   "metadata": {
    "collapsed": false,
    "pycharm": {
     "name": "#%%\n",
     "is_executing": false
    }
   }
  },
  {
   "cell_type": "markdown",
   "source": [
    "### 逆矩阵 Inverse\n",
    "\n",
    "\n",
    "### 代码"
   ],
   "metadata": {
    "collapsed": false,
    "pycharm": {
     "name": "#%% md\n"
    }
   }
  },
  {
   "cell_type": "code",
   "execution_count": 4,
   "outputs": [
    {
     "data": {
      "text/plain": "array([[-2. ,  1. ],\n       [ 1.5, -0.5]])"
     },
     "metadata": {},
     "output_type": "execute_result",
     "execution_count": 4
    }
   ],
   "source": [
    "def inv(x: np.ndarray) -> np.ndarray:\n",
    "    \"\"\"矩阵求逆\"\"\"\n",
    "    return np.linalg.inv(x)\n",
    "a = np.array([\n",
    "    [1, 2],\n",
    "    [3, 4],\n",
    "])\n",
    "inv(a)"
   ],
   "metadata": {
    "collapsed": false,
    "pycharm": {
     "name": "#%% \n",
     "is_executing": false
    }
   }
  },
  {
   "cell_type": "code",
   "execution_count": 5,
   "outputs": [
    {
     "data": {
      "text/plain": "matrix([[-2. ,  1. ],\n        [ 1.5, -0.5]])"
     },
     "metadata": {},
     "output_type": "execute_result",
     "execution_count": 5
    }
   ],
   "source": [
    "def inv2(x: np.ndarray) -> np.ndarray:\n",
    "    \"\"\"矩阵求逆\"\"\"\n",
    "    # np.matrix()废弃\n",
    "    return np.matrix(x).I\n",
    "a = np.array([\n",
    "    [1, 2],\n",
    "    [3, 4],\n",
    "])\n",
    "inv2(a)"
   ],
   "metadata": {
    "collapsed": false,
    "pycharm": {
     "name": "#%% \n",
     "is_executing": false
    }
   }
  },
  {
   "cell_type": "markdown",
   "source": [
    "### 矩阵的秩 Rank\n",
    "\n",
    "\n",
    "### 代码"
   ],
   "metadata": {
    "collapsed": false,
    "pycharm": {
     "name": "#%% md\n"
    }
   }
  },
  {
   "cell_type": "code",
   "execution_count": 6,
   "outputs": [
    {
     "data": {
      "text/plain": "2"
     },
     "metadata": {},
     "output_type": "execute_result",
     "execution_count": 6
    }
   ],
   "source": [
    "def rank(x: np.ndarray):\n",
    "    return np.linalg.matrix_rank(x)\n",
    "\n",
    "a = np.array([\n",
    "    [1, 2],\n",
    "    [3, 4],\n",
    "])\n",
    "\n",
    "rank(a)"
   ],
   "metadata": {
    "collapsed": false,
    "pycharm": {
     "name": "#%%\n",
     "is_executing": false
    }
   }
  },
  {
   "cell_type": "markdown",
   "source": [
    "### 迹 Trace\n",
    "\n",
    "### 代码"
   ],
   "metadata": {
    "collapsed": false,
    "pycharm": {
     "name": "#%% md\n"
    }
   }
  },
  {
   "cell_type": "code",
   "execution_count": 9,
   "outputs": [
    {
     "data": {
      "text/plain": "5"
     },
     "metadata": {},
     "output_type": "execute_result",
     "execution_count": 9
    }
   ],
   "source": [
    "def trace(x: np.ndarray):\n",
    "    \"\"\"矩阵trace\"\"\"\n",
    "    return np.trace(x)\n",
    "a = np.array([\n",
    "    [1, 2],\n",
    "    [3, 4],\n",
    "])\n",
    "\n",
    "trace(a)\n"
   ],
   "metadata": {
    "collapsed": false,
    "pycharm": {
     "name": "#%% \n",
     "is_executing": false
    }
   }
  }
 ],
 "metadata": {
  "kernelspec": {
   "display_name": "Python 3",
   "language": "python",
   "name": "python3"
  },
  "language_info": {
   "codemirror_mode": {
    "name": "ipython",
    "version": 2
   },
   "file_extension": ".py",
   "mimetype": "text/x-python",
   "name": "python",
   "nbconvert_exporter": "python",
   "pygments_lexer": "ipython2",
   "version": "2.7.6"
  },
  "pycharm": {
   "stem_cell": {
    "cell_type": "raw",
    "source": [],
    "metadata": {
     "collapsed": false
    }
   }
  }
 },
 "nbformat": 4,
 "nbformat_minor": 0
}