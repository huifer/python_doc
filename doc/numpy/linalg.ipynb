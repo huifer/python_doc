{
 "cells": [
  {
   "cell_type": "markdown",
   "source": [
    "# 线性代数\n",
    "- 主要库np.linalg"
   ],
   "metadata": {
    "collapsed": false,
    "pycharm": {
     "name": "#%% md\n"
    }
   }
  },
  {
   "cell_type": "code",
   "execution_count": 58,
   "metadata": {
    "collapsed": true,
    "pycharm": {
     "is_executing": false
    }
   },
   "outputs": [],
   "source": [
    "import numpy as np\n"
   ]
  },
  {
   "cell_type": "markdown",
   "source": [
    "- `np.dot`两个数组点积"
   ],
   "metadata": {
    "collapsed": false,
    "pycharm": {
     "name": "#%% md\n"
    }
   }
  },
  {
   "cell_type": "code",
   "source": [
    "np.dot(1, 2)"
   ],
   "metadata": {
    "collapsed": false,
    "pycharm": {
     "name": "#%%\n",
     "is_executing": false
    }
   },
   "execution_count": 6,
   "outputs": [
    {
     "data": {
      "text/plain": "2"
     },
     "metadata": {},
     "output_type": "execute_result",
     "execution_count": 6
    }
   ]
  },
  {
   "cell_type": "markdown",
   "source": [
    "- `np.vdot`两个向量点积"
   ],
   "metadata": {
    "collapsed": false
   }
  },
  {
   "cell_type": "code",
   "execution_count": 5,
   "outputs": [
    {
     "data": {
      "text/plain": "30"
     },
     "metadata": {},
     "output_type": "execute_result",
     "execution_count": 5
    }
   ],
   "source": [
    "a = np.array([[1, 2], [3, 4]])\n",
    "b = np.array([[1, 2], [3, 4]])\n",
    "\n",
    "np.vdot(a,b)"
   ],
   "metadata": {
    "collapsed": false,
    "pycharm": {
     "name": "#%%\n",
     "is_executing": false
    }
   }
  },
  {
   "cell_type": "markdown",
   "source": [
    "- `np.inner`两个数组的内积"
   ],
   "metadata": {
    "collapsed": false
   }
  },
  {
   "cell_type": "code",
   "execution_count": 7,
   "outputs": [
    {
     "data": {
      "text/plain": "array([[ 5, 11],\n       [11, 25]])"
     },
     "metadata": {},
     "output_type": "execute_result",
     "execution_count": 7
    }
   ],
   "source": [
    "np.inner(a,b)"
   ],
   "metadata": {
    "collapsed": false,
    "pycharm": {
     "name": "#%%\n",
     "is_executing": false
    }
   }
  },
  {
   "cell_type": "markdown",
   "source": [
    "- `np.outer`计算两个向量的外积"
   ],
   "metadata": {
    "collapsed": false
   }
  },
  {
   "cell_type": "code",
   "execution_count": 8,
   "outputs": [
    {
     "data": {
      "text/plain": "array([[ 1,  2,  3,  4],\n       [ 2,  4,  6,  8],\n       [ 3,  6,  9, 12],\n       [ 4,  8, 12, 16]])"
     },
     "metadata": {},
     "output_type": "execute_result",
     "execution_count": 8
    }
   ],
   "source": [
    "np.outer(a,b)"
   ],
   "metadata": {
    "collapsed": false,
    "pycharm": {
     "name": "#%%\n",
     "is_executing": false
    }
   }
  },
  {
   "cell_type": "markdown",
   "source": [
    "- `np.matmul`两个数组的矩阵乘积"
   ],
   "metadata": {
    "collapsed": false
   }
  },
  {
   "cell_type": "code",
   "execution_count": 9,
   "outputs": [
    {
     "data": {
      "text/plain": "array([[ 7, 10],\n       [15, 22]])"
     },
     "metadata": {},
     "output_type": "execute_result",
     "execution_count": 9
    }
   ],
   "source": [
    "np.matmul(a,b)"
   ],
   "metadata": {
    "collapsed": false,
    "pycharm": {
     "name": "#%%\n",
     "is_executing": false
    }
   }
  },
  {
   "cell_type": "markdown",
   "source": [
    "- `np.kron`Kronecker乘积"
   ],
   "metadata": {
    "collapsed": false
   }
  },
  {
   "cell_type": "code",
   "execution_count": 10,
   "outputs": [
    {
     "data": {
      "text/plain": "array([[ 1,  2,  2,  4],\n       [ 3,  4,  6,  8],\n       [ 3,  6,  4,  8],\n       [ 9, 12, 12, 16]])"
     },
     "metadata": {},
     "output_type": "execute_result",
     "execution_count": 10
    }
   ],
   "source": [
    "np.kron(a,b)"
   ],
   "metadata": {
    "collapsed": false,
    "pycharm": {
     "name": "#%%\n",
     "is_executing": false
    }
   }
  },
  {
   "cell_type": "markdown",
   "source": [
    "## 矩阵分解"
   ],
   "metadata": {
    "collapsed": false,
    "pycharm": {
     "name": "#%% md\n"
    }
   }
  },
  {
   "cell_type": "markdown",
   "source": [
    "- `np.linalg.cholesky`Cholesky 分解"
   ],
   "metadata": {
    "collapsed": false
   }
  },
  {
   "cell_type": "code",
   "execution_count": 17,
   "outputs": [
    {
     "data": {
      "text/plain": "array([[1.        , 0.        ],\n       [1.        , 1.41421356]])"
     },
     "metadata": {},
     "output_type": "execute_result",
     "execution_count": 17
    }
   ],
   "source": [
    "A=  np.array([\n",
    "    [1,3],\n",
    "    [1,3]\n",
    "])\n",
    "L = np.linalg.cholesky(A)\n",
    "L"
   ],
   "metadata": {
    "collapsed": false,
    "pycharm": {
     "name": "#%%\n",
     "is_executing": false
    }
   }
  },
  {
   "cell_type": "markdown",
   "source": [
    "- `np.linalg.qr` QR 分解"
   ],
   "metadata": {
    "collapsed": false
   }
  },
  {
   "cell_type": "code",
   "execution_count": 21,
   "outputs": [
    {
     "data": {
      "text/plain": "array([[-2.44948974, -1.63299316],\n       [ 0.        ,  1.15470054]])"
     },
     "metadata": {},
     "output_type": "execute_result",
     "execution_count": 21
    }
   ],
   "source": [
    "A = np.array([[0, 1], [1, 1], [1, 1], [2, 1]])\n",
    "q, r = np.linalg.qr(A)\n",
    "q"
   ],
   "metadata": {
    "collapsed": false,
    "pycharm": {
     "name": "#%%\n",
     "is_executing": false
    }
   }
  },
  {
   "cell_type": "code",
   "execution_count": 22,
   "outputs": [
    {
     "data": {
      "text/plain": "array([[-2.44948974, -1.63299316],\n       [ 0.        ,  1.15470054]])"
     },
     "metadata": {},
     "output_type": "execute_result",
     "execution_count": 22
    }
   ],
   "source": [
    "r"
   ],
   "metadata": {
    "collapsed": false,
    "pycharm": {
     "name": "#%% \n",
     "is_executing": false
    }
   }
  },
  {
   "cell_type": "markdown",
   "source": [
    "- `np.linalg.svd`奇异分解"
   ],
   "metadata": {
    "collapsed": false,
    "pycharm": {
     "name": "#%% md\n"
    }
   }
  },
  {
   "cell_type": "code",
   "execution_count": 59,
   "outputs": [],
   "source": [
    "A = np.array([[0, 1], [1, 1], [1, 1], [2, 1]])\n",
    "u, s, vh = np.linalg.svd(A)"
   ],
   "metadata": {
    "collapsed": false,
    "pycharm": {
     "name": "#%%\n",
     "is_executing": false
    }
   }
  },
  {
   "cell_type": "code",
   "execution_count": 28,
   "outputs": [
    {
     "data": {
      "text/plain": "array([[-0.20374866,  0.84171639, -0.33061251,  0.37509381],\n       [-0.46470513,  0.18452409, -0.19985025, -0.84265051],\n       [-0.46470513,  0.18452409,  0.86107527,  0.09246288],\n       [-0.72566161, -0.47266821, -0.33061251,  0.37509381]])"
     },
     "metadata": {},
     "output_type": "execute_result",
     "execution_count": 28
    }
   ],
   "source": [
    "u"
   ],
   "metadata": {
    "collapsed": false,
    "pycharm": {
     "name": "#%%\n",
     "is_executing": false
    }
   }
  },
  {
   "cell_type": "code",
   "execution_count": 29,
   "outputs": [
    {
     "data": {
      "text/plain": "array([3.02044792, 0.93642638])"
     },
     "metadata": {},
     "output_type": "execute_result",
     "execution_count": 29
    }
   ],
   "source": [
    "s"
   ],
   "metadata": {
    "collapsed": false,
    "pycharm": {
     "name": "#%%\n",
     "is_executing": false
    }
   }
  },
  {
   "cell_type": "code",
   "execution_count": 30,
   "outputs": [
    {
     "data": {
      "text/plain": "array([[-0.78820544, -0.61541221],\n       [-0.61541221,  0.78820544]])"
     },
     "metadata": {},
     "output_type": "execute_result",
     "execution_count": 30
    }
   ],
   "source": [
    "vh\n"
   ],
   "metadata": {
    "collapsed": false,
    "pycharm": {
     "name": "#%%\n",
     "is_executing": false
    }
   }
  },
  {
   "cell_type": "markdown",
   "source": [
    "## 其他\n",
    "- `np.linalg.solve`求解线性矩阵方程或线性标量方程组 "
   ],
   "metadata": {
    "collapsed": false,
    "pycharm": {
     "name": "#%% md\n"
    }
   }
  },
  {
   "cell_type": "code",
   "execution_count": 41,
   "outputs": [
    {
     "data": {
      "text/plain": "array([2., 3.])"
     },
     "metadata": {},
     "output_type": "execute_result",
     "execution_count": 41
    }
   ],
   "source": [
    "a = np.array([[3,1], [1,2]])\n",
    "b = np.array([9,8])\n",
    "x = np.linalg.solve(a, b)\n",
    "x"
   ],
   "metadata": {
    "collapsed": false,
    "pycharm": {
     "name": "#%%\n",
     "is_executing": false
    }
   }
  },
  {
   "cell_type": "code",
   "execution_count": 42,
   "outputs": [
    {
     "data": {
      "text/plain": "True"
     },
     "metadata": {},
     "output_type": "execute_result",
     "execution_count": 42
    }
   ],
   "source": [
    "np.allclose(np.tensordot(a, x, axes=1), b)"
   ],
   "metadata": {
    "collapsed": false,
    "pycharm": {
     "name": "#%%\n",
     "is_executing": false
    }
   }
  },
  {
   "cell_type": "markdown",
   "source": [
    "- `np.linalg.tensorsolve`对x求解张量方程a x = b。"
   ],
   "metadata": {
    "collapsed": false
   }
  },
  {
   "cell_type": "code",
   "execution_count": 43,
   "outputs": [
    {
     "data": {
      "text/plain": "array([2., 3.])"
     },
     "metadata": {},
     "output_type": "execute_result",
     "execution_count": 43
    }
   ],
   "source": [
    "a = np.array([[3,1], [1,2]])\n",
    "b = np.array([9,8])\n",
    "x = np.linalg.tensorsolve(a, b)\n",
    "x"
   ],
   "metadata": {
    "collapsed": false,
    "pycharm": {
     "name": "#%%\n",
     "is_executing": false
    }
   }
  },
  {
   "cell_type": "code",
   "execution_count": 44,
   "outputs": [
    {
     "data": {
      "text/plain": "True"
     },
     "metadata": {},
     "output_type": "execute_result",
     "execution_count": 44
    }
   ],
   "source": [
    "np.allclose(np.tensordot(a, x, axes=1), b)"
   ],
   "metadata": {
    "collapsed": false,
    "pycharm": {
     "name": "#%%\n",
     "is_executing": false
    }
   }
  },
  {
   "cell_type": "markdown",
   "source": [
    "- `np.linalg.lstsq`返回线性矩阵方程的最小二乘解"
   ],
   "metadata": {
    "collapsed": false
   }
  },
  {
   "cell_type": "code",
   "execution_count": 49,
   "outputs": [
    {
     "data": {
      "text/plain": "(0.9999999999999999, -0.9499999999999997)"
     },
     "metadata": {},
     "output_type": "execute_result",
     "execution_count": 49
    }
   ],
   "source": [
    "x = np.array([0, 1, 2, 3])\n",
    "y = np.array([-1, 0.2, 0.9, 2.1])\n",
    "A = np.vstack([x, np.ones(len(x))]).T\n",
    "m, c = np.linalg.lstsq(A, y, rcond=None)[0]\n",
    "(m,c)"
   ],
   "metadata": {
    "collapsed": false,
    "pycharm": {
     "name": "#%%\n",
     "is_executing": false
    }
   }
  },
  {
   "cell_type": "markdown",
   "source": [
    "- `np.linalg.inv`求逆矩阵"
   ],
   "metadata": {
    "collapsed": false
   }
  },
  {
   "cell_type": "code",
   "execution_count": 50,
   "outputs": [
    {
     "data": {
      "text/plain": "array([[-2. ,  1. ],\n       [ 1.5, -0.5]])"
     },
     "metadata": {},
     "output_type": "execute_result",
     "execution_count": 50
    }
   ],
   "source": [
    "a = np.array([[1., 2.], [3., 4.]])\n",
    "np.linalg.inv(a)"
   ],
   "metadata": {
    "collapsed": false,
    "pycharm": {
     "name": "#%%\n",
     "is_executing": false
    }
   }
  },
  {
   "cell_type": "markdown",
   "source": [
    "- `np.linalg.pinv`伪逆矩阵"
   ],
   "metadata": {
    "collapsed": false
   }
  },
  {
   "cell_type": "code",
   "execution_count": 51,
   "outputs": [
    {
     "data": {
      "text/plain": "array([[ 0.10260931, -0.10522441, -0.25414171,  0.05881647,  0.06097556,\n        -0.00196579,  0.0833756 , -0.09219846,  0.11423058],\n       [ 0.33274769, -0.69678795, -0.03102913, -0.32111589,  0.11040638,\n        -0.52829896,  0.11165537, -0.20432787,  0.44413509],\n       [-0.19509093,  0.33703715, -0.01012723,  0.35507018,  0.06873478,\n         0.33434522, -0.25834098,  0.10371736, -0.19451881],\n       [ 0.25839757, -0.20193452,  0.02801389, -0.43954135,  0.17414198,\n        -0.14981802,  0.04243574, -0.10099703,  0.28628872],\n       [-0.11062591,  0.35905905, -0.01026444,  0.05262695,  0.16050458,\n         0.08394923, -0.09299729,  0.14463897, -0.33686455],\n       [-0.15089442,  0.48359936, -0.18790734, -0.13368641, -0.05485233,\n        -0.00468638,  0.00693476, -0.10534536, -0.07393006]])"
     },
     "metadata": {},
     "output_type": "execute_result",
     "execution_count": 51
    }
   ],
   "source": [
    "a = np.random.randn(9, 6)\n",
    "B = np.linalg.pinv(a)\n",
    "B"
   ],
   "metadata": {
    "collapsed": false,
    "pycharm": {
     "name": "#%%\n",
     "is_executing": false
    }
   }
  },
  {
   "cell_type": "code",
   "execution_count": 52,
   "outputs": [
    {
     "data": {
      "text/plain": "True"
     },
     "metadata": {},
     "output_type": "execute_result",
     "execution_count": 52
    }
   ],
   "source": [
    "np.allclose(a, np.dot(a, np.dot(B, a)))"
   ],
   "metadata": {
    "collapsed": false,
    "pycharm": {
     "name": "#%% \n",
     "is_executing": false
    }
   }
  },
  {
   "cell_type": "code",
   "execution_count": 53,
   "outputs": [
    {
     "data": {
      "text/plain": "True"
     },
     "metadata": {},
     "output_type": "execute_result",
     "execution_count": 53
    }
   ],
   "source": [
    "np.allclose(B, np.dot(B, np.dot(a, B)))"
   ],
   "metadata": {
    "collapsed": false,
    "pycharm": {
     "name": "#%%\n",
     "is_executing": false
    }
   }
  },
  {
   "cell_type": "markdown",
   "source": [
    "- `np.linalg.tensorinv`N维逆"
   ],
   "metadata": {
    "collapsed": false
   }
  },
  {
   "cell_type": "code",
   "execution_count": 57,
   "outputs": [
    {
     "data": {
      "text/plain": "array([[[[1., 0., 0., 0., 0., 0.],\n         [0., 0., 0., 0., 0., 0.],\n         [0., 0., 0., 0., 0., 0.],\n         [0., 0., 0., 0., 0., 0.]],\n\n        [[0., 1., 0., 0., 0., 0.],\n         [0., 0., 0., 0., 0., 0.],\n         [0., 0., 0., 0., 0., 0.],\n         [0., 0., 0., 0., 0., 0.]],\n\n        [[0., 0., 1., 0., 0., 0.],\n         [0., 0., 0., 0., 0., 0.],\n         [0., 0., 0., 0., 0., 0.],\n         [0., 0., 0., 0., 0., 0.]]],\n\n\n       [[[0., 0., 0., 1., 0., 0.],\n         [0., 0., 0., 0., 0., 0.],\n         [0., 0., 0., 0., 0., 0.],\n         [0., 0., 0., 0., 0., 0.]],\n\n        [[0., 0., 0., 0., 1., 0.],\n         [0., 0., 0., 0., 0., 0.],\n         [0., 0., 0., 0., 0., 0.],\n         [0., 0., 0., 0., 0., 0.]],\n\n        [[0., 0., 0., 0., 0., 1.],\n         [0., 0., 0., 0., 0., 0.],\n         [0., 0., 0., 0., 0., 0.],\n         [0., 0., 0., 0., 0., 0.]]],\n\n\n       [[[0., 0., 0., 0., 0., 0.],\n         [1., 0., 0., 0., 0., 0.],\n         [0., 0., 0., 0., 0., 0.],\n         [0., 0., 0., 0., 0., 0.]],\n\n        [[0., 0., 0., 0., 0., 0.],\n         [0., 1., 0., 0., 0., 0.],\n         [0., 0., 0., 0., 0., 0.],\n         [0., 0., 0., 0., 0., 0.]],\n\n        [[0., 0., 0., 0., 0., 0.],\n         [0., 0., 1., 0., 0., 0.],\n         [0., 0., 0., 0., 0., 0.],\n         [0., 0., 0., 0., 0., 0.]]],\n\n\n       [[[0., 0., 0., 0., 0., 0.],\n         [0., 0., 0., 1., 0., 0.],\n         [0., 0., 0., 0., 0., 0.],\n         [0., 0., 0., 0., 0., 0.]],\n\n        [[0., 0., 0., 0., 0., 0.],\n         [0., 0., 0., 0., 1., 0.],\n         [0., 0., 0., 0., 0., 0.],\n         [0., 0., 0., 0., 0., 0.]],\n\n        [[0., 0., 0., 0., 0., 0.],\n         [0., 0., 0., 0., 0., 1.],\n         [0., 0., 0., 0., 0., 0.],\n         [0., 0., 0., 0., 0., 0.]]],\n\n\n       [[[0., 0., 0., 0., 0., 0.],\n         [0., 0., 0., 0., 0., 0.],\n         [1., 0., 0., 0., 0., 0.],\n         [0., 0., 0., 0., 0., 0.]],\n\n        [[0., 0., 0., 0., 0., 0.],\n         [0., 0., 0., 0., 0., 0.],\n         [0., 1., 0., 0., 0., 0.],\n         [0., 0., 0., 0., 0., 0.]],\n\n        [[0., 0., 0., 0., 0., 0.],\n         [0., 0., 0., 0., 0., 0.],\n         [0., 0., 1., 0., 0., 0.],\n         [0., 0., 0., 0., 0., 0.]]],\n\n\n       [[[0., 0., 0., 0., 0., 0.],\n         [0., 0., 0., 0., 0., 0.],\n         [0., 0., 0., 1., 0., 0.],\n         [0., 0., 0., 0., 0., 0.]],\n\n        [[0., 0., 0., 0., 0., 0.],\n         [0., 0., 0., 0., 0., 0.],\n         [0., 0., 0., 0., 1., 0.],\n         [0., 0., 0., 0., 0., 0.]],\n\n        [[0., 0., 0., 0., 0., 0.],\n         [0., 0., 0., 0., 0., 0.],\n         [0., 0., 0., 0., 0., 1.],\n         [0., 0., 0., 0., 0., 0.]]],\n\n\n       [[[0., 0., 0., 0., 0., 0.],\n         [0., 0., 0., 0., 0., 0.],\n         [0., 0., 0., 0., 0., 0.],\n         [1., 0., 0., 0., 0., 0.]],\n\n        [[0., 0., 0., 0., 0., 0.],\n         [0., 0., 0., 0., 0., 0.],\n         [0., 0., 0., 0., 0., 0.],\n         [0., 1., 0., 0., 0., 0.]],\n\n        [[0., 0., 0., 0., 0., 0.],\n         [0., 0., 0., 0., 0., 0.],\n         [0., 0., 0., 0., 0., 0.],\n         [0., 0., 1., 0., 0., 0.]]],\n\n\n       [[[0., 0., 0., 0., 0., 0.],\n         [0., 0., 0., 0., 0., 0.],\n         [0., 0., 0., 0., 0., 0.],\n         [0., 0., 0., 1., 0., 0.]],\n\n        [[0., 0., 0., 0., 0., 0.],\n         [0., 0., 0., 0., 0., 0.],\n         [0., 0., 0., 0., 0., 0.],\n         [0., 0., 0., 0., 1., 0.]],\n\n        [[0., 0., 0., 0., 0., 0.],\n         [0., 0., 0., 0., 0., 0.],\n         [0., 0., 0., 0., 0., 0.],\n         [0., 0., 0., 0., 0., 1.]]]])"
     },
     "metadata": {},
     "output_type": "execute_result",
     "execution_count": 57
    }
   ],
   "source": [
    "a=  np.eye(4*6)\n",
    "a.shape = (4, 6, 8, 3)\n",
    "ainv = np.linalg.tensorinv(a, )\n",
    "ainv"
   ],
   "metadata": {
    "collapsed": false,
    "pycharm": {
     "name": "#%%\n",
     "is_executing": false
    }
   }
  }
 ],
 "metadata": {
  "kernelspec": {
   "display_name": "Python 3",
   "language": "python",
   "name": "python3"
  },
  "language_info": {
   "codemirror_mode": {
    "name": "ipython",
    "version": 2
   },
   "file_extension": ".py",
   "mimetype": "text/x-python",
   "name": "python",
   "nbconvert_exporter": "python",
   "pygments_lexer": "ipython2",
   "version": "2.7.6"
  },
  "pycharm": {
   "stem_cell": {
    "cell_type": "raw",
    "source": [],
    "metadata": {
     "collapsed": false
    }
   }
  }
 },
 "nbformat": 4,
 "nbformat_minor": 0
}