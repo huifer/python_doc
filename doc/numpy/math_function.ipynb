{
 "cells": [
  {
   "cell_type": "markdown",
   "source": [
    "# NumPy 数额学函数\n",
    "\n",
    "## sin 正弦"
   ],
   "metadata": {
    "collapsed": false,
    "pycharm": {
     "name": "#%% md\n"
    }
   }
  },
  {
   "cell_type": "code",
   "execution_count": 284,
   "outputs": [
    {
     "data": {
      "text/plain": "array([ 0.84147098,  0.90929743,  0.14112001, -0.7568025 , -0.95892427,\n       -0.2794155 ,  0.6569866 ,  0.98935825,  0.41211849, -0.54402111])"
     },
     "metadata": {},
     "output_type": "execute_result",
     "execution_count": 284
    }
   ],
   "source": [
    "import numpy as np \n",
    "x = np.arange(11)[1:]\n",
    "np.sin(x)"
   ],
   "metadata": {
    "collapsed": false,
    "pycharm": {
     "name": "#%%\n",
     "is_executing": false
    }
   }
  },
  {
   "cell_type": "markdown",
   "source": [
    "## cos 余弦"
   ],
   "metadata": {
    "collapsed": false,
    "pycharm": {
     "name": "#%% md\n"
    }
   }
  },
  {
   "cell_type": "code",
   "execution_count": 285,
   "outputs": [
    {
     "data": {
      "text/plain": "array([ 0.54030231, -0.41614684, -0.9899925 , -0.65364362,  0.28366219,\n        0.96017029,  0.75390225, -0.14550003, -0.91113026, -0.83907153])"
     },
     "metadata": {},
     "output_type": "execute_result",
     "execution_count": 285
    }
   ],
   "source": [
    "np.cos(x)"
   ],
   "metadata": {
    "collapsed": false,
    "pycharm": {
     "name": "#%%\n",
     "is_executing": false
    }
   }
  },
  {
   "cell_type": "markdown",
   "source": [
    "## tan 正切\n",
    "np.tan(x)"
   ],
   "metadata": {
    "collapsed": false
   }
  },
  {
   "cell_type": "code",
   "execution_count": 286,
   "outputs": [
    {
     "data": {
      "text/plain": "array([ 1.55740772, -2.18503986, -0.14254654,  1.15782128, -3.38051501,\n       -0.29100619,  0.87144798, -6.79971146, -0.45231566,  0.64836083])"
     },
     "metadata": {},
     "output_type": "execute_result",
     "execution_count": 286
    }
   ],
   "source": [
    "np.tan(x)"
   ],
   "metadata": {
    "collapsed": false,
    "pycharm": {
     "name": "#%%\n",
     "is_executing": false
    }
   }
  },
  {
   "cell_type": "markdown",
   "source": [
    "## arcsin 反正弦"
   ],
   "metadata": {
    "collapsed": false
   }
  },
  {
   "cell_type": "code",
   "execution_count": 287,
   "outputs": [
    {
     "name": "stderr",
     "text": [
      "e:\\pycharm_project\\python_doc\\venv2\\lib\\site-packages\\ipykernel_launcher.py:1: RuntimeWarning: invalid value encountered in arcsin\n  \"\"\"Entry point for launching an IPython kernel.\n"
     ],
     "output_type": "stream"
    },
    {
     "data": {
      "text/plain": "array([1.57079633,        nan,        nan,        nan,        nan,\n              nan,        nan,        nan,        nan,        nan])"
     },
     "metadata": {},
     "output_type": "execute_result",
     "execution_count": 287
    }
   ],
   "source": [
    "np.arcsin(x)"
   ],
   "metadata": {
    "collapsed": false,
    "pycharm": {
     "name": "#%%\n",
     "is_executing": false
    }
   }
  },
  {
   "cell_type": "markdown",
   "source": [
    "## arccos 反余弦"
   ],
   "metadata": {
    "collapsed": false
   }
  },
  {
   "cell_type": "code",
   "execution_count": 288,
   "outputs": [
    {
     "name": "stderr",
     "text": [
      "e:\\pycharm_project\\python_doc\\venv2\\lib\\site-packages\\ipykernel_launcher.py:1: RuntimeWarning: invalid value encountered in arccos\n  \"\"\"Entry point for launching an IPython kernel.\n"
     ],
     "output_type": "stream"
    },
    {
     "data": {
      "text/plain": "array([ 0., nan, nan, nan, nan, nan, nan, nan, nan, nan])"
     },
     "metadata": {},
     "output_type": "execute_result",
     "execution_count": 288
    }
   ],
   "source": [
    "np.arccos(x)"
   ],
   "metadata": {
    "collapsed": false,
    "pycharm": {
     "name": "#%%\n",
     "is_executing": false
    }
   }
  },
  {
   "cell_type": "markdown",
   "source": [
    "## arctan 反正切"
   ],
   "metadata": {
    "collapsed": false
   }
  },
  {
   "cell_type": "code",
   "execution_count": 289,
   "outputs": [
    {
     "data": {
      "text/plain": "array([0.78539816, 1.10714872, 1.24904577, 1.32581766, 1.37340077,\n       1.40564765, 1.42889927, 1.44644133, 1.46013911, 1.47112767])"
     },
     "metadata": {},
     "output_type": "execute_result",
     "execution_count": 289
    }
   ],
   "source": [
    "np.arctan(x)"
   ],
   "metadata": {
    "collapsed": false,
    "pycharm": {
     "name": "#%%\n",
     "is_executing": false
    }
   }
  },
  {
   "cell_type": "markdown",
   "source": [
    "## sinh 双曲正弦"
   ],
   "metadata": {
    "collapsed": false,
    "pycharm": {
     "name": "#%% md\n"
    }
   }
  },
  {
   "cell_type": "code",
   "execution_count": 290,
   "outputs": [
    {
     "data": {
      "text/plain": "array([1.17520119e+00, 3.62686041e+00, 1.00178749e+01, 2.72899172e+01,\n       7.42032106e+01, 2.01713157e+02, 5.48316123e+02, 1.49047883e+03,\n       4.05154190e+03, 1.10132329e+04])"
     },
     "metadata": {},
     "output_type": "execute_result",
     "execution_count": 290
    }
   ],
   "source": [
    "np.sinh(x)"
   ],
   "metadata": {
    "collapsed": false,
    "pycharm": {
     "name": "#%%\n",
     "is_executing": false
    }
   }
  },
  {
   "cell_type": "markdown",
   "source": [
    "## cosh 双曲余弦"
   ],
   "metadata": {
    "collapsed": false,
    "pycharm": {
     "name": "#%% md\n"
    }
   }
  },
  {
   "cell_type": "code",
   "execution_count": 291,
   "outputs": [
    {
     "data": {
      "text/plain": "array([1.54308063e+00, 3.76219569e+00, 1.00676620e+01, 2.73082328e+01,\n       7.42099485e+01, 2.01715636e+02, 5.48317035e+02, 1.49047916e+03,\n       4.05154203e+03, 1.10132329e+04])"
     },
     "metadata": {},
     "output_type": "execute_result",
     "execution_count": 291
    }
   ],
   "source": [
    "np.cosh(x)"
   ],
   "metadata": {
    "collapsed": false,
    "pycharm": {
     "name": "#%%\n",
     "is_executing": false
    }
   }
  },
  {
   "cell_type": "markdown",
   "source": [
    "## tanh 双曲正切"
   ],
   "metadata": {
    "collapsed": false
   }
  },
  {
   "cell_type": "code",
   "execution_count": 292,
   "outputs": [
    {
     "data": {
      "text/plain": "array([0.76159416, 0.96402758, 0.99505475, 0.9993293 , 0.9999092 ,\n       0.99998771, 0.99999834, 0.99999977, 0.99999997, 1.        ])"
     },
     "metadata": {},
     "output_type": "execute_result",
     "execution_count": 292
    }
   ],
   "source": [
    "np.tanh(x)"
   ],
   "metadata": {
    "collapsed": false,
    "pycharm": {
     "name": "#%%\n",
     "is_executing": false
    }
   }
  },
  {
   "cell_type": "markdown",
   "source": [
    "## arcsinh 反双曲正弦"
   ],
   "metadata": {
    "collapsed": false
   }
  },
  {
   "cell_type": "code",
   "execution_count": 293,
   "outputs": [
    {
     "data": {
      "text/plain": "array([0.88137359, 1.44363548, 1.81844646, 2.09471255, 2.31243834,\n       2.49177985, 2.64412076, 2.77647228, 2.89344399, 2.99822295])"
     },
     "metadata": {},
     "output_type": "execute_result",
     "execution_count": 293
    }
   ],
   "source": [
    "np.arcsinh(x)"
   ],
   "metadata": {
    "collapsed": false,
    "pycharm": {
     "name": "#%%\n",
     "is_executing": false
    }
   }
  },
  {
   "cell_type": "markdown",
   "source": [
    "## arccosh 反双曲余弦"
   ],
   "metadata": {
    "collapsed": false
   }
  },
  {
   "cell_type": "code",
   "execution_count": 294,
   "outputs": [
    {
     "data": {
      "text/plain": "array([0.        , 1.3169579 , 1.76274717, 2.06343707, 2.29243167,\n       2.47788873, 2.63391579, 2.76865938, 2.88727095, 2.99322285])"
     },
     "metadata": {},
     "output_type": "execute_result",
     "execution_count": 294
    }
   ],
   "source": [
    "np.arccosh(x)"
   ],
   "metadata": {
    "collapsed": false,
    "pycharm": {
     "name": "#%%\n",
     "is_executing": false
    }
   }
  },
  {
   "cell_type": "markdown",
   "source": [
    "## arctanh 反双曲正切"
   ],
   "metadata": {
    "collapsed": false
   }
  },
  {
   "cell_type": "code",
   "execution_count": 295,
   "outputs": [
    {
     "data": {
      "text/plain": "array([0.        , 0.54930614])"
     },
     "metadata": {},
     "output_type": "execute_result",
     "execution_count": 295
    }
   ],
   "source": [
    "np.arctanh([0,0.5])"
   ],
   "metadata": {
    "collapsed": false,
    "pycharm": {
     "name": "#%%\n",
     "is_executing": false
    }
   }
  },
  {
   "cell_type": "markdown",
   "source": [
    "## hypot 斜边长"
   ],
   "metadata": {
    "collapsed": false
   }
  },
  {
   "cell_type": "code",
   "execution_count": 348,
   "outputs": [
    {
     "data": {
      "text/plain": "5.0"
     },
     "metadata": {},
     "output_type": "execute_result",
     "execution_count": 348
    }
   ],
   "source": [
    "np.hypot(3,4)"
   ],
   "metadata": {
    "collapsed": false,
    "pycharm": {
     "name": "#%%\n",
     "is_executing": false
    }
   }
  },
  {
   "cell_type": "markdown",
   "source": [
    "## arctan2"
   ],
   "metadata": {
    "collapsed": false
   }
  },
  {
   "cell_type": "code",
   "execution_count": 351,
   "outputs": [
    {
     "data": {
      "text/plain": "array([26.56505118, 45.        , 56.30993247])"
     },
     "metadata": {},
     "output_type": "execute_result",
     "execution_count": 351
    }
   ],
   "source": [
    "np.arctan2(x,2)"
   ],
   "metadata": {
    "collapsed": false,
    "pycharm": {
     "name": "#%%\n",
     "is_executing": false
    }
   }
  },
  {
   "cell_type": "markdown",
   "source": [
    "## degrees 度"
   ],
   "metadata": {
    "collapsed": false
   }
  },
  {
   "cell_type": "code",
   "execution_count": 353,
   "outputs": [
    {
     "data": {
      "text/plain": "array([ 57.29577951, 114.59155903, 171.88733854])"
     },
     "metadata": {},
     "output_type": "execute_result",
     "execution_count": 353
    }
   ],
   "source": [
    "np.degrees(x)"
   ],
   "metadata": {
    "collapsed": false,
    "pycharm": {
     "name": "#%%\n",
     "is_executing": false
    }
   }
  },
  {
   "cell_type": "markdown",
   "source": [
    "## radians 弧度"
   ],
   "metadata": {
    "collapsed": false
   }
  },
  {
   "cell_type": "code",
   "execution_count": 352,
   "outputs": [
    {
     "data": {
      "text/plain": "array([0.01745329, 0.03490659, 0.05235988])"
     },
     "metadata": {},
     "output_type": "execute_result",
     "execution_count": 352
    }
   ],
   "source": [
    "np.radians(x)"
   ],
   "metadata": {
    "collapsed": false,
    "pycharm": {
     "name": "#%%\n",
     "is_executing": false
    }
   }
  },
  {
   "cell_type": "markdown",
   "source": [
    "## deg2rad 度转弧度"
   ],
   "metadata": {
    "collapsed": false
   }
  },
  {
   "cell_type": "code",
   "execution_count": 300,
   "outputs": [
    {
     "data": {
      "text/plain": "array([0.01745329, 0.03490659, 0.05235988, 0.06981317, 0.08726646,\n       0.10471976, 0.12217305, 0.13962634, 0.15707963, 0.17453293])"
     },
     "metadata": {},
     "output_type": "execute_result",
     "execution_count": 300
    }
   ],
   "source": [
    "np.deg2rad(x)"
   ],
   "metadata": {
    "collapsed": false,
    "pycharm": {
     "name": "#%%\n",
     "is_executing": false
    }
   }
  },
  {
   "cell_type": "markdown",
   "source": [
    "## rad2deg 弧度转度"
   ],
   "metadata": {
    "collapsed": false
   }
  },
  {
   "cell_type": "code",
   "execution_count": 301,
   "outputs": [
    {
     "data": {
      "text/plain": "array([ 57.29577951, 114.59155903, 171.88733854, 229.18311805,\n       286.47889757, 343.77467708, 401.07045659, 458.3662361 ,\n       515.66201562, 572.95779513])"
     },
     "metadata": {},
     "output_type": "execute_result",
     "execution_count": 301
    }
   ],
   "source": [
    "np.rad2deg(x)"
   ],
   "metadata": {
    "collapsed": false,
    "pycharm": {
     "name": "#%%\n",
     "is_executing": false
    }
   }
  },
  {
   "cell_type": "markdown",
   "metadata": {
    "collapsed": true,
    "pycharm": {
     "is_executing": false,
     "name": "#%% md\n"
    }
   },
   "source": [
    "## floor 向下取整 "
   ]
  },
  {
   "cell_type": "code",
   "execution_count": 302,
   "outputs": [
    {
     "data": {
      "text/plain": "array([0., 6., 5., 6., 1., 4., 8., 1., 7., 2.])"
     },
     "metadata": {},
     "output_type": "execute_result",
     "execution_count": 302
    }
   ],
   "source": [
    "a = np.random.random(10)*10\n",
    "np.floor(a)"
   ],
   "metadata": {
    "collapsed": false,
    "pycharm": {
     "name": "#%%\n",
     "is_executing": false
    }
   }
  },
  {
   "cell_type": "markdown",
   "source": [
    "## around 四舍五入"
   ],
   "metadata": {
    "collapsed": false,
    "pycharm": {
     "name": "#%% md\n"
    }
   }
  },
  {
   "cell_type": "code",
   "execution_count": 303,
   "outputs": [
    {
     "data": {
      "text/plain": "array([0., 6., 5., 7., 1., 5., 9., 2., 7., 3.])"
     },
     "metadata": {},
     "output_type": "execute_result",
     "execution_count": 303
    }
   ],
   "source": [
    "np.around(a)"
   ],
   "metadata": {
    "collapsed": false,
    "pycharm": {
     "name": "#%%\n",
     "is_executing": false
    }
   }
  },
  {
   "cell_type": "markdown",
   "source": [
    "## round 四舍五入"
   ],
   "metadata": {
    "collapsed": false
   }
  },
  {
   "cell_type": "code",
   "execution_count": 304,
   "outputs": [
    {
     "data": {
      "text/plain": "array([0., 6., 5., 7., 1., 5., 9., 2., 7., 3.])"
     },
     "metadata": {},
     "output_type": "execute_result",
     "execution_count": 304
    }
   ],
   "source": [
    "np.round(a)"
   ],
   "metadata": {
    "collapsed": false,
    "pycharm": {
     "name": "#%%\n",
     "is_executing": false
    }
   }
  },
  {
   "cell_type": "markdown",
   "source": [
    "## rint 距离0远的方向取整"
   ],
   "metadata": {
    "collapsed": false
   }
  },
  {
   "cell_type": "code",
   "execution_count": 355,
   "outputs": [
    {
     "data": {
      "text/plain": "1.0"
     },
     "metadata": {},
     "output_type": "execute_result",
     "execution_count": 355
    }
   ],
   "source": [
    "np.rint(1.2)"
   ],
   "metadata": {
    "collapsed": false,
    "pycharm": {
     "name": "#%%\n",
     "is_executing": false
    }
   }
  },
  {
   "cell_type": "code",
   "execution_count": 359,
   "outputs": [
    {
     "data": {
      "text/plain": "-1.0"
     },
     "metadata": {},
     "output_type": "execute_result",
     "execution_count": 359
    }
   ],
   "source": [
    "np.rint(-1.2)"
   ],
   "metadata": {
    "collapsed": false,
    "pycharm": {
     "name": "#%%\n",
     "is_executing": false
    }
   }
  },
  {
   "cell_type": "markdown",
   "source": [
    "## fix 切断取整"
   ],
   "metadata": {
    "collapsed": false
   }
  },
  {
   "cell_type": "code",
   "execution_count": 354,
   "outputs": [
    {
     "data": {
      "text/plain": "1.0"
     },
     "metadata": {},
     "output_type": "execute_result",
     "execution_count": 354
    }
   ],
   "source": [
    "np.fix(1.2)"
   ],
   "metadata": {
    "collapsed": false,
    "pycharm": {
     "name": "#%%\n",
     "is_executing": false
    }
   }
  },
  {
   "cell_type": "markdown",
   "source": [
    "## ceil 全部进位"
   ],
   "metadata": {
    "collapsed": false
   }
  },
  {
   "cell_type": "code",
   "execution_count": null,
   "outputs": [],
   "source": [
    "np.ceil(1.1)"
   ],
   "metadata": {
    "collapsed": false,
    "pycharm": {
     "name": "#%%\n"
    }
   }
  },
  {
   "cell_type": "code",
   "execution_count": 362,
   "outputs": [
    {
     "data": {
      "text/plain": "-1.0"
     },
     "metadata": {},
     "output_type": "execute_result",
     "execution_count": 362
    }
   ],
   "source": [
    "np.ceil(-1.1)"
   ],
   "metadata": {
    "collapsed": false,
    "pycharm": {
     "name": "#%%\n",
     "is_executing": false
    }
   }
  },
  {
   "cell_type": "markdown",
   "source": [
    "## trunc 全部舍去"
   ],
   "metadata": {
    "collapsed": false
   }
  },
  {
   "cell_type": "code",
   "execution_count": 363,
   "outputs": [
    {
     "data": {
      "text/plain": "1.0"
     },
     "metadata": {},
     "output_type": "execute_result",
     "execution_count": 363
    }
   ],
   "source": [
    "np.trunc(1.2)"
   ],
   "metadata": {
    "collapsed": false,
    "pycharm": {
     "name": "#%%\n",
     "is_executing": false
    }
   }
  },
  {
   "cell_type": "code",
   "execution_count": 364,
   "outputs": [
    {
     "data": {
      "text/plain": "-1.0"
     },
     "metadata": {},
     "output_type": "execute_result",
     "execution_count": 364
    }
   ],
   "source": [
    "np.trunc(-1.2)"
   ],
   "metadata": {
    "collapsed": false,
    "pycharm": {
     "name": "#%%\n",
     "is_executing": false
    }
   }
  },
  {
   "cell_type": "markdown",
   "source": [
    "## prod 相同维度乘积"
   ],
   "metadata": {
    "collapsed": false
   }
  },
  {
   "cell_type": "code",
   "execution_count": 309,
   "outputs": [
    {
     "data": {
      "text/plain": "18396.798070937864"
     },
     "metadata": {},
     "output_type": "execute_result",
     "execution_count": 309
    }
   ],
   "source": [
    "np.prod(a)"
   ],
   "metadata": {
    "collapsed": false,
    "pycharm": {
     "name": "#%%\n",
     "is_executing": false
    }
   }
  },
  {
   "cell_type": "markdown",
   "source": [
    "## sum 求和"
   ],
   "metadata": {
    "collapsed": false
   }
  },
  {
   "cell_type": "code",
   "execution_count": 310,
   "outputs": [
    {
     "data": {
      "text/plain": "44.45819594644647"
     },
     "metadata": {},
     "output_type": "execute_result",
     "execution_count": 310
    }
   ],
   "source": [
    "np.sum(a)"
   ],
   "metadata": {
    "collapsed": false,
    "pycharm": {
     "name": "#%%\n",
     "is_executing": false
    }
   }
  },
  {
   "cell_type": "markdown",
   "source": [
    "## nanprod 相同维度乘积(非数字当作nan)"
   ],
   "metadata": {
    "collapsed": false,
    "pycharm": {
     "name": "#%% md\n"
    }
   }
  },
  {
   "cell_type": "code",
   "execution_count": 311,
   "outputs": [
    {
     "data": {
      "text/plain": "18396.798070937864"
     },
     "metadata": {},
     "output_type": "execute_result",
     "execution_count": 311
    }
   ],
   "source": [
    "np.nanprod(a)"
   ],
   "metadata": {
    "collapsed": false,
    "pycharm": {
     "name": "#%%\n",
     "is_executing": false
    }
   }
  },
  {
   "cell_type": "markdown",
   "source": [
    "## nansum 求和(非数字当作nan)"
   ],
   "metadata": {
    "collapsed": false
   }
  },
  {
   "cell_type": "code",
   "execution_count": 312,
   "outputs": [
    {
     "data": {
      "text/plain": "2.7633115541437094"
     },
     "metadata": {},
     "output_type": "execute_result",
     "execution_count": 312
    }
   ],
   "source": [
    "np.nanstd(a) "
   ],
   "metadata": {
    "collapsed": false,
    "pycharm": {
     "name": "#%%\n",
     "is_executing": false
    }
   }
  },
  {
   "cell_type": "markdown",
   "source": [
    "## cumprod 累计乘积"
   ],
   "metadata": {
    "collapsed": false
   }
  },
  {
   "cell_type": "code",
   "execution_count": 313,
   "outputs": [
    {
     "data": {
      "text/plain": "array([5.92244615e-02, 3.77865154e-01, 2.01854434e+00, 1.31463792e+01,\n       1.36167954e+01, 6.39589101e+01, 5.62587952e+02, 8.67897738e+02,\n       6.17235787e+03, 1.83967981e+04])"
     },
     "metadata": {},
     "output_type": "execute_result",
     "execution_count": 313
    }
   ],
   "source": [
    "np.cumprod(a)"
   ],
   "metadata": {
    "collapsed": false,
    "pycharm": {
     "name": "#%%\n",
     "is_executing": false
    }
   }
  },
  {
   "cell_type": "markdown",
   "source": [
    "## cumsum 累计求和"
   ],
   "metadata": {
    "collapsed": false
   }
  },
  {
   "cell_type": "code",
   "execution_count": 314,
   "outputs": [
    {
     "data": {
      "text/plain": "array([ 0.05922446,  6.43944548, 11.78141553, 18.29421733, 19.33000027,\n       24.02706067, 32.82314476, 34.36583286, 41.4776821 , 44.45819595])"
     },
     "metadata": {},
     "output_type": "execute_result",
     "execution_count": 314
    }
   ],
   "source": [
    "np.cumsum(a)"
   ],
   "metadata": {
    "collapsed": false,
    "pycharm": {
     "name": "#%%\n",
     "is_executing": false
    }
   }
  },
  {
   "cell_type": "markdown",
   "source": [
    "## nancumprod"
   ],
   "metadata": {
    "collapsed": false
   }
  },
  {
   "cell_type": "code",
   "execution_count": 315,
   "outputs": [
    {
     "data": {
      "text/plain": "array([5.92244615e-02, 3.77865154e-01, 2.01854434e+00, 1.31463792e+01,\n       1.36167954e+01, 6.39589101e+01, 5.62587952e+02, 8.67897738e+02,\n       6.17235787e+03, 1.83967981e+04])"
     },
     "metadata": {},
     "output_type": "execute_result",
     "execution_count": 315
    }
   ],
   "source": [
    "np.nancumprod(a)"
   ],
   "metadata": {
    "collapsed": false,
    "pycharm": {
     "name": "#%%\n",
     "is_executing": false
    }
   }
  },
  {
   "cell_type": "markdown",
   "source": [
    "## nancumsum"
   ],
   "metadata": {
    "collapsed": false
   }
  },
  {
   "cell_type": "code",
   "execution_count": 316,
   "outputs": [
    {
     "data": {
      "text/plain": "array([ 0.05922446,  6.43944548, 11.78141553, 18.29421733, 19.33000027,\n       24.02706067, 32.82314476, 34.36583286, 41.4776821 , 44.45819595])"
     },
     "metadata": {},
     "output_type": "execute_result",
     "execution_count": 316
    }
   ],
   "source": [
    "np.nancumsum(a)"
   ],
   "metadata": {
    "collapsed": false,
    "pycharm": {
     "name": "#%%\n",
     "is_executing": false
    }
   }
  },
  {
   "cell_type": "markdown",
   "source": [
    "## gradient 倾斜度计算"
   ],
   "metadata": {
    "collapsed": false
   }
  },
  {
   "cell_type": "code",
   "execution_count": 317,
   "outputs": [
    {
     "data": {
      "text/plain": "array([ 6.32099655,  2.6413728 ,  0.06629039, -2.15309355, -0.9078707 ,\n        3.88015058, -1.57718615, -0.84211743,  0.71891287, -4.1313354 ])"
     },
     "metadata": {},
     "output_type": "execute_result",
     "execution_count": 317
    }
   ],
   "source": [
    "np.gradient(a)"
   ],
   "metadata": {
    "collapsed": false,
    "pycharm": {
     "name": "#%%\n",
     "is_executing": false
    }
   }
  },
  {
   "cell_type": "markdown",
   "source": [
    "## cross 向量积 "
   ],
   "metadata": {
    "collapsed": false
   }
  },
  {
   "cell_type": "code",
   "execution_count": 318,
   "outputs": [
    {
     "data": {
      "text/plain": "array([-3,  6, -3])"
     },
     "metadata": {},
     "output_type": "execute_result",
     "execution_count": 318
    }
   ],
   "source": [
    "x = [1, 2, 3]\n",
    "y = [4, 5, 6]\n",
    "np.cross(x, y)"
   ],
   "metadata": {
    "collapsed": false,
    "pycharm": {
     "name": "#%%\n",
     "is_executing": false
    }
   }
  },
  {
   "cell_type": "markdown",
   "source": [
    "## trapz 梯形数值积分"
   ],
   "metadata": {
    "collapsed": false
   }
  },
  {
   "cell_type": "code",
   "execution_count": 319,
   "outputs": [
    {
     "data": {
      "text/plain": "42.93832679419702"
     },
     "metadata": {},
     "output_type": "execute_result",
     "execution_count": 319
    }
   ],
   "source": [
    "np.trapz(a)"
   ],
   "metadata": {
    "collapsed": false,
    "pycharm": {
     "name": "#%%\n",
     "is_executing": false
    }
   }
  },
  {
   "cell_type": "markdown",
   "source": [
    "## exp 以e为底数的指数函数"
   ],
   "metadata": {
    "collapsed": false
   }
  },
  {
   "cell_type": "code",
   "execution_count": 320,
   "outputs": [
    {
     "data": {
      "text/plain": "array([1.06101337e+00, 5.90058105e+02, 2.08923896e+02, 6.73711379e+02,\n       2.81731117e+00, 1.09624446e+02, 6.60831575e+03, 4.67714601e+00,\n       1.22641339e+03, 1.96979357e+01])"
     },
     "metadata": {},
     "output_type": "execute_result",
     "execution_count": 320
    }
   ],
   "source": [
    "np.exp(a)"
   ],
   "metadata": {
    "collapsed": false,
    "pycharm": {
     "name": "#%%\n",
     "is_executing": false
    }
   }
  },
  {
   "cell_type": "markdown",
   "source": [
    "## expm1 exp(x) - 1 "
   ],
   "metadata": {
    "collapsed": false
   }
  },
  {
   "cell_type": "code",
   "execution_count": 321,
   "outputs": [
    {
     "data": {
      "text/plain": "array([6.10133707e-02, 5.89058105e+02, 2.07923896e+02, 6.72711379e+02,\n       1.81731117e+00, 1.08624446e+02, 6.60731575e+03, 3.67714601e+00,\n       1.22541339e+03, 1.86979357e+01])"
     },
     "metadata": {},
     "output_type": "execute_result",
     "execution_count": 321
    }
   ],
   "source": [
    "np.expm1(a)"
   ],
   "metadata": {
    "collapsed": false,
    "pycharm": {
     "name": "#%%\n",
     "is_executing": false
    }
   }
  },
  {
   "cell_type": "markdown",
   "source": [
    "## exp2  2 为底的指数"
   ],
   "metadata": {
    "collapsed": false
   }
  },
  {
   "cell_type": "code",
   "execution_count": 322,
   "outputs": [
    {
     "data": {
      "text/plain": "array([  1.04190552,  83.29863884,  40.55955874,  91.31638221,\n         2.05022599,  25.93916967, 444.5137074 ,   2.9133683 ,\n       138.31839682,   7.89267226])"
     },
     "metadata": {},
     "output_type": "execute_result",
     "execution_count": 322
    }
   ],
   "source": [
    "np.exp2(a)"
   ],
   "metadata": {
    "collapsed": false,
    "pycharm": {
     "name": "#%%\n",
     "is_executing": false
    }
   }
  },
  {
   "cell_type": "markdown",
   "source": [
    "## log 对数"
   ],
   "metadata": {
    "collapsed": false
   }
  },
  {
   "cell_type": "code",
   "execution_count": 323,
   "outputs": [
    {
     "data": {
      "text/plain": "array([-2.82642062,  1.85320274,  1.67559451,  1.87376975,  0.03515761,\n        1.54693686,  2.17430663,  0.43352641,  1.9617623 ,  1.09209572])"
     },
     "metadata": {},
     "output_type": "execute_result",
     "execution_count": 323
    }
   ],
   "source": [
    "np.log(a)"
   ],
   "metadata": {
    "collapsed": false,
    "pycharm": {
     "name": "#%%\n",
     "is_executing": false
    }
   }
  },
  {
   "cell_type": "markdown",
   "source": [
    "## log10 以10为底的对数"
   ],
   "metadata": {
    "collapsed": false
   }
  },
  {
   "cell_type": "code",
   "execution_count": 324,
   "outputs": [
    {
     "data": {
      "text/plain": "array([-1.22749888,  0.80483572,  0.72770145,  0.81376786,  0.01526876,\n        0.67182614,  0.94428937,  0.18827813,  0.85198254,  0.47429114])"
     },
     "metadata": {},
     "output_type": "execute_result",
     "execution_count": 324
    }
   ],
   "source": [
    "np.log10(a)"
   ],
   "metadata": {
    "collapsed": false,
    "pycharm": {
     "name": "#%%\n",
     "is_executing": false
    }
   }
  },
  {
   "cell_type": "markdown",
   "source": [
    "## log2 以2为底的对数"
   ],
   "metadata": {
    "collapsed": false
   }
  },
  {
   "cell_type": "code",
   "execution_count": 325,
   "outputs": [
    {
     "data": {
      "text/plain": "array([-4.07766301,  2.6736064 ,  2.41737189,  2.70327832,  0.05072171,\n        2.23175814,  3.1368614 ,  0.62544641,  2.83022474,  1.57556107])"
     },
     "metadata": {},
     "output_type": "execute_result",
     "execution_count": 325
    }
   ],
   "source": [
    "np.log2(a)"
   ],
   "metadata": {
    "collapsed": false,
    "pycharm": {
     "name": "#%%\n",
     "is_executing": false
    }
   }
  },
  {
   "cell_type": "markdown",
   "source": [
    "## add 加法"
   ],
   "metadata": {
    "collapsed": false
   }
  },
  {
   "cell_type": "code",
   "execution_count": 326,
   "outputs": [
    {
     "data": {
      "text/plain": "array([ 0.11844892, 12.76044203, 10.6839401 , 13.0256036 ,  2.07156589,\n        9.39412079, 17.5921682 ,  3.08537619, 14.22369848,  5.96102769])"
     },
     "metadata": {},
     "output_type": "execute_result",
     "execution_count": 326
    }
   ],
   "source": [
    "np.add(a,a)"
   ],
   "metadata": {
    "collapsed": false,
    "pycharm": {
     "name": "#%%\n",
     "is_executing": false
    }
   }
  },
  {
   "cell_type": "markdown",
   "source": [
    "## reciprocal 倒数"
   ],
   "metadata": {
    "collapsed": false
   }
  },
  {
   "cell_type": "code",
   "execution_count": 327,
   "outputs": [
    {
     "data": {
      "text/plain": "array([16.88491501,  0.15673438,  0.18719686,  0.15354375,  0.96545324,\n        0.21289911,  0.11368695,  0.64821917,  0.1406104 ,  0.33551262])"
     },
     "metadata": {},
     "output_type": "execute_result",
     "execution_count": 327
    }
   ],
   "source": [
    "np.reciprocal(a)"
   ],
   "metadata": {
    "collapsed": false,
    "pycharm": {
     "name": "#%%\n",
     "is_executing": false
    }
   }
  },
  {
   "cell_type": "markdown",
   "source": [
    "## positive 绝对值"
   ],
   "metadata": {
    "collapsed": false
   }
  },
  {
   "cell_type": "code",
   "execution_count": 328,
   "outputs": [
    {
     "data": {
      "text/plain": "array([0.05922446, 6.38022102, 5.34197005, 6.5128018 , 1.03578294,\n       4.69706039, 8.7960841 , 1.5426881 , 7.11184924, 2.98051384])"
     },
     "metadata": {},
     "output_type": "execute_result",
     "execution_count": 328
    }
   ],
   "source": [
    "np.positive(a)"
   ],
   "metadata": {
    "collapsed": false,
    "pycharm": {
     "name": "#%%\n",
     "is_executing": false
    }
   }
  },
  {
   "cell_type": "markdown",
   "source": [
    "## negative 相反数"
   ],
   "metadata": {
    "collapsed": false
   }
  },
  {
   "cell_type": "code",
   "execution_count": 329,
   "outputs": [
    {
     "data": {
      "text/plain": "array([-0.05922446, -6.38022102, -5.34197005, -6.5128018 , -1.03578294,\n       -4.69706039, -8.7960841 , -1.5426881 , -7.11184924, -2.98051384])"
     },
     "metadata": {},
     "output_type": "execute_result",
     "execution_count": 329
    }
   ],
   "source": [
    "np.negative(a)"
   ],
   "metadata": {
    "collapsed": false,
    "pycharm": {
     "name": "#%%\n",
     "is_executing": false
    }
   }
  },
  {
   "cell_type": "markdown",
   "source": [
    "## multiply 乘法"
   ],
   "metadata": {
    "collapsed": false
   }
  },
  {
   "cell_type": "code",
   "execution_count": 330,
   "outputs": [
    {
     "data": {
      "text/plain": "array([3.50753685e-03, 4.07072202e+01, 2.85366440e+01, 4.24165873e+01,\n       1.07284631e+00, 2.20623763e+01, 7.73710955e+01, 2.37988656e+00,\n       5.05783996e+01, 8.88346277e+00])"
     },
     "metadata": {},
     "output_type": "execute_result",
     "execution_count": 330
    }
   ],
   "source": [
    "np.multiply(a,a)"
   ],
   "metadata": {
    "collapsed": false,
    "pycharm": {
     "name": "#%%\n",
     "is_executing": false
    }
   }
  },
  {
   "cell_type": "markdown",
   "source": [
    "## divide 除法"
   ],
   "metadata": {
    "collapsed": false
   }
  },
  {
   "cell_type": "code",
   "execution_count": 331,
   "outputs": [
    {
     "data": {
      "text/plain": "array([0.00592245, 0.6380221 , 0.53419701, 0.65128018, 0.10357829,\n       0.46970604, 0.87960841, 0.15426881, 0.71118492, 0.29805138])"
     },
     "metadata": {},
     "output_type": "execute_result",
     "execution_count": 331
    }
   ],
   "source": [
    "np.divide(a,10)"
   ],
   "metadata": {
    "collapsed": false,
    "pycharm": {
     "name": "#%%\n",
     "is_executing": false
    }
   }
  },
  {
   "cell_type": "markdown",
   "source": [
    "## power x**n"
   ],
   "metadata": {
    "collapsed": false
   }
  },
  {
   "cell_type": "code",
   "execution_count": 332,
   "outputs": [
    {
     "data": {
      "text/plain": "array([3.50753685e-03, 4.07072202e+01, 2.85366440e+01, 4.24165873e+01,\n       1.07284631e+00, 2.20623763e+01, 7.73710955e+01, 2.37988656e+00,\n       5.05783996e+01, 8.88346277e+00])"
     },
     "metadata": {},
     "output_type": "execute_result",
     "execution_count": 332
    }
   ],
   "source": [
    "np.power(a,2)"
   ],
   "metadata": {
    "collapsed": false,
    "pycharm": {
     "name": "#%%\n",
     "is_executing": false
    }
   }
  },
  {
   "cell_type": "markdown",
   "source": [
    "## subtract 减法"
   ],
   "metadata": {
    "collapsed": false
   }
  },
  {
   "cell_type": "code",
   "execution_count": 333,
   "outputs": [
    {
     "data": {
      "text/plain": "array([0., 0., 0., 0., 0., 0., 0., 0., 0., 0.])"
     },
     "metadata": {},
     "output_type": "execute_result",
     "execution_count": 333
    }
   ],
   "source": [
    "np.subtract(a,a)"
   ],
   "metadata": {
    "collapsed": false,
    "pycharm": {
     "name": "#%%\n",
     "is_executing": false
    }
   }
  },
  {
   "cell_type": "markdown",
   "source": [
    "## floor_divide 除法"
   ],
   "metadata": {
    "collapsed": false
   }
  },
  {
   "cell_type": "code",
   "execution_count": 334,
   "outputs": [
    {
     "data": {
      "text/plain": "array([0., 3., 2., 3., 0., 2., 4., 0., 3., 1.])"
     },
     "metadata": {},
     "output_type": "execute_result",
     "execution_count": 334
    }
   ],
   "source": [
    "np.floor_divide(a,2)"
   ],
   "metadata": {
    "collapsed": false,
    "pycharm": {
     "name": "#%%\n",
     "is_executing": false
    }
   }
  },
  {
   "cell_type": "markdown",
   "source": [
    "## mod 取模"
   ],
   "metadata": {
    "collapsed": false
   }
  },
  {
   "cell_type": "code",
   "execution_count": 335,
   "outputs": [
    {
     "data": {
      "text/plain": "array([0., 0., 0., 0., 0., 0., 0., 0., 0., 0.])"
     },
     "metadata": {},
     "output_type": "execute_result",
     "execution_count": 335
    }
   ],
   "source": [
    "np.mod(a,a)"
   ],
   "metadata": {
    "collapsed": false,
    "pycharm": {
     "name": "#%%\n",
     "is_executing": false
    }
   }
  },
  {
   "cell_type": "markdown",
   "source": [
    "## fmod 取模"
   ],
   "metadata": {
    "collapsed": false
   }
  },
  {
   "cell_type": "code",
   "execution_count": 336,
   "outputs": [
    {
     "data": {
      "text/plain": "array([0., 0., 0., 0., 0., 0., 0., 0., 0., 0.])"
     },
     "metadata": {},
     "output_type": "execute_result",
     "execution_count": 336
    }
   ],
   "source": [
    "np.fmod(a,a)"
   ],
   "metadata": {
    "collapsed": false,
    "pycharm": {
     "name": "#%%\n",
     "is_executing": false
    }
   }
  },
  {
   "cell_type": "markdown",
   "source": [
    "## modf 取模"
   ],
   "metadata": {
    "collapsed": false
   }
  },
  {
   "cell_type": "code",
   "execution_count": 337,
   "outputs": [
    {
     "data": {
      "text/plain": "(array([0.05922446, 0.38022102, 0.34197005, 0.5128018 , 0.03578294,\n        0.69706039, 0.7960841 , 0.5426881 , 0.11184924, 0.98051384]),\n array([0., 6., 5., 6., 1., 4., 8., 1., 7., 2.]))"
     },
     "metadata": {},
     "output_type": "execute_result",
     "execution_count": 337
    }
   ],
   "source": [
    "np.modf(a,a)"
   ],
   "metadata": {
    "collapsed": false,
    "pycharm": {
     "name": "#%%\n",
     "is_executing": false
    }
   }
  },
  {
   "cell_type": "markdown",
   "source": [
    "## convolve"
   ],
   "metadata": {
    "collapsed": false
   }
  },
  {
   "cell_type": "code",
   "execution_count": 338,
   "outputs": [
    {
     "data": {
      "text/plain": "array([0.00350754, 0.04503677, 0.18507401, 0.32078922, 0.51113801,\n       0.46050262, 0.9118084 , 1.1831033 , 1.68659317, 1.43871429,\n       1.92157065, 1.93400107, 2.40394576, 1.09015343, 1.83954791,\n       1.68254146, 1.07673664, 0.21933946, 0.9614074 ])"
     },
     "metadata": {},
     "output_type": "execute_result",
     "execution_count": 338
    }
   ],
   "source": [
    "np.convolve(a,a)"
   ],
   "metadata": {
    "collapsed": false,
    "pycharm": {
     "name": "#%%\n",
     "is_executing": false
    }
   }
  },
  {
   "cell_type": "markdown",
   "source": [
    "## clip"
   ],
   "metadata": {
    "collapsed": false
   }
  },
  {
   "cell_type": "code",
   "execution_count": 339,
   "outputs": [
    {
     "data": {
      "text/plain": "array([1, 1, 2, 3, 4, 5, 6, 7, 8, 8])"
     },
     "metadata": {},
     "output_type": "execute_result",
     "execution_count": 339
    }
   ],
   "source": [
    "a = np.arange(10)\n",
    "np.clip(a, 1, 8)"
   ],
   "metadata": {
    "collapsed": false,
    "pycharm": {
     "name": "#%%\n",
     "is_executing": false
    }
   }
  },
  {
   "cell_type": "markdown",
   "source": [
    "## sqrt 开方"
   ],
   "metadata": {
    "collapsed": false
   }
  },
  {
   "cell_type": "code",
   "execution_count": 340,
   "outputs": [
    {
     "data": {
      "text/plain": "array([0.        , 1.        , 1.41421356, 1.73205081, 2.        ,\n       2.23606798, 2.44948974, 2.64575131, 2.82842712, 3.        ])"
     },
     "metadata": {},
     "output_type": "execute_result",
     "execution_count": 340
    }
   ],
   "source": [
    "np.sqrt(a)"
   ],
   "metadata": {
    "collapsed": false,
    "pycharm": {
     "name": "#%%\n",
     "is_executing": false
    }
   }
  },
  {
   "cell_type": "markdown",
   "source": [
    "## square 平方 "
   ],
   "metadata": {
    "collapsed": false
   }
  },
  {
   "cell_type": "code",
   "execution_count": 341,
   "outputs": [
    {
     "data": {
      "text/plain": "array([ 0,  1,  4,  9, 16, 25, 36, 49, 64, 81], dtype=int32)"
     },
     "metadata": {},
     "output_type": "execute_result",
     "execution_count": 341
    }
   ],
   "source": [
    "np.square(a)"
   ],
   "metadata": {
    "collapsed": false,
    "pycharm": {
     "name": "#%%\n",
     "is_executing": false
    }
   }
  },
  {
   "cell_type": "markdown",
   "source": [
    "## absolute"
   ],
   "metadata": {
    "collapsed": false
   }
  },
  {
   "cell_type": "code",
   "execution_count": 342,
   "outputs": [
    {
     "data": {
      "text/plain": "array([0, 1, 2, 3, 4, 5, 6, 7, 8, 9])"
     },
     "metadata": {},
     "output_type": "execute_result",
     "execution_count": 342
    }
   ],
   "source": [
    "np.absolute(a)"
   ],
   "metadata": {
    "collapsed": false,
    "pycharm": {
     "name": "#%%\n",
     "is_executing": false
    }
   }
  },
  {
   "cell_type": "markdown",
   "source": [
    "## fabs"
   ],
   "metadata": {
    "collapsed": false
   }
  },
  {
   "cell_type": "code",
   "execution_count": 343,
   "outputs": [
    {
     "data": {
      "text/plain": "array([0., 1., 2., 3., 4., 5., 6., 7., 8., 9.])"
     },
     "metadata": {},
     "output_type": "execute_result",
     "execution_count": 343
    }
   ],
   "source": [
    "np.fabs(a)"
   ],
   "metadata": {
    "collapsed": false,
    "pycharm": {
     "name": "#%%\n",
     "is_executing": false
    }
   }
  },
  {
   "cell_type": "markdown",
   "source": [
    "## sign"
   ],
   "metadata": {
    "collapsed": false
   }
  },
  {
   "cell_type": "code",
   "execution_count": 344,
   "outputs": [
    {
     "data": {
      "text/plain": "array([0, 1, 1, 1, 1, 1, 1, 1, 1, 1])"
     },
     "metadata": {},
     "output_type": "execute_result",
     "execution_count": 344
    }
   ],
   "source": [
    "np.sign(a)"
   ],
   "metadata": {
    "collapsed": false,
    "pycharm": {
     "name": "#%%\n",
     "is_executing": false
    }
   }
  },
  {
   "cell_type": "markdown",
   "source": [
    "## maximum 两个矩阵(数)求最大"
   ],
   "metadata": {
    "collapsed": false
   }
  },
  {
   "cell_type": "code",
   "execution_count": 345,
   "outputs": [
    {
     "data": {
      "text/plain": "array([0, 1, 2, 3, 4, 5, 6, 7, 8, 9])"
     },
     "metadata": {},
     "output_type": "execute_result",
     "execution_count": 345
    }
   ],
   "source": [
    "np.maximum(a,a)"
   ],
   "metadata": {
    "collapsed": false,
    "pycharm": {
     "name": "#%%\n",
     "is_executing": false
    }
   }
  },
  {
   "cell_type": "markdown",
   "source": [
    "## minimum 两个矩阵(数)求最小"
   ],
   "metadata": {
    "collapsed": false
   }
  },
  {
   "cell_type": "code",
   "execution_count": 346,
   "outputs": [
    {
     "data": {
      "text/plain": "array([0, 1, 2, 3, 4, 5, 6, 7, 8, 9])"
     },
     "metadata": {},
     "output_type": "execute_result",
     "execution_count": 346
    }
   ],
   "source": [
    "np.minimum(a,a)"
   ],
   "metadata": {
    "collapsed": false,
    "pycharm": {
     "name": "#%%\n",
     "is_executing": false
    }
   }
  },
  {
   "cell_type": "markdown",
   "source": [
    "## nan_to_num nan,inf转换数字"
   ],
   "metadata": {
    "collapsed": false
   }
  },
  {
   "cell_type": "code",
   "execution_count": 365,
   "outputs": [
    {
     "data": {
      "text/plain": "array([0.00000000e+000, 1.79769313e+308, 1.00000000e+000])"
     },
     "metadata": {},
     "output_type": "execute_result",
     "execution_count": 365
    }
   ],
   "source": [
    "np.nan_to_num(np.array([np.nan,np.inf,1]))"
   ],
   "metadata": {
    "collapsed": false,
    "pycharm": {
     "name": "#%%\n",
     "is_executing": false
    }
   }
  }
 ],
 "metadata": {
  "kernelspec": {
   "display_name": "Python 3",
   "language": "python",
   "name": "python3"
  },
  "language_info": {
   "codemirror_mode": {
    "name": "ipython",
    "version": 2
   },
   "file_extension": ".py",
   "mimetype": "text/x-python",
   "name": "python",
   "nbconvert_exporter": "python",
   "pygments_lexer": "ipython2",
   "version": "2.7.6"
  },
  "pycharm": {
   "stem_cell": {
    "cell_type": "raw",
    "source": [],
    "metadata": {
     "collapsed": false
    }
   }
  }
 },
 "nbformat": 4,
 "nbformat_minor": 0
}