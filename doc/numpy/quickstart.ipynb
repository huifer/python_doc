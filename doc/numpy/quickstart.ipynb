{
 "cells": [
  {
   "cell_type": "markdown",
   "source": [
    "# NumPy 快速入门\n",
    "## NumPy是什么\n",
    "- [官方文档](https://NumPy.org/)中这么描述它\n",
    "> NumPy is the fundamental package for scientific computing with Python. It contains among other things:\n",
    ">    - a powerful N-dimensional array object (n维数组对象)\n",
    ">    - sophisticated (broadcasting) functions (多种且复杂的函数)\n",
    ">    - tools for integrating C/C++ and Fortran code (C/C++)\n",
    ">    - useful linear algebra, Fourier transform, and random number capabilities (线性代数、傅里叶变换、随机数据功能)\n",
    ">\n",
    "> Besides its obvious scientific uses, NumPy can also be used as an efficient multi-dimensional container of generic data. Arbitrary data-types can be defined. This allows NumPy to seamlessly and speedily integrate with a wide variety of databases.\n",
    "> \n",
    "> NumPy is licensed under the BSD license, enabling reuse with few restrictions.\n",
    ">\n",
    "\n",
    "## 为什么用 NumPy\n",
    "1. 运算速度快\n",
    "1. 资源消耗少\n",
    "1. 数据分析、机器学习、深度学习都需要它\n",
    "\n",
    "\n",
    "## 安装\n",
    "`pip install NumPy`\n",
    "\n",
    "## NumPy核心基础\n",
    "1. 在 NumPy 中数组为 ndarray 这是一个基础类型, NumPy 的函数都在对这个类型进行一次次的操作.\n",
    "    1. 基本属性\n",
    "        1. shape    : 维度\n",
    "        1. dtype    : 数据类型\n",
    "        1. ndim     : 轴数\n",
    "        1. itemsize : 数组元素的字节大小\n",
    "        1. axes     : 维度\n",
    "        1. rank     : 维度数(轴数)\n",
    "    1. 一个注意点\n",
    "        1. **NumPy 的数组包含元素必须是同一类型**\n",
    "        \n",
    "### 什么是轴(维度)\n",
    "> 通常我们将一个一维数组`[1,2,3]`称为一轴,二维数组称之为二轴,以此类推.\n",
    "\n",
    "        \n",
    "### 简单案例"
   ],
   "metadata": {
    "collapsed": false,
    "pycharm": {
     "name": "#%% md\n"
    }
   }
  },
  {
   "cell_type": "code",
   "execution_count": 2,
   "metadata": {
    "collapsed": true,
    "pycharm": {
     "is_executing": false
    }
   },
   "outputs": [],
   "source": [
    "import numpy as np\n",
    "data = np.random.randn(1,10)"
   ]
  },
  {
   "cell_type": "code",
   "execution_count": null,
   "outputs": [],
   "source": [
    "print(\"数据\")\n",
    "data"
   ],
   "metadata": {
    "collapsed": false,
    "pycharm": {
     "name": "#%%\n"
    }
   }
  },
  {
   "cell_type": "code",
   "execution_count": null,
   "outputs": [],
   "source": [
    "print(\"维度\")\n",
    "data.shape"
   ],
   "metadata": {
    "collapsed": false,
    "pycharm": {
     "name": "#%%\n"
    }
   }
  },
  {
   "cell_type": "code",
   "execution_count": null,
   "outputs": [],
   "source": [
    "data.dtype"
   ],
   "metadata": {
    "collapsed": false,
    "pycharm": {
     "name": "#%%\n"
    }
   }
  },
  {
   "cell_type": "code",
   "execution_count": null,
   "outputs": [],
   "source": [
    "data.ndim"
   ],
   "metadata": {
    "collapsed": false,
    "pycharm": {
     "name": "#%%\n"
    }
   }
  },
  {
   "cell_type": "code",
   "execution_count": 12,
   "outputs": [
    {
     "data": {
      "text/plain": "8"
     },
     "metadata": {},
     "output_type": "execute_result",
     "execution_count": 12
    }
   ],
   "source": [
    "data.itemsize\n"
   ],
   "metadata": {
    "collapsed": false,
    "pycharm": {
     "name": "#%%\n",
     "is_executing": false
    }
   }
  },
  {
   "cell_type": "markdown",
   "source": [
    "## 创建 ndarray\n",
    "- `np.array(p_object)`\n",
    "    - p_object 为list对象"
   ],
   "metadata": {
    "collapsed": false,
    "pycharm": {
     "name": "#%% md\n"
    }
   }
  },
  {
   "cell_type": "code",
   "execution_count": null,
   "outputs": [],
   "source": [
    "data_a = np.array([1,2,3])"
   ],
   "metadata": {
    "collapsed": false,
    "pycharm": {
     "name": "#%% \n"
    }
   }
  },
  {
   "cell_type": "code",
   "execution_count": 3,
   "outputs": [
    {
     "traceback": [
      "\u001b[1;31m---------------------------------------------------------------------------\u001b[0m",
      "\u001b[1;31mValueError\u001b[0m                                Traceback (most recent call last)",
      "\u001b[1;32m<ipython-input-3-a4d22456da9e>\u001b[0m in \u001b[0;36m<module>\u001b[1;34m\u001b[0m\n\u001b[1;32m----> 1\u001b[1;33m \u001b[0mnp\u001b[0m\u001b[1;33m.\u001b[0m\u001b[0marray\u001b[0m\u001b[1;33m(\u001b[0m\u001b[1;36m1\u001b[0m\u001b[1;33m,\u001b[0m\u001b[1;36m2\u001b[0m\u001b[1;33m,\u001b[0m\u001b[1;36m3\u001b[0m\u001b[1;33m)\u001b[0m\u001b[1;33m\u001b[0m\u001b[1;33m\u001b[0m\u001b[0m\n\u001b[0m",
      "\u001b[1;31mValueError\u001b[0m: only 2 non-keyword arguments accepted"
     ],
     "ename": "ValueError",
     "evalue": "only 2 non-keyword arguments accepted",
     "output_type": "error"
    }
   ],
   "source": [
    "np.array(1,2,3) # only 2 non-keyword arguments accepted"
   ],
   "metadata": {
    "collapsed": false,
    "pycharm": {
     "name": "#%% \n",
     "is_executing": false
    }
   }
  },
  {
   "cell_type": "markdown",
   "source": [
    "- 不知道元素值的情况下创建\n",
    "    - `np.zeros(shape=())`\n",
    "        - 通过 shape 指定大小"
   ],
   "metadata": {
    "collapsed": false
   }
  },
  {
   "cell_type": "code",
   "execution_count": 4,
   "outputs": [
    {
     "data": {
      "text/plain": "array([[0., 0.],\n       [0., 0.]])"
     },
     "metadata": {},
     "output_type": "execute_result",
     "execution_count": 4
    }
   ],
   "source": [
    "data_b = np.zeros(shape=(2,2))\n",
    "data_b\n"
   ],
   "metadata": {
    "collapsed": false,
    "pycharm": {
     "name": "#%%\n",
     "is_executing": false
    }
   }
  },
  {
   "cell_type": "markdown",
   "source": [
    "- 其他创建"
   ],
   "metadata": {
    "collapsed": false,
    "pycharm": {
     "name": "#%% md\n"
    }
   }
  },
  {
   "cell_type": "code",
   "execution_count": 12,
   "outputs": [
    {
     "data": {
      "text/plain": "array([[[1.14991112e-311, 3.16202013e-322],\n        [0.00000000e+000, 0.00000000e+000],\n        [0.00000000e+000, 1.73659984e-047]],\n\n       [[2.14497085e+184, 3.11288615e+179],\n        [8.38275718e+165, 3.34734179e-033],\n        [2.22995107e+180, 2.44658277e-056]]])"
     },
     "metadata": {},
     "output_type": "execute_result",
     "execution_count": 12
    }
   ],
   "source": [
    "np.empty(shape=(2,3,2))"
   ],
   "metadata": {
    "collapsed": false,
    "pycharm": {
     "name": "#%%\n",
     "is_executing": false
    }
   }
  },
  {
   "cell_type": "code",
   "execution_count": 13,
   "outputs": [
    {
     "data": {
      "text/plain": "array([0, 1, 2, 3, 4, 5, 6, 7, 8, 9])"
     },
     "metadata": {},
     "output_type": "execute_result",
     "execution_count": 13
    }
   ],
   "source": [
    "np.arange(10)"
   ],
   "metadata": {
    "collapsed": false,
    "pycharm": {
     "name": "#%%\n",
     "is_executing": false
    }
   }
  },
  {
   "cell_type": "markdown",
   "source": [
    "## 输出 ndarray"
   ],
   "metadata": {
    "collapsed": false,
    "pycharm": {
     "name": "#%% md\n"
    }
   }
  },
  {
   "cell_type": "code",
   "execution_count": 5,
   "outputs": [
    {
     "name": "stdout",
     "text": [
      "[[0. 0.]\n [0. 0.]]\n"
     ],
     "output_type": "stream"
    }
   ],
   "source": [
    "print(data_b)"
   ],
   "metadata": {
    "collapsed": false,
    "pycharm": {
     "name": "#%% \n",
     "is_executing": false
    }
   }
  },
  {
   "cell_type": "markdown",
   "source": [
    "- 超大数组输出会会略中间部分输出四角"
   ],
   "metadata": {
    "collapsed": false,
    "pycharm": {
     "name": "#%% md\n"
    }
   }
  },
  {
   "cell_type": "code",
   "execution_count": 10,
   "outputs": [
    {
     "name": "stdout",
     "text": [
      "[[   0    1    2 ...    7    8    9]\n [  10   11   12 ...   17   18   19]\n [  20   21   22 ...   27   28   29]\n ...\n [9970 9971 9972 ... 9977 9978 9979]\n [9980 9981 9982 ... 9987 9988 9989]\n [9990 9991 9992 ... 9997 9998 9999]]\n"
     ],
     "output_type": "stream"
    }
   ],
   "source": [
    "print(np.arange(10000).reshape(1000,10))"
   ],
   "metadata": {
    "collapsed": false,
    "pycharm": {
     "name": "#%%\n",
     "is_executing": false
    }
   }
  },
  {
   "cell_type": "markdown",
   "source": [
    "- 强制输出所有\n",
    "    `np.set_printoptions(threshold=sys.maxsize)`\n",
    "\n",
    "\n",
    "## 数据类型\n",
    "- 官方文档: \n",
    "    - https://numpy.org/doc/1.17/reference/arrays.scalars.html#arrays-scalars-built-in\n",
    "    - https://numpy.org/doc/1.17/reference/arrays.dtypes.html?highlight=dtype"
   ],
   "metadata": {
    "collapsed": false,
    "pycharm": {
     "name": "#%% md\n"
    }
   }
  },
  {
   "cell_type": "code",
   "execution_count": null,
   "outputs": [],
   "source": [],
   "metadata": {
    "collapsed": false,
    "pycharm": {
     "name": "#%%\n"
    }
   }
  }
 ],
 "metadata": {
  "kernelspec": {
   "display_name": "Python 3",
   "language": "python",
   "name": "python3"
  },
  "language_info": {
   "codemirror_mode": {
    "name": "ipython",
    "version": 2
   },
   "file_extension": ".py",
   "mimetype": "text/x-python",
   "name": "python",
   "nbconvert_exporter": "python",
   "pygments_lexer": "ipython2",
   "version": "2.7.6"
  },
  "pycharm": {
   "stem_cell": {
    "cell_type": "raw",
    "source": [],
    "metadata": {
     "collapsed": false
    }
   }
  }
 },
 "nbformat": 4,
 "nbformat_minor": 0
}