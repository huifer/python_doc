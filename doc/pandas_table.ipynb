{
 "cells": [
  {
   "cell_type": "markdown",
   "source": [
    "# Pandas 速查表\n",
    "- Author: [HuiFer](https://github.com/huifer)\n",
    "- Description: 本文为pandas方法表\n",
    "\n",
    "## 安装\n",
    "```\n",
    "pip install pandas\n",
    "```\n",
    "\n",
    "## 导入pandas"
   ],
   "metadata": {
    "collapsed": false
   }
  },
  {
   "cell_type": "code",
   "execution_count": 18,
   "metadata": {
    "collapsed": true,
    "pycharm": {
     "is_executing": false
    }
   },
   "outputs": [
    {
     "name": "stdout",
     "text": [
      "0.25.2\n1.17.3\n"
     ],
     "output_type": "stream"
    }
   ],
   "source": [
    "import pandas as pd \n",
    "import numpy  as np\n",
    "import os\n",
    "\n",
    "print(pd.__version__)\n",
    "print(np.__version__)"
   ]
  },
  {
   "cell_type": "markdown",
   "source": [
    "## 随机数据创建"
   ],
   "metadata": {
    "collapsed": false,
    "pycharm": {
     "name": "#%% md\n"
    }
   }
  },
  {
   "cell_type": "code",
   "execution_count": 110,
   "outputs": [
    {
     "data": {
      "text/plain": "            a  b  c  d\nindex_name            \n0           1  1  1  1\n1           1  0  1  1\n2           0  0  1  0\n3           1  1  0  1\n4           1  0  0  1\n5           0  1  0  0",
      "text/html": "<div>\n<style scoped>\n    .dataframe tbody tr th:only-of-type {\n        vertical-align: middle;\n    }\n\n    .dataframe tbody tr th {\n        vertical-align: top;\n    }\n\n    .dataframe thead th {\n        text-align: right;\n    }\n</style>\n<table border=\"1\" class=\"dataframe\">\n  <thead>\n    <tr style=\"text-align: right;\">\n      <th></th>\n      <th>a</th>\n      <th>b</th>\n      <th>c</th>\n      <th>d</th>\n    </tr>\n    <tr>\n      <th>index_name</th>\n      <th></th>\n      <th></th>\n      <th></th>\n      <th></th>\n    </tr>\n  </thead>\n  <tbody>\n    <tr>\n      <th>0</th>\n      <td>1</td>\n      <td>1</td>\n      <td>1</td>\n      <td>1</td>\n    </tr>\n    <tr>\n      <th>1</th>\n      <td>1</td>\n      <td>0</td>\n      <td>1</td>\n      <td>1</td>\n    </tr>\n    <tr>\n      <th>2</th>\n      <td>0</td>\n      <td>0</td>\n      <td>1</td>\n      <td>0</td>\n    </tr>\n    <tr>\n      <th>3</th>\n      <td>1</td>\n      <td>1</td>\n      <td>0</td>\n      <td>1</td>\n    </tr>\n    <tr>\n      <th>4</th>\n      <td>1</td>\n      <td>0</td>\n      <td>0</td>\n      <td>1</td>\n    </tr>\n    <tr>\n      <th>5</th>\n      <td>0</td>\n      <td>1</td>\n      <td>0</td>\n      <td>0</td>\n    </tr>\n  </tbody>\n</table>\n</div>"
     },
     "metadata": {},
     "output_type": "execute_result",
     "execution_count": 110
    }
   ],
   "source": [
    "# 随机数据创建\n",
    "# 随机创建01数字\n",
    "df = pd.DataFrame(np.random.randint(low=0,high=2,size=[6,4]), columns=[\"a\",\"b\",\"c\",\"d\"])\n",
    "\n",
    "# 设置索引名称\n",
    "df.index.name = \"index_name\"\n",
    "df"
   ],
   "metadata": {
    "collapsed": false,
    "pycharm": {
     "name": "#%%\n",
     "is_executing": false
    }
   }
  },
  {
   "cell_type": "markdown",
   "source": [
    "## 数据导出"
   ],
   "metadata": {
    "collapsed": false
   }
  },
  {
   "cell_type": "code",
   "execution_count": 111,
   "outputs": [
    {
     "name": "stdout",
     "text": [
      "export_success\n"
     ],
     "output_type": "stream"
    }
   ],
   "source": [
    "file_path = \"../test_data/\"\n",
    "export_path =  os.path.abspath(file_path)\n",
    "csv_file = os.path.join(export_path,\"to_csv.csv\")\n",
    "json_file = os.path.join(export_path,\"to_json.json\")\n",
    "excel_file = os.path.join(export_path,\"to_excel.xls\")\n",
    "\n",
    "df.to_csv(csv_file)\n",
    "df.to_json(json_file)\n",
    "df.to_excel(excel_file)\n",
    "print(\"export_success\")"
   ],
   "metadata": {
    "collapsed": false,
    "pycharm": {
     "name": "#%% \n",
     "is_executing": false
    }
   }
  },
  {
   "cell_type": "markdown",
   "source": [
    "## 数据读取\n"
   ],
   "metadata": {
    "collapsed": false,
    "pycharm": {
     "name": "#%% md\n"
    }
   }
  },
  {
   "cell_type": "code",
   "execution_count": 112,
   "outputs": [
    {
     "name": "stdout",
     "text": [
      "   index_name  a  b  c  d\n0           0  1  1  1  1\n1           1  1  0  1  1\n2           2  0  0  1  0\n3           3  1  1  0  1\n4           4  1  0  0  1\n5           5  0  1  0  0\n   a  b  c  d\n0  1  1  1  1\n1  1  0  1  1\n2  0  0  1  0\n3  1  1  0  1\n4  1  0  0  1\n5  0  1  0  0\n   index_name  a  b  c  d\n0           0  1  1  1  1\n1           1  1  0  1  1\n2           2  0  0  1  0\n3           3  1  1  0  1\n4           4  1  0  0  1\n5           5  0  1  0  0\n"
     ],
     "output_type": "stream"
    }
   ],
   "source": [
    "df_csv = pd.read_csv(csv_file)\n",
    "df_json = pd.read_json(json_file)\n",
    "df_excel = pd.read_excel(excel_file)\n",
    "\n",
    "print(df_csv)\n",
    "print(df_json)\n",
    "print(df_excel)\n",
    "\n"
   ],
   "metadata": {
    "collapsed": false,
    "pycharm": {
     "name": "#%% \n",
     "is_executing": false
    }
   }
  }
 ],
 "metadata": {
  "kernelspec": {
   "display_name": "Python 3",
   "language": "python",
   "name": "python3"
  },
  "language_info": {
   "codemirror_mode": {
    "name": "ipython",
    "version": 2
   },
   "file_extension": ".py",
   "mimetype": "text/x-python",
   "name": "python",
   "nbconvert_exporter": "python",
   "pygments_lexer": "ipython2",
   "version": "2.7.6"
  },
  "pycharm": {
   "stem_cell": {
    "cell_type": "raw",
    "source": [],
    "metadata": {
     "collapsed": false
    }
   }
  }
 },
 "nbformat": 4,
 "nbformat_minor": 0
}