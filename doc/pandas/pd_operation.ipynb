{
 "cells": [
  {
   "cell_type": "markdown",
   "source": [
    "# Pandas 值操作\n",
    "\n",
    "## 插入列"
   ],
   "metadata": {
    "collapsed": false,
    "pycharm": {
     "name": "#%% md\n"
    }
   }
  },
  {
   "cell_type": "code",
   "execution_count": 88,
   "metadata": {
    "collapsed": true,
    "pycharm": {
     "is_executing": false
    }
   },
   "outputs": [
    {
     "name": "stdout",
     "text": [
      "                   A         B         C         D\n2019-01-01 -1.952565 -0.346991  0.432286 -1.308904\n2019-01-02  0.562992 -0.580958  0.419270 -0.041485\n2019-01-03  0.106540  0.327909  2.029857  0.261376\n2019-01-04 -0.425336  0.974958 -0.941665  0.307375\n2019-01-05 -0.814198 -1.316026  0.103577 -0.438790\n2019-01-06 -0.820058 -0.304832  0.682086  0.772544\n2019-01-07  0.372620 -0.363099 -0.554190 -0.675426\n2019-01-08 -1.461902  0.779040  2.170787  0.421297\n"
     ],
     "output_type": "stream"
    },
    {
     "data": {
      "text/plain": "                   A         B         C         D  F\n2019-01-01 -1.952565 -0.346991  0.432286 -1.308904  0\n2019-01-02  0.562992 -0.580958  0.419270 -0.041485  1\n2019-01-03  0.106540  0.327909  2.029857  0.261376  2\n2019-01-04 -0.425336  0.974958 -0.941665  0.307375  3\n2019-01-05 -0.814198 -1.316026  0.103577 -0.438790  4\n2019-01-06 -0.820058 -0.304832  0.682086  0.772544  5\n2019-01-07  0.372620 -0.363099 -0.554190 -0.675426  6\n2019-01-08 -1.461902  0.779040  2.170787  0.421297  7",
      "text/html": "<div>\n<style scoped>\n    .dataframe tbody tr th:only-of-type {\n        vertical-align: middle;\n    }\n\n    .dataframe tbody tr th {\n        vertical-align: top;\n    }\n\n    .dataframe thead th {\n        text-align: right;\n    }\n</style>\n<table border=\"1\" class=\"dataframe\">\n  <thead>\n    <tr style=\"text-align: right;\">\n      <th></th>\n      <th>A</th>\n      <th>B</th>\n      <th>C</th>\n      <th>D</th>\n      <th>F</th>\n    </tr>\n  </thead>\n  <tbody>\n    <tr>\n      <th>2019-01-01</th>\n      <td>-1.952565</td>\n      <td>-0.346991</td>\n      <td>0.432286</td>\n      <td>-1.308904</td>\n      <td>0</td>\n    </tr>\n    <tr>\n      <th>2019-01-02</th>\n      <td>0.562992</td>\n      <td>-0.580958</td>\n      <td>0.419270</td>\n      <td>-0.041485</td>\n      <td>1</td>\n    </tr>\n    <tr>\n      <th>2019-01-03</th>\n      <td>0.106540</td>\n      <td>0.327909</td>\n      <td>2.029857</td>\n      <td>0.261376</td>\n      <td>2</td>\n    </tr>\n    <tr>\n      <th>2019-01-04</th>\n      <td>-0.425336</td>\n      <td>0.974958</td>\n      <td>-0.941665</td>\n      <td>0.307375</td>\n      <td>3</td>\n    </tr>\n    <tr>\n      <th>2019-01-05</th>\n      <td>-0.814198</td>\n      <td>-1.316026</td>\n      <td>0.103577</td>\n      <td>-0.438790</td>\n      <td>4</td>\n    </tr>\n    <tr>\n      <th>2019-01-06</th>\n      <td>-0.820058</td>\n      <td>-0.304832</td>\n      <td>0.682086</td>\n      <td>0.772544</td>\n      <td>5</td>\n    </tr>\n    <tr>\n      <th>2019-01-07</th>\n      <td>0.372620</td>\n      <td>-0.363099</td>\n      <td>-0.554190</td>\n      <td>-0.675426</td>\n      <td>6</td>\n    </tr>\n    <tr>\n      <th>2019-01-08</th>\n      <td>-1.461902</td>\n      <td>0.779040</td>\n      <td>2.170787</td>\n      <td>0.421297</td>\n      <td>7</td>\n    </tr>\n  </tbody>\n</table>\n</div>"
     },
     "metadata": {},
     "output_type": "execute_result",
     "execution_count": 88
    }
   ],
   "source": [
    "import numpy as np\n",
    "import pandas as pd\n",
    "\n",
    "dates = pd.date_range('20190101', periods=8)\n",
    "df = pd.DataFrame(np.random.randn(8,4), index=dates, columns=list('ABCD'))\n",
    "print(df)\n",
    "s=pd.Series(list(range(8)),index=dates)\n",
    "df[\"F\"]=s#新加一列元素F\n",
    "df"
   ]
  },
  {
   "cell_type": "markdown",
   "source": [
    "## 指定位置插入列"
   ],
   "metadata": {
    "collapsed": false,
    "pycharm": {
     "name": "#%% md\n"
    }
   }
  },
  {
   "cell_type": "code",
   "execution_count": 89,
   "outputs": [
    {
     "name": "stdout",
     "text": [
      "                   A         B         C         D  F\n2019-01-01 -1.952565 -0.346991  0.432286 -1.308904  0\n2019-01-02  0.562992 -0.580958  0.419270 -0.041485  1\n2019-01-03  0.106540  0.327909  2.029857  0.261376  2\n2019-01-04 -0.425336  0.974958 -0.941665  0.307375  3\n2019-01-05 -0.814198 -1.316026  0.103577 -0.438790  4\n2019-01-06 -0.820058 -0.304832  0.682086  0.772544  5\n2019-01-07  0.372620 -0.363099 -0.554190 -0.675426  6\n2019-01-08 -1.461902  0.779040  2.170787  0.421297  7\n                   A         B         C         D  e  F\n2019-01-01 -1.952565 -0.346991  0.432286 -1.308904  1  0\n2019-01-02  0.562992 -0.580958  0.419270 -0.041485  2  1\n2019-01-03  0.106540  0.327909  2.029857  0.261376  3  2\n2019-01-04 -0.425336  0.974958 -0.941665  0.307375  4  3\n2019-01-05 -0.814198 -1.316026  0.103577 -0.438790  5  4\n2019-01-06 -0.820058 -0.304832  0.682086  0.772544  6  5\n2019-01-07  0.372620 -0.363099 -0.554190 -0.675426  7  6\n2019-01-08 -1.461902  0.779040  2.170787  0.421297  8  7\n"
     ],
     "output_type": "stream"
    },
    {
     "data": {
      "text/plain": "                   A         B         C         D  e  F\n2019-01-01 -1.952565 -0.346991  0.432286 -1.308904  1  0\n2019-01-02  0.562992 -0.580958  0.419270 -0.041485  2  1\n2019-01-03  0.106540  0.327909  2.029857  0.261376  3  2\n2019-01-04 -0.425336  0.974958 -0.941665  0.307375  4  3\n2019-01-05 -0.814198 -1.316026  0.103577 -0.438790  5  4\n2019-01-06 -0.820058 -0.304832  0.682086  0.772544  6  5\n2019-01-07  0.372620 -0.363099 -0.554190 -0.675426  7  6\n2019-01-08 -1.461902  0.779040  2.170787  0.421297  8  7",
      "text/html": "<div>\n<style scoped>\n    .dataframe tbody tr th:only-of-type {\n        vertical-align: middle;\n    }\n\n    .dataframe tbody tr th {\n        vertical-align: top;\n    }\n\n    .dataframe thead th {\n        text-align: right;\n    }\n</style>\n<table border=\"1\" class=\"dataframe\">\n  <thead>\n    <tr style=\"text-align: right;\">\n      <th></th>\n      <th>A</th>\n      <th>B</th>\n      <th>C</th>\n      <th>D</th>\n      <th>e</th>\n      <th>F</th>\n    </tr>\n  </thead>\n  <tbody>\n    <tr>\n      <th>2019-01-01</th>\n      <td>-1.952565</td>\n      <td>-0.346991</td>\n      <td>0.432286</td>\n      <td>-1.308904</td>\n      <td>1</td>\n      <td>0</td>\n    </tr>\n    <tr>\n      <th>2019-01-02</th>\n      <td>0.562992</td>\n      <td>-0.580958</td>\n      <td>0.419270</td>\n      <td>-0.041485</td>\n      <td>2</td>\n      <td>1</td>\n    </tr>\n    <tr>\n      <th>2019-01-03</th>\n      <td>0.106540</td>\n      <td>0.327909</td>\n      <td>2.029857</td>\n      <td>0.261376</td>\n      <td>3</td>\n      <td>2</td>\n    </tr>\n    <tr>\n      <th>2019-01-04</th>\n      <td>-0.425336</td>\n      <td>0.974958</td>\n      <td>-0.941665</td>\n      <td>0.307375</td>\n      <td>4</td>\n      <td>3</td>\n    </tr>\n    <tr>\n      <th>2019-01-05</th>\n      <td>-0.814198</td>\n      <td>-1.316026</td>\n      <td>0.103577</td>\n      <td>-0.438790</td>\n      <td>5</td>\n      <td>4</td>\n    </tr>\n    <tr>\n      <th>2019-01-06</th>\n      <td>-0.820058</td>\n      <td>-0.304832</td>\n      <td>0.682086</td>\n      <td>0.772544</td>\n      <td>6</td>\n      <td>5</td>\n    </tr>\n    <tr>\n      <th>2019-01-07</th>\n      <td>0.372620</td>\n      <td>-0.363099</td>\n      <td>-0.554190</td>\n      <td>-0.675426</td>\n      <td>7</td>\n      <td>6</td>\n    </tr>\n    <tr>\n      <th>2019-01-08</th>\n      <td>-1.461902</td>\n      <td>0.779040</td>\n      <td>2.170787</td>\n      <td>0.421297</td>\n      <td>8</td>\n      <td>7</td>\n    </tr>\n  </tbody>\n</table>\n</div>"
     },
     "metadata": {},
     "output_type": "execute_result",
     "execution_count": 89
    }
   ],
   "source": [
    "print(df)\n",
    "df.insert(4,'e',[1,2,3,4,5,6,7,8])\n",
    "print(df)\n",
    "df"
   ],
   "metadata": {
    "collapsed": false,
    "pycharm": {
     "name": "#%%\n",
     "is_executing": false
    }
   }
  },
  {
   "cell_type": "markdown",
   "source": [
    "## 插入行\n",
    "- `DataFrame.append()` 方法\n",
    "- `pandas.concat()` 方法"
   ],
   "metadata": {
    "collapsed": false,
    "pycharm": {
     "name": "#%% md\n"
    }
   }
  },
  {
   "cell_type": "code",
   "execution_count": 90,
   "outputs": [
    {
     "name": "stdout",
     "text": [
      "                            A         B         C         D  F    e\n2019-01-01 00:00:00 -1.952565 -0.346991  0.432286 -1.308904  0  1.0\n2019-01-02 00:00:00  0.562992 -0.580958  0.419270 -0.041485  1  2.0\n2019-01-03 00:00:00  0.106540  0.327909  2.029857  0.261376  2  3.0\n2019-01-04 00:00:00 -0.425336  0.974958 -0.941665  0.307375  3  4.0\n2019-01-05 00:00:00 -0.814198 -1.316026  0.103577 -0.438790  4  5.0\n2019-01-06 00:00:00 -0.820058 -0.304832  0.682086  0.772544  5  6.0\n2019-01-07 00:00:00  0.372620 -0.363099 -0.554190 -0.675426  6  7.0\n2019-01-08 00:00:00 -1.461902  0.779040  2.170787  0.421297  7  8.0\n0                    0.000000  0.000000  0.000000  0.000000  0  NaN\n          A         B         C         D  F    e\n0 -1.952565 -0.346991  0.432286 -1.308904  0  1.0\n1  0.562992 -0.580958  0.419270 -0.041485  1  2.0\n2  0.106540  0.327909  2.029857  0.261376  2  3.0\n3 -0.425336  0.974958 -0.941665  0.307375  3  4.0\n4 -0.814198 -1.316026  0.103577 -0.438790  4  5.0\n5 -0.820058 -0.304832  0.682086  0.772544  5  6.0\n6  0.372620 -0.363099 -0.554190 -0.675426  6  7.0\n7 -1.461902  0.779040  2.170787  0.421297  7  8.0\n8  0.000000  0.000000  0.000000  0.000000  0  NaN\n   A  B  C  D  F\n0  0  0  0  0  0\n1  0  0  0  0  0\n"
     ],
     "output_type": "stream"
    },
    {
     "data": {
      "text/plain": "                   A         B         C         D  e  F\n2019-01-01 -1.952565 -0.346991  0.432286 -1.308904  1  0\n2019-01-02  0.562992 -0.580958  0.419270 -0.041485  2  1\n2019-01-03  0.106540  0.327909  2.029857  0.261376  3  2\n2019-01-04 -0.425336  0.974958 -0.941665  0.307375  4  3\n2019-01-05 -0.814198 -1.316026  0.103577 -0.438790  5  4\n2019-01-06 -0.820058 -0.304832  0.682086  0.772544  6  5\n2019-01-07  0.372620 -0.363099 -0.554190 -0.675426  7  6\n2019-01-08 -1.461902  0.779040  2.170787  0.421297  8  7",
      "text/html": "<div>\n<style scoped>\n    .dataframe tbody tr th:only-of-type {\n        vertical-align: middle;\n    }\n\n    .dataframe tbody tr th {\n        vertical-align: top;\n    }\n\n    .dataframe thead th {\n        text-align: right;\n    }\n</style>\n<table border=\"1\" class=\"dataframe\">\n  <thead>\n    <tr style=\"text-align: right;\">\n      <th></th>\n      <th>A</th>\n      <th>B</th>\n      <th>C</th>\n      <th>D</th>\n      <th>e</th>\n      <th>F</th>\n    </tr>\n  </thead>\n  <tbody>\n    <tr>\n      <th>2019-01-01</th>\n      <td>-1.952565</td>\n      <td>-0.346991</td>\n      <td>0.432286</td>\n      <td>-1.308904</td>\n      <td>1</td>\n      <td>0</td>\n    </tr>\n    <tr>\n      <th>2019-01-02</th>\n      <td>0.562992</td>\n      <td>-0.580958</td>\n      <td>0.419270</td>\n      <td>-0.041485</td>\n      <td>2</td>\n      <td>1</td>\n    </tr>\n    <tr>\n      <th>2019-01-03</th>\n      <td>0.106540</td>\n      <td>0.327909</td>\n      <td>2.029857</td>\n      <td>0.261376</td>\n      <td>3</td>\n      <td>2</td>\n    </tr>\n    <tr>\n      <th>2019-01-04</th>\n      <td>-0.425336</td>\n      <td>0.974958</td>\n      <td>-0.941665</td>\n      <td>0.307375</td>\n      <td>4</td>\n      <td>3</td>\n    </tr>\n    <tr>\n      <th>2019-01-05</th>\n      <td>-0.814198</td>\n      <td>-1.316026</td>\n      <td>0.103577</td>\n      <td>-0.438790</td>\n      <td>5</td>\n      <td>4</td>\n    </tr>\n    <tr>\n      <th>2019-01-06</th>\n      <td>-0.820058</td>\n      <td>-0.304832</td>\n      <td>0.682086</td>\n      <td>0.772544</td>\n      <td>6</td>\n      <td>5</td>\n    </tr>\n    <tr>\n      <th>2019-01-07</th>\n      <td>0.372620</td>\n      <td>-0.363099</td>\n      <td>-0.554190</td>\n      <td>-0.675426</td>\n      <td>7</td>\n      <td>6</td>\n    </tr>\n    <tr>\n      <th>2019-01-08</th>\n      <td>-1.461902</td>\n      <td>0.779040</td>\n      <td>2.170787</td>\n      <td>0.421297</td>\n      <td>8</td>\n      <td>7</td>\n    </tr>\n  </tbody>\n</table>\n</div>"
     },
     "metadata": {},
     "output_type": "execute_result",
     "execution_count": 90
    }
   ],
   "source": [
    "df2 = pd.DataFrame([[0,0,0,0,0]],columns=['A','B','C','D','F'])\n",
    "print(df.append(df2,ignore_index=False))\n",
    "print(df.append(df2,ignore_index=True))\n",
    "\n",
    "\n",
    "print(pd.concat([df2,df2],ignore_index = True))\n",
    "df"
   ],
   "metadata": {
    "collapsed": false,
    "pycharm": {
     "name": "#%% \n",
     "is_executing": false
    }
   }
  },
  {
   "cell_type": "markdown",
   "source": [
    "## 删除列"
   ],
   "metadata": {
    "collapsed": false,
    "pycharm": {
     "name": "#%% md\n"
    }
   }
  },
  {
   "cell_type": "code",
   "execution_count": 91,
   "outputs": [
    {
     "name": "stdout",
     "text": [
      "                   A         B         C         D  e  F\n2019-01-01 -1.952565 -0.346991  0.432286 -1.308904  1  0\n2019-01-02  0.562992 -0.580958  0.419270 -0.041485  2  1\n2019-01-03  0.106540  0.327909  2.029857  0.261376  3  2\n2019-01-04 -0.425336  0.974958 -0.941665  0.307375  4  3\n2019-01-05 -0.814198 -1.316026  0.103577 -0.438790  5  4\n2019-01-06 -0.820058 -0.304832  0.682086  0.772544  6  5\n2019-01-07  0.372620 -0.363099 -0.554190 -0.675426  7  6\n2019-01-08 -1.461902  0.779040  2.170787  0.421297  8  7\n                   B         C         D  e  F\n2019-01-01 -0.346991  0.432286 -1.308904  1  0\n2019-01-02 -0.580958  0.419270 -0.041485  2  1\n2019-01-03  0.327909  2.029857  0.261376  3  2\n2019-01-04  0.974958 -0.941665  0.307375  4  3\n2019-01-05 -1.316026  0.103577 -0.438790  5  4\n2019-01-06 -0.304832  0.682086  0.772544  6  5\n2019-01-07 -0.363099 -0.554190 -0.675426  7  6\n2019-01-08  0.779040  2.170787  0.421297  8  7\n"
     ],
     "output_type": "stream"
    },
    {
     "data": {
      "text/plain": "                   A         B         C         D  e  F\n2019-01-01 -1.952565 -0.346991  0.432286 -1.308904  1  0\n2019-01-02  0.562992 -0.580958  0.419270 -0.041485  2  1\n2019-01-03  0.106540  0.327909  2.029857  0.261376  3  2\n2019-01-04 -0.425336  0.974958 -0.941665  0.307375  4  3\n2019-01-05 -0.814198 -1.316026  0.103577 -0.438790  5  4\n2019-01-06 -0.820058 -0.304832  0.682086  0.772544  6  5\n2019-01-07  0.372620 -0.363099 -0.554190 -0.675426  7  6\n2019-01-08 -1.461902  0.779040  2.170787  0.421297  8  7",
      "text/html": "<div>\n<style scoped>\n    .dataframe tbody tr th:only-of-type {\n        vertical-align: middle;\n    }\n\n    .dataframe tbody tr th {\n        vertical-align: top;\n    }\n\n    .dataframe thead th {\n        text-align: right;\n    }\n</style>\n<table border=\"1\" class=\"dataframe\">\n  <thead>\n    <tr style=\"text-align: right;\">\n      <th></th>\n      <th>A</th>\n      <th>B</th>\n      <th>C</th>\n      <th>D</th>\n      <th>e</th>\n      <th>F</th>\n    </tr>\n  </thead>\n  <tbody>\n    <tr>\n      <th>2019-01-01</th>\n      <td>-1.952565</td>\n      <td>-0.346991</td>\n      <td>0.432286</td>\n      <td>-1.308904</td>\n      <td>1</td>\n      <td>0</td>\n    </tr>\n    <tr>\n      <th>2019-01-02</th>\n      <td>0.562992</td>\n      <td>-0.580958</td>\n      <td>0.419270</td>\n      <td>-0.041485</td>\n      <td>2</td>\n      <td>1</td>\n    </tr>\n    <tr>\n      <th>2019-01-03</th>\n      <td>0.106540</td>\n      <td>0.327909</td>\n      <td>2.029857</td>\n      <td>0.261376</td>\n      <td>3</td>\n      <td>2</td>\n    </tr>\n    <tr>\n      <th>2019-01-04</th>\n      <td>-0.425336</td>\n      <td>0.974958</td>\n      <td>-0.941665</td>\n      <td>0.307375</td>\n      <td>4</td>\n      <td>3</td>\n    </tr>\n    <tr>\n      <th>2019-01-05</th>\n      <td>-0.814198</td>\n      <td>-1.316026</td>\n      <td>0.103577</td>\n      <td>-0.438790</td>\n      <td>5</td>\n      <td>4</td>\n    </tr>\n    <tr>\n      <th>2019-01-06</th>\n      <td>-0.820058</td>\n      <td>-0.304832</td>\n      <td>0.682086</td>\n      <td>0.772544</td>\n      <td>6</td>\n      <td>5</td>\n    </tr>\n    <tr>\n      <th>2019-01-07</th>\n      <td>0.372620</td>\n      <td>-0.363099</td>\n      <td>-0.554190</td>\n      <td>-0.675426</td>\n      <td>7</td>\n      <td>6</td>\n    </tr>\n    <tr>\n      <th>2019-01-08</th>\n      <td>-1.461902</td>\n      <td>0.779040</td>\n      <td>2.170787</td>\n      <td>0.421297</td>\n      <td>8</td>\n      <td>7</td>\n    </tr>\n  </tbody>\n</table>\n</div>"
     },
     "metadata": {},
     "output_type": "execute_result",
     "execution_count": 91
    }
   ],
   "source": [
    "print(df)\n",
    "print(df.drop(\"A\",axis=1,inplace=False))\n",
    "df"
   ],
   "metadata": {
    "collapsed": false,
    "pycharm": {
     "name": "#%% \n",
     "is_executing": false
    }
   }
  },
  {
   "cell_type": "markdown",
   "source": [
    "## 删除行\n",
    "- `df.reset_index()`千万别忘记"
   ],
   "metadata": {
    "collapsed": false,
    "pycharm": {
     "name": "#%% md\n"
    }
   }
  },
  {
   "cell_type": "code",
   "execution_count": 92,
   "outputs": [
    {
     "name": "stdout",
     "text": [
      "                   A         B         C         D  e  F\n2019-01-01 -1.952565 -0.346991  0.432286 -1.308904  1  0\n2019-01-02  0.562992 -0.580958  0.419270 -0.041485  2  1\n2019-01-03  0.106540  0.327909  2.029857  0.261376  3  2\n2019-01-04 -0.425336  0.974958 -0.941665  0.307375  4  3\n2019-01-05 -0.814198 -1.316026  0.103577 -0.438790  5  4\n2019-01-06 -0.820058 -0.304832  0.682086  0.772544  6  5\n2019-01-07  0.372620 -0.363099 -0.554190 -0.675426  7  6\n2019-01-08 -1.461902  0.779040  2.170787  0.421297  8  7\n"
     ],
     "output_type": "stream"
    },
    {
     "data": {
      "text/plain": "       index         A         B         C         D  e  F\n0 2019-01-01 -1.952565 -0.346991  0.432286 -1.308904  1  0\n1 2019-01-02  0.562992 -0.580958  0.419270 -0.041485  2  1\n2 2019-01-03  0.106540  0.327909  2.029857  0.261376  3  2\n4 2019-01-05 -0.814198 -1.316026  0.103577 -0.438790  5  4\n5 2019-01-06 -0.820058 -0.304832  0.682086  0.772544  6  5\n6 2019-01-07  0.372620 -0.363099 -0.554190 -0.675426  7  6\n7 2019-01-08 -1.461902  0.779040  2.170787  0.421297  8  7",
      "text/html": "<div>\n<style scoped>\n    .dataframe tbody tr th:only-of-type {\n        vertical-align: middle;\n    }\n\n    .dataframe tbody tr th {\n        vertical-align: top;\n    }\n\n    .dataframe thead th {\n        text-align: right;\n    }\n</style>\n<table border=\"1\" class=\"dataframe\">\n  <thead>\n    <tr style=\"text-align: right;\">\n      <th></th>\n      <th>index</th>\n      <th>A</th>\n      <th>B</th>\n      <th>C</th>\n      <th>D</th>\n      <th>e</th>\n      <th>F</th>\n    </tr>\n  </thead>\n  <tbody>\n    <tr>\n      <th>0</th>\n      <td>2019-01-01</td>\n      <td>-1.952565</td>\n      <td>-0.346991</td>\n      <td>0.432286</td>\n      <td>-1.308904</td>\n      <td>1</td>\n      <td>0</td>\n    </tr>\n    <tr>\n      <th>1</th>\n      <td>2019-01-02</td>\n      <td>0.562992</td>\n      <td>-0.580958</td>\n      <td>0.419270</td>\n      <td>-0.041485</td>\n      <td>2</td>\n      <td>1</td>\n    </tr>\n    <tr>\n      <th>2</th>\n      <td>2019-01-03</td>\n      <td>0.106540</td>\n      <td>0.327909</td>\n      <td>2.029857</td>\n      <td>0.261376</td>\n      <td>3</td>\n      <td>2</td>\n    </tr>\n    <tr>\n      <th>4</th>\n      <td>2019-01-05</td>\n      <td>-0.814198</td>\n      <td>-1.316026</td>\n      <td>0.103577</td>\n      <td>-0.438790</td>\n      <td>5</td>\n      <td>4</td>\n    </tr>\n    <tr>\n      <th>5</th>\n      <td>2019-01-06</td>\n      <td>-0.820058</td>\n      <td>-0.304832</td>\n      <td>0.682086</td>\n      <td>0.772544</td>\n      <td>6</td>\n      <td>5</td>\n    </tr>\n    <tr>\n      <th>6</th>\n      <td>2019-01-07</td>\n      <td>0.372620</td>\n      <td>-0.363099</td>\n      <td>-0.554190</td>\n      <td>-0.675426</td>\n      <td>7</td>\n      <td>6</td>\n    </tr>\n    <tr>\n      <th>7</th>\n      <td>2019-01-08</td>\n      <td>-1.461902</td>\n      <td>0.779040</td>\n      <td>2.170787</td>\n      <td>0.421297</td>\n      <td>8</td>\n      <td>7</td>\n    </tr>\n  </tbody>\n</table>\n</div>"
     },
     "metadata": {},
     "output_type": "execute_result",
     "execution_count": 92
    }
   ],
   "source": [
    "print(df)\n",
    "holiday_dataframe = df.reset_index()\n",
    "holiday_dataframe.drop(3,axis=0,inplace=False)  "
   ],
   "metadata": {
    "collapsed": false,
    "pycharm": {
     "name": "#%% \n",
     "is_executing": false
    }
   }
  },
  {
   "cell_type": "markdown",
   "source": [
    "## 修改单元格数据"
   ],
   "metadata": {
    "collapsed": false,
    "pycharm": {
     "name": "#%% md\n"
    }
   }
  },
  {
   "cell_type": "code",
   "execution_count": 95,
   "outputs": [
    {
     "name": "stdout",
     "text": [
      "                   A         B              C         D  e  F\n2019-01-01 -1.952565 -0.346991       0.432286 -1.308904  1  0\n2019-01-02  0.562992 -0.580958       0.419270 -0.041485  2  1\n2019-01-03  0.106540  0.327909  123456.000000  0.261376  3  2\n2019-01-04 -0.425336  0.974958      -0.941665  0.307375  4  3\n2019-01-05 -0.814198 -1.316026       0.103577 -0.438790  5  4\n2019-01-06 -0.820058 -0.304832       0.682086  0.772544  6  5\n2019-01-07  0.372620 -0.363099      -0.554190 -0.675426  7  6\n2019-01-08 -1.461902  0.779040       2.170787  0.421297  8  7\n"
     ],
     "output_type": "stream"
    }
   ],
   "source": [
    "df.iloc[2,2] = 123456\n",
    "print(df)"
   ],
   "metadata": {
    "collapsed": false,
    "pycharm": {
     "name": "#%% \n",
     "is_executing": false
    }
   }
  }
 ],
 "metadata": {
  "kernelspec": {
   "display_name": "Python 3",
   "language": "python",
   "name": "python3"
  },
  "language_info": {
   "codemirror_mode": {
    "name": "ipython",
    "version": 2
   },
   "file_extension": ".py",
   "mimetype": "text/x-python",
   "name": "python",
   "nbconvert_exporter": "python",
   "pygments_lexer": "ipython2",
   "version": "2.7.6"
  },
  "pycharm": {
   "stem_cell": {
    "cell_type": "raw",
    "source": [],
    "metadata": {
     "collapsed": false
    }
   }
  }
 },
 "nbformat": 4,
 "nbformat_minor": 0
}