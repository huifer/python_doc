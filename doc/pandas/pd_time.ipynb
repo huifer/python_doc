{
 "cells": [
  {
   "cell_type": "markdown",
   "source": [
    "# Pandas 时间\n",
    "\n",
    "## 创建日期"
   ],
   "metadata": {
    "collapsed": false,
    "pycharm": {
     "name": "#%% md\n"
    }
   }
  },
  {
   "cell_type": "code",
   "execution_count": 30,
   "outputs": [
    {
     "name": "stdout",
     "text": [
      "DatetimeIndex(['2019-01-01', '2019-01-02', '2019-01-03', '2019-01-04',\n               '2019-01-05', '2019-01-06', '2019-01-07', '2019-01-08',\n               '2019-01-09', '2019-01-10', '2019-01-11', '2019-01-12',\n               '2019-01-13', '2019-01-14', '2019-01-15', '2019-01-16',\n               '2019-01-17', '2019-01-18', '2019-01-19', '2019-01-20',\n               '2019-01-21', '2019-01-22', '2019-01-23', '2019-01-24',\n               '2019-01-25', '2019-01-26', '2019-01-27', '2019-01-28',\n               '2019-01-29', '2019-01-30', '2019-01-31'],\n              dtype='datetime64[ns]', freq='D')\nDatetimeIndex(['2019-01-01 00:00:00', '2019-01-01 01:00:00',\n               '2019-01-01 02:00:00', '2019-01-01 03:00:00',\n               '2019-01-01 04:00:00', '2019-01-01 05:00:00',\n               '2019-01-01 06:00:00', '2019-01-01 07:00:00',\n               '2019-01-01 08:00:00', '2019-01-01 09:00:00',\n               ...\n               '2019-01-30 15:00:00', '2019-01-30 16:00:00',\n               '2019-01-30 17:00:00', '2019-01-30 18:00:00',\n               '2019-01-30 19:00:00', '2019-01-30 20:00:00',\n               '2019-01-30 21:00:00', '2019-01-30 22:00:00',\n               '2019-01-30 23:00:00', '2019-01-31 00:00:00'],\n              dtype='datetime64[ns]', length=721, freq='H')\n"
     ],
     "output_type": "stream"
    }
   ],
   "source": [
    "import pandas as pd \n",
    "dt = pd.date_range(\"2019-01-01\",\"2019-01-31\")\n",
    "print(dt)\n",
    "dt = pd.date_range(\"2019-01-01\",\"2019-01-31\",freq=\"h\")\n",
    "print(dt)"
   ],
   "metadata": {
    "collapsed": false,
    "pycharm": {
     "name": "#%% \n",
     "is_executing": false
    }
   }
  },
  {
   "cell_type": "markdown",
   "source": [
    "## 字符串时间\n",
    "`2019-11-01`这样的一种形式是我们经常见到的时间表述方式, 怎么把它变成 Pandas 中的时间就是我们需要考虑的问题"
   ],
   "metadata": {
    "collapsed": false
   }
  },
  {
   "cell_type": "code",
   "execution_count": 6,
   "metadata": {
    "collapsed": true,
    "pycharm": {
     "is_executing": false
    }
   },
   "outputs": [
    {
     "name": "stdout",
     "text": [
      "DatetimeIndex(['2019-01-01', '2019-01-02'], dtype='datetime64[ns]', freq=None)\n"
     ],
     "output_type": "stream"
    }
   ],
   "source": [
    "import pandas as pd\n",
    "dt = [\"2019-01-01\",\"2019-01-02\"]\n",
    "d = pd.to_datetime(dt)\n",
    "print(d)"
   ]
  },
  {
   "cell_type": "markdown",
   "source": [
    "## 时间戳\n",
    "### 时间戳转换日期"
   ],
   "metadata": {
    "collapsed": false,
    "pycharm": {
     "name": "#%% md\n"
    }
   }
  },
  {
   "cell_type": "code",
   "execution_count": 18,
   "outputs": [
    {
     "name": "stdout",
     "text": [
      "0   2019-01-01\n1   2019-01-02\ndtype: datetime64[ns]\n"
     ],
     "output_type": "stream"
    }
   ],
   "source": [
    "import numpy as np\n",
    "import pandas as pd\n",
    "dt =  pd.Series([1546272000000,1546358400000]) \n",
    "new_dt = pd.to_datetime(dt,unit='ms',origin=pd.Timestamp('1970-01-01 08:00:00'))\n",
    "print(new_dt)"
   ],
   "metadata": {
    "collapsed": false,
    "pycharm": {
     "name": "#%%\n",
     "is_executing": false
    }
   }
  },
  {
   "cell_type": "markdown",
   "source": [
    "#### 日期转换时间戳"
   ],
   "metadata": {
    "collapsed": false,
    "pycharm": {
     "name": "#%% md\n"
    }
   }
  },
  {
   "cell_type": "code",
   "execution_count": 26,
   "outputs": [
    {
     "name": "stdout",
     "text": [
      "0   1546272000000.000\n1   1546358400000.000\ndtype: float64\n"
     ],
     "output_type": "stream"
    },
    {
     "name": "stderr",
     "text": [
      "e:\\pycharm_project\\python_doc\\venv2\\lib\\site-packages\\ipykernel_launcher.py:3: DeprecationWarning: parsing timezone aware datetimes is deprecated; this will raise an error in the future\n  This is separate from the ipykernel package so we can avoid doing imports until\n"
     ],
     "output_type": "stream"
    }
   ],
   "source": [
    "# np.set_printoptions(suppress=True, threshold=np.nan)\n",
    "pd.set_option('float_format', lambda x: '%.3f' % x)\n",
    "v = (new_dt.values - np.datetime64('1970-01-01T08:00:00Z')) / np.timedelta64(1, 'ms')\n",
    "dt = pd.Series(v)\n",
    "print(dt)"
   ],
   "metadata": {
    "collapsed": false,
    "pycharm": {
     "name": "#%%\n",
     "is_executing": false
    }
   }
  },
  {
   "cell_type": "markdown",
   "source": [
    "## 时间运算\n",
    "### 计算相差时间"
   ],
   "metadata": {
    "collapsed": false,
    "pycharm": {
     "name": "#%% md\n"
    }
   }
  },
  {
   "cell_type": "code",
   "execution_count": 38,
   "outputs": [
    {
     "data": {
      "text/plain": "         col1       col2   相差天数\n0  2019-01-01 2019-01-02 1 days\n1  2019-01-02 2019-01-03 1 days\n2  2019-01-03 2019-01-04 1 days\n3  2019-01-04 2019-01-05 1 days\n4  2019-01-05 2019-01-06 1 days\n5  2019-01-06 2019-01-07 1 days\n6  2019-01-07 2019-01-08 1 days\n7  2019-01-08 2019-01-09 1 days\n8  2019-01-09 2019-01-10 1 days\n9  2019-01-10 2019-01-11 1 days\n10 2019-01-11 2019-01-12 1 days\n11 2019-01-12 2019-01-13 1 days\n12 2019-01-13 2019-01-14 1 days\n13 2019-01-14 2019-01-15 1 days\n14 2019-01-15 2019-01-16 1 days\n15 2019-01-16 2019-01-17 1 days\n16 2019-01-17 2019-01-18 1 days\n17 2019-01-18 2019-01-19 1 days\n18 2019-01-19 2019-01-20 1 days\n19 2019-01-20 2019-01-21 1 days\n20 2019-01-21 2019-01-22 1 days\n21 2019-01-22 2019-01-23 1 days\n22 2019-01-23 2019-01-24 1 days\n23 2019-01-24 2019-01-25 1 days\n24 2019-01-25 2019-01-26 1 days\n25 2019-01-26 2019-01-27 1 days\n26 2019-01-27 2019-01-28 1 days\n27 2019-01-28 2019-01-29 1 days\n28 2019-01-29 2019-01-30 1 days\n29 2019-01-30 2019-01-31 1 days\n30 2019-01-31 2019-02-01 1 days",
      "text/html": "<div>\n<style scoped>\n    .dataframe tbody tr th:only-of-type {\n        vertical-align: middle;\n    }\n\n    .dataframe tbody tr th {\n        vertical-align: top;\n    }\n\n    .dataframe thead th {\n        text-align: right;\n    }\n</style>\n<table border=\"1\" class=\"dataframe\">\n  <thead>\n    <tr style=\"text-align: right;\">\n      <th></th>\n      <th>col1</th>\n      <th>col2</th>\n      <th>相差天数</th>\n    </tr>\n  </thead>\n  <tbody>\n    <tr>\n      <th>0</th>\n      <td>2019-01-01</td>\n      <td>2019-01-02</td>\n      <td>1 days</td>\n    </tr>\n    <tr>\n      <th>1</th>\n      <td>2019-01-02</td>\n      <td>2019-01-03</td>\n      <td>1 days</td>\n    </tr>\n    <tr>\n      <th>2</th>\n      <td>2019-01-03</td>\n      <td>2019-01-04</td>\n      <td>1 days</td>\n    </tr>\n    <tr>\n      <th>3</th>\n      <td>2019-01-04</td>\n      <td>2019-01-05</td>\n      <td>1 days</td>\n    </tr>\n    <tr>\n      <th>4</th>\n      <td>2019-01-05</td>\n      <td>2019-01-06</td>\n      <td>1 days</td>\n    </tr>\n    <tr>\n      <th>5</th>\n      <td>2019-01-06</td>\n      <td>2019-01-07</td>\n      <td>1 days</td>\n    </tr>\n    <tr>\n      <th>6</th>\n      <td>2019-01-07</td>\n      <td>2019-01-08</td>\n      <td>1 days</td>\n    </tr>\n    <tr>\n      <th>7</th>\n      <td>2019-01-08</td>\n      <td>2019-01-09</td>\n      <td>1 days</td>\n    </tr>\n    <tr>\n      <th>8</th>\n      <td>2019-01-09</td>\n      <td>2019-01-10</td>\n      <td>1 days</td>\n    </tr>\n    <tr>\n      <th>9</th>\n      <td>2019-01-10</td>\n      <td>2019-01-11</td>\n      <td>1 days</td>\n    </tr>\n    <tr>\n      <th>10</th>\n      <td>2019-01-11</td>\n      <td>2019-01-12</td>\n      <td>1 days</td>\n    </tr>\n    <tr>\n      <th>11</th>\n      <td>2019-01-12</td>\n      <td>2019-01-13</td>\n      <td>1 days</td>\n    </tr>\n    <tr>\n      <th>12</th>\n      <td>2019-01-13</td>\n      <td>2019-01-14</td>\n      <td>1 days</td>\n    </tr>\n    <tr>\n      <th>13</th>\n      <td>2019-01-14</td>\n      <td>2019-01-15</td>\n      <td>1 days</td>\n    </tr>\n    <tr>\n      <th>14</th>\n      <td>2019-01-15</td>\n      <td>2019-01-16</td>\n      <td>1 days</td>\n    </tr>\n    <tr>\n      <th>15</th>\n      <td>2019-01-16</td>\n      <td>2019-01-17</td>\n      <td>1 days</td>\n    </tr>\n    <tr>\n      <th>16</th>\n      <td>2019-01-17</td>\n      <td>2019-01-18</td>\n      <td>1 days</td>\n    </tr>\n    <tr>\n      <th>17</th>\n      <td>2019-01-18</td>\n      <td>2019-01-19</td>\n      <td>1 days</td>\n    </tr>\n    <tr>\n      <th>18</th>\n      <td>2019-01-19</td>\n      <td>2019-01-20</td>\n      <td>1 days</td>\n    </tr>\n    <tr>\n      <th>19</th>\n      <td>2019-01-20</td>\n      <td>2019-01-21</td>\n      <td>1 days</td>\n    </tr>\n    <tr>\n      <th>20</th>\n      <td>2019-01-21</td>\n      <td>2019-01-22</td>\n      <td>1 days</td>\n    </tr>\n    <tr>\n      <th>21</th>\n      <td>2019-01-22</td>\n      <td>2019-01-23</td>\n      <td>1 days</td>\n    </tr>\n    <tr>\n      <th>22</th>\n      <td>2019-01-23</td>\n      <td>2019-01-24</td>\n      <td>1 days</td>\n    </tr>\n    <tr>\n      <th>23</th>\n      <td>2019-01-24</td>\n      <td>2019-01-25</td>\n      <td>1 days</td>\n    </tr>\n    <tr>\n      <th>24</th>\n      <td>2019-01-25</td>\n      <td>2019-01-26</td>\n      <td>1 days</td>\n    </tr>\n    <tr>\n      <th>25</th>\n      <td>2019-01-26</td>\n      <td>2019-01-27</td>\n      <td>1 days</td>\n    </tr>\n    <tr>\n      <th>26</th>\n      <td>2019-01-27</td>\n      <td>2019-01-28</td>\n      <td>1 days</td>\n    </tr>\n    <tr>\n      <th>27</th>\n      <td>2019-01-28</td>\n      <td>2019-01-29</td>\n      <td>1 days</td>\n    </tr>\n    <tr>\n      <th>28</th>\n      <td>2019-01-29</td>\n      <td>2019-01-30</td>\n      <td>1 days</td>\n    </tr>\n    <tr>\n      <th>29</th>\n      <td>2019-01-30</td>\n      <td>2019-01-31</td>\n      <td>1 days</td>\n    </tr>\n    <tr>\n      <th>30</th>\n      <td>2019-01-31</td>\n      <td>2019-02-01</td>\n      <td>1 days</td>\n    </tr>\n  </tbody>\n</table>\n</div>"
     },
     "metadata": {},
     "output_type": "execute_result",
     "execution_count": 38
    }
   ],
   "source": [
    "import pandas as pd \n",
    "dt1 = pd.date_range(\"2019-01-01\",\"2019-01-31\")\n",
    "dt2 = pd.date_range(\"2019-01-02\",\"2019-02-01\")\n",
    "\n",
    "df = pd.DataFrame({\"col1\":dt1,\"col2\":dt2})\n",
    "df['相差天数'] = df['col2']-df['col1']\n",
    "df"
   ],
   "metadata": {
    "collapsed": false,
    "pycharm": {
     "name": "#%% \n",
     "is_executing": false
    }
   }
  }
 ],
 "metadata": {
  "kernelspec": {
   "display_name": "Python 3",
   "language": "python",
   "name": "python3"
  },
  "language_info": {
   "codemirror_mode": {
    "name": "ipython",
    "version": 2
   },
   "file_extension": ".py",
   "mimetype": "text/x-python",
   "name": "python",
   "nbconvert_exporter": "python",
   "pygments_lexer": "ipython2",
   "version": "2.7.6"
  },
  "pycharm": {
   "stem_cell": {
    "cell_type": "raw",
    "source": [],
    "metadata": {
     "collapsed": false
    }
   }
  }
 },
 "nbformat": 4,
 "nbformat_minor": 0
}