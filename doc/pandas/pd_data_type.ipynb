{
 "cells": [
  {
   "cell_type": "markdown",
   "source": [
    "# Pandas 数据类型\n",
    "> Pandas 的数据类型\n",
    ">   1. float\n",
    ">   1. int\n",
    ">   1. bool\n",
    ">   1. datetime64[ns]\n",
    ">   1. datetime64[ns, tz] \n",
    ">   1. timedelta[ns] \n",
    ">   1. category \n",
    ">   1. object\n",
    ">   \n",
    "> 默认的是 `int` & `float`\n",
    "\n",
    "- 查看 Pandas 的数据类型\n",
    "    `df.dtypes`\n",
    "## Pandas 数据类型\n",
    "- Pandas dtype 和 Python type 和 Numpy type 对应关系\n",
    "\n",
    "| Pandas dtype  | Python type  | NumPy type                                                   | Usage                                        |\n",
    "| :------------ | :----------- | :----------------------------------------------------------- | :------------------------------------------- |\n",
    "| object        | str or mixed | string_, unicode_, mixed types                               | Text or mixed numeric and non-numeric values |\n",
    "| int64         | int          | int_, int8, int16, int32, int64, uint8, uint16, uint32, uint64 | Integer numbers                              |\n",
    "| float64       | float        | float_, float16, float32, float64                            | Floating point numbers                       |\n",
    "| bool          | bool         | bool_                                                        | True/False values                            |\n",
    "| datetime64    | NA           | datetime64[ns]                                               | Date and time values                         |\n",
    "| timedelta[ns] | NA           | NA                                                           | Differences between two datetimes            |\n",
    "| category      | NA           | NA                                                           | Finite list of text values                   |\n",
    "\n",
    "## dtype 设置\n",
    "- 可以通过 `Series` 的属性 `dtype` 设置数据类型\n",
    "- 可以通过 `DataFrame` 的属性 `dtype` 设置数据类型"
   ],
   "metadata": {
    "collapsed": false,
    "pycharm": {
     "name": "#%% md\n"
    }
   }
  },
  {
   "cell_type": "code",
   "execution_count": 57,
   "outputs": [
    {
     "data": {
      "text/plain": "0    int32\n1    int32\n2    int32\ndtype: object"
     },
     "metadata": {},
     "output_type": "execute_result",
     "execution_count": 57
    }
   ],
   "source": [
    "import pandas as pd\n",
    "import numpy as np\n",
    "l1 = [11, 12, 13]\n",
    "l2 = [21, 22, 23]\n",
    "l3 = [31, 32, 33]\n",
    "# df = pd.DataFrame([l1,l2,l3], dtype=np.int_)\n",
    "df = pd.DataFrame([l1,l2,l3], dtype=\"int\")\n",
    "df.dtypes"
   ],
   "metadata": {
    "collapsed": false,
    "pycharm": {
     "name": "#%%\n",
     "is_executing": false
    }
   }
  },
  {
   "cell_type": "code",
   "execution_count": 58,
   "outputs": [
    {
     "data": {
      "text/plain": "dtype('float64')"
     },
     "metadata": {},
     "output_type": "execute_result",
     "execution_count": 58
    }
   ],
   "source": [
    "s = pd.Series([1,2,3],dtype=\"float\")\n",
    "s.dtypes"
   ],
   "metadata": {
    "collapsed": false,
    "pycharm": {
     "name": "#%%\n",
     "is_executing": false
    }
   }
  },
  {
   "cell_type": "markdown",
   "source": [
    "## float\n",
    "### 初始化  "
   ],
   "metadata": {
    "collapsed": false,
    "pycharm": {
     "name": "#%% md\n"
    }
   }
  },
  {
   "cell_type": "code",
   "execution_count": 59,
   "outputs": [
    {
     "data": {
      "text/plain": "dtype('float64')"
     },
     "metadata": {},
     "output_type": "execute_result",
     "execution_count": 59
    }
   ],
   "source": [
    "s = pd.Series([1,2,3],dtype=\"float\")\n",
    "s.dtypes"
   ],
   "metadata": {
    "collapsed": false,
    "pycharm": {
     "name": "#%% \n",
     "is_executing": false
    }
   }
  },
  {
   "cell_type": "markdown",
   "source": [
    "### 转换 \n",
    "- `astype` 方法"
   ],
   "metadata": {
    "collapsed": false,
    "pycharm": {
     "name": "#%% md\n"
    }
   }
  },
  {
   "cell_type": "code",
   "execution_count": 60,
   "outputs": [
    {
     "name": "stdout",
     "text": [
      "int32\nfloat64\nobject\nfloat64\n"
     ],
     "output_type": "stream"
    }
   ],
   "source": [
    "# int 转换 float\n",
    "s = pd.Series([1,2,3],dtype=\"int\")\n",
    "print(s.dtypes)\n",
    "s1 = s.astype(dtype=\"float\")\n",
    "print(s1.dtypes)\n",
    "# str 转换 float\n",
    "s = pd.Series([\"1\",\"2\",\"3\"],dtype=\"str\")\n",
    "print(s.dtypes)\n",
    "s1 = s.astype(dtype=\"float\")\n",
    "print(s1.dtypes)\n",
    " "
   ],
   "metadata": {
    "collapsed": false,
    "pycharm": {
     "name": "#%%\n",
     "is_executing": false
    }
   }
  },
  {
   "cell_type": "markdown",
   "source": [
    "## int \n",
    "### 初始化  "
   ],
   "metadata": {
    "collapsed": false,
    "pycharm": {
     "name": "#%% md\n"
    }
   }
  },
  {
   "cell_type": "code",
   "execution_count": 61,
   "outputs": [
    {
     "data": {
      "text/plain": "dtype('int32')"
     },
     "metadata": {},
     "output_type": "execute_result",
     "execution_count": 61
    }
   ],
   "source": [
    "s = pd.Series([1,2,3],dtype=\"int\")\n",
    "s.dtypes"
   ],
   "metadata": {
    "collapsed": false,
    "pycharm": {
     "name": "#%%\n",
     "is_executing": false
    }
   }
  },
  {
   "cell_type": "markdown",
   "source": [
    "### 转换"
   ],
   "metadata": {
    "collapsed": false,
    "pycharm": {
     "name": "#%% md\n"
    }
   }
  },
  {
   "cell_type": "code",
   "execution_count": 62,
   "outputs": [
    {
     "name": "stdout",
     "text": [
      "float64\nint32\n0    1\n1    2\n2    3\ndtype: int32\n"
     ],
     "output_type": "stream"
    }
   ],
   "source": [
    "s = pd.Series([1.3,2.1,3.6],dtype=\"float\")\n",
    "print(s.dtypes)\n",
    "s1 = s.astype(dtype=\"int\")\n",
    "print(s1.dtypes)\n",
    "print(s1)"
   ],
   "metadata": {
    "collapsed": false,
    "pycharm": {
     "name": "#%%\n",
     "is_executing": false
    }
   }
  },
  {
   "cell_type": "markdown",
   "source": [
    "## bool\n",
    "### 初始化  "
   ],
   "metadata": {
    "collapsed": false
   }
  },
  {
   "cell_type": "code",
   "execution_count": 63,
   "outputs": [
    {
     "name": "stdout",
     "text": [
      "bool\n"
     ],
     "output_type": "stream"
    }
   ],
   "source": [
    "s = pd.Series([True,False])\n",
    "print(s.dtypes)"
   ],
   "metadata": {
    "collapsed": false,
    "pycharm": {
     "name": "#%%\n",
     "is_executing": false
    }
   }
  },
  {
   "cell_type": "markdown",
   "source": [
    "### 转换\n",
    "- 非零都为 `True`"
   ],
   "metadata": {
    "collapsed": false,
    "pycharm": {
     "name": "#%% md\n"
    }
   }
  },
  {
   "cell_type": "code",
   "execution_count": 64,
   "outputs": [
    {
     "name": "stdout",
     "text": [
      "float64\nbool\n0     True\n1    False\n2     True\n3     True\ndtype: bool\n"
     ],
     "output_type": "stream"
    }
   ],
   "source": [
    "s = pd.Series([1,0,-1,1.2])\n",
    "print(s.dtypes)\n",
    "s1 = s.astype(dtype=\"bool\")\n",
    "print(s1.dtypes)\n",
    "print(s1)"
   ],
   "metadata": {
    "collapsed": false,
    "pycharm": {
     "name": "#%%\n",
     "is_executing": false
    }
   }
  },
  {
   "cell_type": "markdown",
   "source": [
    "## datetime64[ns]"
   ],
   "metadata": {
    "collapsed": false
   }
  },
  {
   "cell_type": "code",
   "execution_count": 65,
   "outputs": [
    {
     "name": "stdout",
     "text": [
      "datetime64[ns]\n0   2019-11-01\ndtype: datetime64[ns]\n"
     ],
     "output_type": "stream"
    }
   ],
   "source": [
    "import datetime\n",
    "import numpy as np\n",
    "import pandas as pd\n",
    "dt = datetime.datetime(2019, 11, 1)\n",
    "ts = pd.Series([dt])\n",
    "print(ts.dtypes )\n",
    "pd.to_datetime(ts,format='%Y-%m-%d')\n",
    "print(ts)"
   ],
   "metadata": {
    "collapsed": false,
    "pycharm": {
     "name": "#%%\n",
     "is_executing": false
    }
   }
  },
  {
   "cell_type": "markdown",
   "source": [
    "## category"
   ],
   "metadata": {
    "collapsed": false
   }
  },
  {
   "cell_type": "code",
   "execution_count": 66,
   "outputs": [
    {
     "name": "stdout",
     "text": [
      "0    a\n1    b\n2    c\n3    a\ndtype: category\nCategories (3, object): [a, b, c]\n"
     ],
     "output_type": "stream"
    }
   ],
   "source": [
    "s = pd.Series([\"a\", \"b\", \"c\", \"a\"], dtype=\"category\")\n",
    "print(s)"
   ],
   "metadata": {
    "collapsed": false,
    "pycharm": {
     "name": "#%%\n",
     "is_executing": false
    }
   }
  },
  {
   "cell_type": "markdown",
   "source": [
    "### 常用函数\n",
    "#### describe()\n",
    "- 返回值\n",
    "    - count : 总数\n",
    "    - unique : 唯一值数量\n",
    "    - top : 出现最多的值\n",
    "    - freq : 出现最多的值的出现次数"
   ],
   "metadata": {
    "collapsed": false,
    "pycharm": {
     "name": "#%% md\n"
    }
   }
  },
  {
   "cell_type": "code",
   "execution_count": 67,
   "outputs": [
    {
     "data": {
      "text/plain": "count     4\nunique    3\ntop       a\nfreq      2\ndtype: object"
     },
     "metadata": {},
     "output_type": "execute_result",
     "execution_count": 67
    }
   ],
   "source": [
    "s.describe()"
   ],
   "metadata": {
    "collapsed": false,
    "pycharm": {
     "name": "#%%\n",
     "is_executing": false
    }
   }
  },
  {
   "cell_type": "markdown",
   "source": [
    "#### value_counts()\n",
    "- 数据分布情况 \n",
    "    - 返回值: 每个值出现的次数"
   ],
   "metadata": {
    "collapsed": false,
    "pycharm": {
     "name": "#%% md\n"
    }
   }
  },
  {
   "cell_type": "code",
   "execution_count": 68,
   "outputs": [
    {
     "data": {
      "text/plain": "a    2\nc    1\nb    1\ndtype: int64"
     },
     "metadata": {},
     "output_type": "execute_result",
     "execution_count": 68
    }
   ],
   "source": [
    "s.value_counts()"
   ],
   "metadata": {
    "collapsed": false,
    "pycharm": {
     "name": "#%% \n",
     "is_executing": false
    }
   }
  }
 ],
 "metadata": {
  "kernelspec": {
   "display_name": "Python 3",
   "language": "python",
   "name": "python3"
  },
  "language_info": {
   "codemirror_mode": {
    "name": "ipython",
    "version": 2
   },
   "file_extension": ".py",
   "mimetype": "text/x-python",
   "name": "python",
   "nbconvert_exporter": "python",
   "pygments_lexer": "ipython2",
   "version": "2.7.6"
  },
  "pycharm": {
   "stem_cell": {
    "cell_type": "raw",
    "source": [],
    "metadata": {
     "collapsed": false
    }
   }
  }
 },
 "nbformat": 4,
 "nbformat_minor": 0
}