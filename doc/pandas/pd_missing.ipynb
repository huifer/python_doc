{
 "cells": [
  {
   "cell_type": "markdown",
   "source": [
    "# Pandas 缺失值处理\n",
    "- 缺失值在 pandas 中用 np.nan 、 NaT(时间缺失) 来进行标识.\n",
    "- 空值用`\"\"`表示\n",
    "## 创建"
   ],
   "metadata": {
    "collapsed": false
   }
  },
  {
   "cell_type": "code",
   "execution_count": 20,
   "metadata": {
    "collapsed": true,
    "pycharm": {
     "is_executing": false
    }
   },
   "outputs": [
    {
     "data": {
      "text/plain": "  name   bc       time\n0   zs  NaN        NaT\n1   ls    b 1940-04-25\n2   wu    c        NaT",
      "text/html": "<div>\n<style scoped>\n    .dataframe tbody tr th:only-of-type {\n        vertical-align: middle;\n    }\n\n    .dataframe tbody tr th {\n        vertical-align: top;\n    }\n\n    .dataframe thead th {\n        text-align: right;\n    }\n</style>\n<table border=\"1\" class=\"dataframe\">\n  <thead>\n    <tr style=\"text-align: right;\">\n      <th></th>\n      <th>name</th>\n      <th>bc</th>\n      <th>time</th>\n    </tr>\n  </thead>\n  <tbody>\n    <tr>\n      <th>0</th>\n      <td>zs</td>\n      <td>NaN</td>\n      <td>NaT</td>\n    </tr>\n    <tr>\n      <th>1</th>\n      <td>ls</td>\n      <td>b</td>\n      <td>1940-04-25</td>\n    </tr>\n    <tr>\n      <th>2</th>\n      <td>wu</td>\n      <td>c</td>\n      <td>NaT</td>\n    </tr>\n  </tbody>\n</table>\n</div>"
     },
     "metadata": {},
     "output_type": "execute_result",
     "execution_count": 20
    }
   ],
   "source": [
    "import numpy as np\n",
    "import pandas as pd\n",
    "\n",
    "df = pd.DataFrame({ \"name\": ['zs', 'ls', 'wu'],\n",
    "                    \"bc\": [np.nan, 'b', 'c'],\n",
    "                    \"time\": [pd.NaT, pd.Timestamp(\"1940-04-25\"),pd.NaT]})\n",
    "\n",
    "df  "
   ]
  },
  {
   "cell_type": "markdown",
   "source": [
    "## 删除缺失\n",
    "- `DataFrame.dropna()` 删除缺失值不替换原始值"
   ],
   "metadata": {
    "collapsed": false,
    "pycharm": {
     "name": "#%% md\n"
    }
   }
  },
  {
   "cell_type": "code",
   "execution_count": 25,
   "outputs": [
    {
     "name": "stdout",
     "text": [
      "  name bc       time\n1   ls  b 1940-04-25\n\n\n\n  name   bc       time\n0   zs  NaN        NaT\n1   ls    b 1940-04-25\n2   wu    c        NaT\n\n\n\n所有值全为缺失值才删除\n  name   bc       time\n0   zs  NaN        NaT\n1   ls    b 1940-04-25\n2   wu    c        NaT\n\n\n\n至少出现过两个缺失值才删除\n  name bc       time\n1   ls  b 1940-04-25\n2   wu  c        NaT\n\n\n\n  name bc       time\n1   ls  b 1940-04-25\n2   wu  c        NaT\n"
     ],
     "output_type": "stream"
    }
   ],
   "source": [
    "print(df.dropna())\n",
    "print(\"\\n\\n\")\n",
    "print(df)\n",
    "print(\"\\n\\n\")\n",
    "\n",
    "print(\"所有值全为缺失值才删除\")\n",
    "print(df.dropna(how=\"all\"))\n",
    "print(\"\\n\\n\")\n",
    "\n",
    "print(\"至少出现过两个缺失值才删除\")\n",
    "print(df.dropna(thresh=2))\n",
    "print(\"\\n\\n\")\n",
    "\n",
    "print(\"删除subset中的缺损值行\")\n",
    "print(df.dropna(subset=[\"bc\"]))\n"
   ],
   "metadata": {
    "collapsed": false,
    "pycharm": {
     "name": "#%% \n",
     "is_executing": false
    }
   }
  },
  {
   "cell_type": "markdown",
   "source": [
    "## 缺失值填充\n",
    "- `DataFrame.fillna()`"
   ],
   "metadata": {
    "collapsed": false,
    "pycharm": {
     "name": "#%% md\n"
    }
   }
  },
  {
   "cell_type": "code",
   "execution_count": 31,
   "outputs": [
    {
     "name": "stdout",
     "text": [
      "     A    B   C  D\n0  NaN  2.0 NaN  0\n1  3.0  4.0 NaN  1\n2  NaN  NaN NaN  5\n3  NaN  3.0 NaN  4\n\n\n\n横向用缺失值前面的值替换缺失值\n     A    B    C    D\n0  NaN  2.0  2.0  0.0\n1  3.0  4.0  4.0  1.0\n2  NaN  NaN  NaN  5.0\n3  NaN  3.0  3.0  4.0\n\n\n\n纵向用缺失值上面的值替换缺失值\n     A    B   C  D\n0  NaN  2.0 NaN  0\n1  3.0  4.0 NaN  1\n2  3.0  4.0 NaN  5\n3  3.0  3.0 NaN  4\n\n\n\n",
      "     A    B    C  D\n0 -1.0  2.0 -1.0  0\n1  3.0  4.0 -1.0  1\n2 -1.0 -1.0 -1.0  5\n3 -1.0  3.0 -1.0  4\n"
     ],
     "output_type": "stream"
    }
   ],
   "source": [
    "df = pd.DataFrame([[np.nan, 2, np.nan, 0],\n",
    "                  [3, 4, np.nan, 1],\n",
    "                 [np.nan, np.nan, np.nan, 5],\n",
    "                [np.nan, 3, np.nan, 4]],\n",
    "                 columns=list('ABCD'))\n",
    " \n",
    "print(df) \n",
    " \n",
    "print(\"\\n\\n\")\n",
    "print(\"横向用缺失值前面的值替换缺失值\") \n",
    "print(df.fillna(axis=1,method='ffill')) \n",
    " \n",
    "print(\"\\n\\n\")\n",
    "print(\"纵向用缺失值上面的值替换缺失值\") \n",
    "print(df.fillna(axis=0,method='ffill')) \n",
    "\n",
    "print(\"\\n\\n\")\n",
    "print(\"指定值替换缺失值\") \n",
    "print(df.fillna(-1))"
   ],
   "metadata": {
    "collapsed": false,
    "pycharm": {
     "name": "#%% \n",
     "is_executing": false
    }
   }
  },
  {
   "cell_type": "markdown",
   "source": [
    "## 缺损布尔值"
   ],
   "metadata": {
    "collapsed": false,
    "pycharm": {
     "name": "#%% md\n"
    }
   }
  },
  {
   "cell_type": "code",
   "execution_count": 32,
   "outputs": [
    {
     "data": {
      "text/plain": "       A      B     C      D\n0   True  False  True  False\n1  False  False  True  False\n2   True   True  True  False\n3   True  False  True  False",
      "text/html": "<div>\n<style scoped>\n    .dataframe tbody tr th:only-of-type {\n        vertical-align: middle;\n    }\n\n    .dataframe tbody tr th {\n        vertical-align: top;\n    }\n\n    .dataframe thead th {\n        text-align: right;\n    }\n</style>\n<table border=\"1\" class=\"dataframe\">\n  <thead>\n    <tr style=\"text-align: right;\">\n      <th></th>\n      <th>A</th>\n      <th>B</th>\n      <th>C</th>\n      <th>D</th>\n    </tr>\n  </thead>\n  <tbody>\n    <tr>\n      <th>0</th>\n      <td>True</td>\n      <td>False</td>\n      <td>True</td>\n      <td>False</td>\n    </tr>\n    <tr>\n      <th>1</th>\n      <td>False</td>\n      <td>False</td>\n      <td>True</td>\n      <td>False</td>\n    </tr>\n    <tr>\n      <th>2</th>\n      <td>True</td>\n      <td>True</td>\n      <td>True</td>\n      <td>False</td>\n    </tr>\n    <tr>\n      <th>3</th>\n      <td>True</td>\n      <td>False</td>\n      <td>True</td>\n      <td>False</td>\n    </tr>\n  </tbody>\n</table>\n</div>"
     },
     "metadata": {},
     "output_type": "execute_result",
     "execution_count": 32
    }
   ],
   "source": [
    "df = pd.DataFrame([[np.nan, 2, np.nan, 0],\n",
    "                  [3, 4, np.nan, 1],\n",
    "                 [np.nan, np.nan, np.nan, 5],\n",
    "                [np.nan, 3, np.nan, 4]],\n",
    "                 columns=list('ABCD'))\n",
    "df.isna()"
   ],
   "metadata": {
    "collapsed": false,
    "pycharm": {
     "name": "#%% \n",
     "is_executing": false
    }
   }
  },
  {
   "cell_type": "code",
   "execution_count": 34,
   "outputs": [
    {
     "data": {
      "text/plain": "       A      B     C      D\n0   True  False  True  False\n1  False  False  True  False\n2   True   True  True  False\n3   True  False  True  False",
      "text/html": "<div>\n<style scoped>\n    .dataframe tbody tr th:only-of-type {\n        vertical-align: middle;\n    }\n\n    .dataframe tbody tr th {\n        vertical-align: top;\n    }\n\n    .dataframe thead th {\n        text-align: right;\n    }\n</style>\n<table border=\"1\" class=\"dataframe\">\n  <thead>\n    <tr style=\"text-align: right;\">\n      <th></th>\n      <th>A</th>\n      <th>B</th>\n      <th>C</th>\n      <th>D</th>\n    </tr>\n  </thead>\n  <tbody>\n    <tr>\n      <th>0</th>\n      <td>True</td>\n      <td>False</td>\n      <td>True</td>\n      <td>False</td>\n    </tr>\n    <tr>\n      <th>1</th>\n      <td>False</td>\n      <td>False</td>\n      <td>True</td>\n      <td>False</td>\n    </tr>\n    <tr>\n      <th>2</th>\n      <td>True</td>\n      <td>True</td>\n      <td>True</td>\n      <td>False</td>\n    </tr>\n    <tr>\n      <th>3</th>\n      <td>True</td>\n      <td>False</td>\n      <td>True</td>\n      <td>False</td>\n    </tr>\n  </tbody>\n</table>\n</div>"
     },
     "metadata": {},
     "output_type": "execute_result",
     "execution_count": 34
    }
   ],
   "source": [
    "df.isnull()"
   ],
   "metadata": {
    "collapsed": false,
    "pycharm": {
     "name": "#%%\n",
     "is_executing": false
    }
   }
  }
 ],
 "metadata": {
  "kernelspec": {
   "display_name": "Python 3",
   "language": "python",
   "name": "python3"
  },
  "language_info": {
   "codemirror_mode": {
    "name": "ipython",
    "version": 2
   },
   "file_extension": ".py",
   "mimetype": "text/x-python",
   "name": "python",
   "nbconvert_exporter": "python",
   "pygments_lexer": "ipython2",
   "version": "2.7.6"
  },
  "pycharm": {
   "stem_cell": {
    "cell_type": "raw",
    "source": [],
    "metadata": {
     "collapsed": false
    }
   }
  }
 },
 "nbformat": 4,
 "nbformat_minor": 0
}