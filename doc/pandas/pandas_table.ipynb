{
 "cells": [
  {
   "cell_type": "markdown",
   "source": [
    "# Pandas 速查表\n",
    "- Author: [HuiFer](https://github.com/huifer)\n",
    "- Description: 本文为pandas方法表\n",
    "\n",
    "## 安装\n",
    "```\n",
    "pip install pandas\n",
    "```\n",
    "\n",
    "## 导入pandas"
   ],
   "metadata": {
    "collapsed": false
   }
  },
  {
   "cell_type": "code",
   "execution_count": 18,
   "metadata": {
    "collapsed": true,
    "pycharm": {
     "is_executing": false
    }
   },
   "outputs": [
    {
     "name": "stdout",
     "text": [
      "0.25.2\n1.17.3\n"
     ],
     "output_type": "stream"
    }
   ],
   "source": [
    "import pandas as pd \n",
    "import numpy  as np\n",
    "import os\n",
    "\n",
    "print(pd.__version__)\n",
    "print(np.__version__)"
   ]
  },
  {
   "cell_type": "markdown",
   "source": [
    "## 随机数据创建"
   ],
   "metadata": {
    "collapsed": false,
    "pycharm": {
     "name": "#%% md\n"
    }
   }
  },
  {
   "cell_type": "code",
   "execution_count": 110,
   "outputs": [
    {
     "data": {
      "text/plain": "            a  b  c  d\nindex_name            \n0           1  1  1  1\n1           1  0  1  1\n2           0  0  1  0\n3           1  1  0  1\n4           1  0  0  1\n5           0  1  0  0",
      "text/html": "<div>\n<style scoped>\n    .dataframe tbody tr th:only-of-type {\n        vertical-align: middle;\n    }\n\n    .dataframe tbody tr th {\n        vertical-align: top;\n    }\n\n    .dataframe thead th {\n        text-align: right;\n    }\n</style>\n<table border=\"1\" class=\"dataframe\">\n  <thead>\n    <tr style=\"text-align: right;\">\n      <th></th>\n      <th>a</th>\n      <th>b</th>\n      <th>c</th>\n      <th>d</th>\n    </tr>\n    <tr>\n      <th>index_name</th>\n      <th></th>\n      <th></th>\n      <th></th>\n      <th></th>\n    </tr>\n  </thead>\n  <tbody>\n    <tr>\n      <th>0</th>\n      <td>1</td>\n      <td>1</td>\n      <td>1</td>\n      <td>1</td>\n    </tr>\n    <tr>\n      <th>1</th>\n      <td>1</td>\n      <td>0</td>\n      <td>1</td>\n      <td>1</td>\n    </tr>\n    <tr>\n      <th>2</th>\n      <td>0</td>\n      <td>0</td>\n      <td>1</td>\n      <td>0</td>\n    </tr>\n    <tr>\n      <th>3</th>\n      <td>1</td>\n      <td>1</td>\n      <td>0</td>\n      <td>1</td>\n    </tr>\n    <tr>\n      <th>4</th>\n      <td>1</td>\n      <td>0</td>\n      <td>0</td>\n      <td>1</td>\n    </tr>\n    <tr>\n      <th>5</th>\n      <td>0</td>\n      <td>1</td>\n      <td>0</td>\n      <td>0</td>\n    </tr>\n  </tbody>\n</table>\n</div>"
     },
     "metadata": {},
     "output_type": "execute_result",
     "execution_count": 110
    }
   ],
   "source": [
    "# 随机数据创建\n",
    "# 随机创建01数字\n",
    "df = pd.DataFrame(np.random.randint(low=0,high=2,size=[6,4]), columns=[\"a\",\"b\",\"c\",\"d\"])\n",
    "\n",
    "# 设置索引名称\n",
    "df.index.name = \"index_name\"\n",
    "df"
   ],
   "metadata": {
    "collapsed": false,
    "pycharm": {
     "name": "#%%\n",
     "is_executing": false
    }
   }
  },
  {
   "cell_type": "markdown",
   "source": [
    "## 数据导出\n",
    "- 导出csv\n",
    "    - df.to_csv(file_name)\n",
    "- 导出excel\n",
    "    - df.to_excel(file_name)\n",
    "- 导出sql\n",
    "    - df.to_sql()\n",
    "- 导出json\n",
    "    - df.to_json()"
   ],
   "metadata": {
    "collapsed": false
   }
  },
  {
   "cell_type": "code",
   "execution_count": 111,
   "outputs": [
    {
     "name": "stdout",
     "text": [
      "export_success\n"
     ],
     "output_type": "stream"
    }
   ],
   "source": [
    "file_path = \"../test_data/\"\n",
    "export_path =  os.path.abspath(file_path)\n",
    "csv_file = os.path.join(export_path,\"to_csv.csv\")\n",
    "json_file = os.path.join(export_path,\"to_json.json\")\n",
    "excel_file = os.path.join(export_path,\"to_excel.xls\")\n",
    "\n",
    "df.to_csv(csv_file)\n",
    "df.to_json(json_file)\n",
    "df.to_excel(excel_file)\n",
    "print(\"export_success\")"
   ],
   "metadata": {
    "collapsed": false,
    "pycharm": {
     "name": "#%% \n",
     "is_executing": false
    }
   }
  },
  {
   "cell_type": "markdown",
   "source": [
    "## 数据读取\n",
    "- 读取csv\n",
    "    - pd.read_csv(file_name)\n",
    "- 读取tsv\n",
    "    - pd.read_table(file_name)\n",
    "- 读取excel\n",
    "    - pd.read_excel(file_name)\n",
    "- 读取sql表\n",
    "    - pd.read_sql(query,obj)\n",
    "- 读取json字符串\n",
    "    - pd.read_json(json_str)\n",
    "- 读取html\n",
    "    - pd.read_html(url)\n",
    "- 读取dict类型\n",
    "    - pd.DataFrame(dict)"
   ],
   "metadata": {
    "collapsed": false,
    "pycharm": {
     "name": "#%% md\n"
    }
   }
  },
  {
   "cell_type": "code",
   "execution_count": 112,
   "outputs": [
    {
     "name": "stdout",
     "text": [
      "   index_name  a  b  c  d\n0           0  1  1  1  1\n1           1  1  0  1  1\n2           2  0  0  1  0\n3           3  1  1  0  1\n4           4  1  0  0  1\n5           5  0  1  0  0\n   a  b  c  d\n0  1  1  1  1\n1  1  0  1  1\n2  0  0  1  0\n3  1  1  0  1\n4  1  0  0  1\n5  0  1  0  0\n   index_name  a  b  c  d\n0           0  1  1  1  1\n1           1  1  0  1  1\n2           2  0  0  1  0\n3           3  1  1  0  1\n4           4  1  0  0  1\n5           5  0  1  0  0\n"
     ],
     "output_type": "stream"
    }
   ],
   "source": [
    "df_csv = pd.read_csv(csv_file)\n",
    "df_json = pd.read_json(json_file)\n",
    "df_excel = pd.read_excel(excel_file)\n",
    "\n",
    "print(df_csv)\n",
    "print(df_json)\n",
    "print(df_excel)\n"
   ],
   "metadata": {
    "collapsed": false,
    "pycharm": {
     "name": "#%% \n",
     "is_executing": false
    }
   }
  },
  {
   "cell_type": "markdown",
   "source": [
    "## 数据查看\n",
    "- df.head(n) 查看数据的前n行\n",
    "- df.tail(n) 查看数据的倒数n行\n",
    "- df.shap 查看的 行数和列数\n",
    "- df.info() 查看 dataFrame 的索引、数据类型\n",
    "- df.describe() 对于数据类型为数值型的列，查询其描述性统计的内容\n",
    "- df.apply(pd.Series.value_counts)  查询 dataFrame 中每列的独特数据值出现次数统计\n",
    "- s.value_counts(dropna=False)  查询每个数据值出现次数统计"
   ],
   "metadata": {
    "collapsed": false,
    "pycharm": {
     "name": "#%% md\n"
    }
   }
  },
  {
   "cell_type": "code",
   "execution_count": 124,
   "outputs": [
    {
     "name": "stdout",
     "text": [
      "            a  b  c  d\nindex_name            \n0           1  1  1  1\n1           1  0  1  1\n2           0  0  1  0\n\n            a  b  c  d\nindex_name            \n4           1  0  0  1\n5           0  1  0  0\n\n(6, 4)\n\n<class 'pandas.core.frame.DataFrame'>\nRangeIndex: 6 entries, 0 to 5\nData columns (total 4 columns):\na    6 non-null int32\nb    6 non-null int32\nc    6 non-null int32\nd    6 non-null int32\ndtypes: int32(4)\nmemory usage: 224.0 bytes\nNone\n\n              a         b         c         d\ncount  6.000000  6.000000  6.000000  6.000000\nmean   0.666667  0.500000  0.500000  0.666667\nstd    0.516398  0.547723  0.547723  0.516398\nmin    0.000000  0.000000  0.000000  0.000000\n25%    0.250000  0.000000  0.000000  0.250000\n50%    1.000000  0.500000  0.500000  1.000000\n75%    1.000000  1.000000  1.000000  1.000000\nmax    1.000000  1.000000  1.000000  1.000000\n            a  b  c  d\nindex_name            \n0           2  2  2  2\n1           2  1  2  2\n2           1  1  2  1\n3           2  2  1  2\n4           2  1  1  2\n5           1  2  1  1\n\n1    4\n0    2\nName: a, dtype: int64\n"
     ],
     "output_type": "stream"
    }
   ],
   "source": [
    "print(df.head(3))\n",
    "print()\n",
    "print(df.tail(2))\n",
    "print()\n",
    "print(df.shape)\n",
    "print()\n",
    "print(df.info())\n",
    "print()\n",
    "print(df.describe())\n",
    "\n",
    "def add_one(num):\n",
    "    return num +1\n",
    "\n",
    "print(df.apply(func=add_one, axis=1))\n",
    "print()\n",
    "print(df['a'].value_counts(dropna=False))\n",
    "\n"
   ],
   "metadata": {
    "collapsed": false,
    "pycharm": {
     "name": "#%% \n",
     "is_executing": false
    }
   }
  },
  {
   "cell_type": "markdown",
   "source": [
    "## 数据选择\n",
    "- df[col] 返回 Series 类型的数据列\n",
    "- df[[col1,cole2]] 返回 dataFrame 类型的数据列\n",
    "- s.iloc[n] 按 n 选择列\n",
    "- s.iloc[index] 按索引选择\n",
    "- df.iloc[0,:] 选择第一行\n",
    "- df.iloc[x,y] 选择第 x 行第 y 个"
   ],
   "metadata": {
    "collapsed": false,
    "pycharm": {
     "name": "#%% md\n"
    }
   }
  },
  {
   "cell_type": "code",
   "execution_count": 138,
   "outputs": [
    {
     "name": "stdout",
     "text": [
      "index_name\n0    1\n1    1\n2    0\n3    1\n4    1\n5    0\nName: a, dtype: int32\n\n            a  c\nindex_name      \n0           1  1\n1           1  1\n2           0  1\n3           1  0\n4           1  0\n5           0  0\n选择第一行\na    1\nb    1\nc    1\nd    1\nName: 0, dtype: int32\n选择第一行第一个\n1\na    1\nc    1\nName: 0, dtype: int32\n"
     ],
     "output_type": "stream"
    }
   ],
   "source": [
    "print(df[\"a\"])\n",
    "print()\n",
    "print(df[[\"a\",\"c\"]])\n",
    "print(\"选择第一行\")\n",
    "print(df.iloc[0,:])\n",
    "print(\"选择第一行第一个\")\n",
    "print(df.iloc[1,2])\n",
    "print(\"先选择a,c两列在选择索引为0的一行\")\n",
    "print(df[[\"a\",\"c\"]].iloc[0])\n"
   ],
   "metadata": {
    "collapsed": false,
    "pycharm": {
     "name": "#%% \n",
     "is_executing": false
    }
   }
  },
  {
   "cell_type": "markdown",
   "source": [
    "## 过滤,排序,分组\n",
    "- df[df[col] > x ] 选择 dataFrame 指定列col中大于x的值,注df[col] > x 可填写多个条件用括号包裹df[(df[col] > 1 ) & (df[col] < 2)]\n",
    "- df.sort_values(col1) 按照 dataFrame 的列col1升序(ascending)的方式对 dataFrame 做排序,ascending=False 降序\n",
    "    - df.sort_values([col1,col2],ascending=[True,False]) 按照 dataFrame 的列col1升序，col2降序的方式对 dataFrame 做排序\n",
    "\n",
    "- df.groupby(col) 按照 col 对 dataFrame 做分组\n",
    "    - df.groupby([col1,col2])\n",
    "    "
   ],
   "metadata": {
    "collapsed": false,
    "pycharm": {
     "name": "#%% md\n"
    }
   }
  },
  {
   "cell_type": "code",
   "execution_count": 146,
   "outputs": [
    {
     "name": "stdout",
     "text": [
      "            a  b  c  d\nindex_name            \n0           1  1  1  1\n1           1  0  1  1\n3           1  1  0  1\n4           1  0  0  1\n            a  b  c  d\nindex_name            \n0           1  1  1  1\n3           1  1  0  1\n"
     ],
     "output_type": "stream"
    },
    {
     "data": {
      "text/plain": "   b  c  d\na         \n0  1  1  0\n1  1  1  1",
      "text/html": "<div>\n<style scoped>\n    .dataframe tbody tr th:only-of-type {\n        vertical-align: middle;\n    }\n\n    .dataframe tbody tr th {\n        vertical-align: top;\n    }\n\n    .dataframe thead th {\n        text-align: right;\n    }\n</style>\n<table border=\"1\" class=\"dataframe\">\n  <thead>\n    <tr style=\"text-align: right;\">\n      <th></th>\n      <th>b</th>\n      <th>c</th>\n      <th>d</th>\n    </tr>\n    <tr>\n      <th>a</th>\n      <th></th>\n      <th></th>\n      <th></th>\n    </tr>\n  </thead>\n  <tbody>\n    <tr>\n      <th>0</th>\n      <td>1</td>\n      <td>1</td>\n      <td>0</td>\n    </tr>\n    <tr>\n      <th>1</th>\n      <td>1</td>\n      <td>1</td>\n      <td>1</td>\n    </tr>\n  </tbody>\n</table>\n</div>"
     },
     "metadata": {},
     "output_type": "execute_result",
     "execution_count": 146
    }
   ],
   "source": [
    "print(df[df['a']>0])\n",
    "print(df[(df['a']>0) & (df['b']>0)])\n",
    "print(df.groupby(\"a\"))"
   ],
   "metadata": {
    "collapsed": false,
    "pycharm": {
     "name": "#%% \n",
     "is_executing": false
    }
   }
  },
  {
   "cell_type": "markdown",
   "source": [
    "## 统计\n",
    "- groupby后可以可以继续使用\n",
    "- df.describe() 得到 dataFrame 每一列的描述性统计\n",
    "- df.mean() 得到 dataFrame 中每一列的平均值\n",
    "- df.corr() 得到 dataFrame 中每一列与其他列的相关系数\n",
    "- df.count() 得到 dataFrame 中每一列的非空值个数\n",
    "- df.max() 得到 dataFrame 中每一列的最大值\n",
    "- df.min() 得到 dataFrame 中每一列的最小值\n",
    "- df.median() 得到 dataFrame 中每一列的中位数\n",
    "- df.std() 得到 dataFrame 中每一列的标准差"
   ],
   "metadata": {
    "collapsed": false,
    "pycharm": {
     "name": "#%% md\n"
    }
   }
  },
  {
   "cell_type": "code",
   "execution_count": 152,
   "outputs": [
    {
     "name": "stdout",
     "text": [
      "              a         b         c         d\ncount  6.000000  6.000000  6.000000  6.000000\nmean   0.666667  0.500000  0.500000  0.666667\nstd    0.516398  0.547723  0.547723  0.516398\nmin    0.000000  0.000000  0.000000  0.000000\n25%    0.250000  0.000000  0.000000  0.250000\n50%    1.000000  0.500000  0.500000  1.000000\n75%    1.000000  1.000000  1.000000  1.000000\nmax    1.000000  1.000000  1.000000  1.000000\na    0.666667\nb    0.500000\nc    0.500000\nd    0.666667\ndtype: float64\n     a         b         c    d\na  1.0  0.000000  0.000000  1.0\nb  0.0  1.000000 -0.333333  0.0\nc  0.0 -0.333333  1.000000  0.0\nd  1.0  0.000000  0.000000  1.0\na    6\nb    6\nc    6\nd    6\ndtype: int64\na    1\nb    1\nc    1\nd    1\ndtype: int32\na    0\nb    0\nc    0\nd    0\ndtype: int32\na    1.0\nb    0.5\nc    0.5\nd    1.0\ndtype: float64\na    0.516398\nb    0.547723\nc    0.547723\nd    0.516398\ndtype: float64\n=============group=============\n"
     ],
     "output_type": "stream"
    },
    {
     "data": {
      "text/plain": "     b    c    d\na               \n0  0.5  0.5  0.0\n1  0.5  0.5  1.0",
      "text/html": "<div>\n<style scoped>\n    .dataframe tbody tr th:only-of-type {\n        vertical-align: middle;\n    }\n\n    .dataframe tbody tr th {\n        vertical-align: top;\n    }\n\n    .dataframe thead th {\n        text-align: right;\n    }\n</style>\n<table border=\"1\" class=\"dataframe\">\n  <thead>\n    <tr style=\"text-align: right;\">\n      <th></th>\n      <th>b</th>\n      <th>c</th>\n      <th>d</th>\n    </tr>\n    <tr>\n      <th>a</th>\n      <th></th>\n      <th></th>\n      <th></th>\n    </tr>\n  </thead>\n  <tbody>\n    <tr>\n      <th>0</th>\n      <td>0.5</td>\n      <td>0.5</td>\n      <td>0.0</td>\n    </tr>\n    <tr>\n      <th>1</th>\n      <td>0.5</td>\n      <td>0.5</td>\n      <td>1.0</td>\n    </tr>\n  </tbody>\n</table>\n</div>"
     },
     "metadata": {},
     "output_type": "execute_result",
     "execution_count": 152
    }
   ],
   "source": [
    "print(df.describe())\n",
    "print(df.mean())\n",
    "print(df.corr())\n",
    "print(df.count())\n",
    "print(df.max())\n",
    "print(df.min())\n",
    "print(df.median())\n",
    "print(df.std())\n",
    "\n",
    "print(\"=============group=============\")\n",
    "\n",
    "df.groupby(\"a\").mean()"
   ],
   "metadata": {
    "collapsed": false,
    "pycharm": {
     "name": "#%% \n",
     "is_executing": false
    }
   }
  }
 ],
 "metadata": {
  "kernelspec": {
   "display_name": "Python 3",
   "language": "python",
   "name": "python3"
  },
  "language_info": {
   "codemirror_mode": {
    "name": "ipython",
    "version": 2
   },
   "file_extension": ".py",
   "mimetype": "text/x-python",
   "name": "python",
   "nbconvert_exporter": "python",
   "pygments_lexer": "ipython2",
   "version": "2.7.6"
  },
  "pycharm": {
   "stem_cell": {
    "cell_type": "raw",
    "source": [],
    "metadata": {
     "collapsed": false
    }
   }
  }
 },
 "nbformat": 4,
 "nbformat_minor": 0
}