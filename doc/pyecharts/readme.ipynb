{
 "cells": [
  {
   "cell_type": "markdown",
   "source": [
    "# PyEcharts\n",
    "**注意**\n",
    "- 本文案例来源:https://github.com/pyecharts/pyecharts-gallery\n",
    "- 本文用来直接复制到使用地方进行使用...T_T\n",
    "## 折线图"
   ],
   "metadata": {
    "collapsed": false,
    "pycharm": {
     "name": "#%% md\n"
    }
   }
  },
  {
   "cell_type": "code",
   "execution_count": 30,
   "outputs": [
    {
     "data": {
      "text/plain": "<pyecharts.render.display.HTML at 0x22ebd4c4788>",
      "text/html": "\n<script>\n    require.config({\n        paths: {\n            'echarts':'https://assets.pyecharts.org/assets/echarts.min'\n        }\n    });\n</script>\n\n        <div id=\"d22e0d0ffc9546a6a5d00fd2f9afa463\" style=\"width:900px; height:500px;\"></div>\n\n<script>\n        require(['echarts'], function(echarts) {\n                var chart_d22e0d0ffc9546a6a5d00fd2f9afa463 = echarts.init(\n                    document.getElementById('d22e0d0ffc9546a6a5d00fd2f9afa463'), 'white', {renderer: 'canvas'});\n                var option_d22e0d0ffc9546a6a5d00fd2f9afa463 = {\n    \"animation\": true,\n    \"animationThreshold\": 2000,\n    \"animationDuration\": 1000,\n    \"animationEasing\": \"cubicOut\",\n    \"animationDelay\": 0,\n    \"animationDurationUpdate\": 300,\n    \"animationEasingUpdate\": \"cubicOut\",\n    \"animationDelayUpdate\": 0,\n    \"color\": [\n        \"#c23531\",\n        \"#2f4554\",\n        \"#61a0a8\",\n        \"#d48265\",\n        \"#749f83\",\n        \"#ca8622\",\n        \"#bda29a\",\n        \"#6e7074\",\n        \"#546570\",\n        \"#c4ccd3\",\n        \"#f05b72\",\n        \"#ef5b9c\",\n        \"#f47920\",\n        \"#905a3d\",\n        \"#fab27b\",\n        \"#2a5caa\",\n        \"#444693\",\n        \"#726930\",\n        \"#b2d235\",\n        \"#6d8346\",\n        \"#ac6767\",\n        \"#1d953f\",\n        \"#6950a1\",\n        \"#918597\"\n    ],\n    \"series\": [\n        {\n            \"type\": \"line\",\n            \"name\": \"y1\",\n            \"connectNulls\": false,\n            \"symbolSize\": 4,\n            \"showSymbol\": true,\n            \"smooth\": false,\n            \"step\": false,\n            \"data\": [\n                [\n                    \"Mon\",\n                    820\n                ],\n                [\n                    \"Tue\",\n                    932\n                ],\n                [\n                    \"Wed\",\n                    901\n                ],\n                [\n                    \"Thu\",\n                    934\n                ],\n                [\n                    \"Fri\",\n                    1290\n                ],\n                [\n                    \"Sat\",\n                    1330\n                ],\n                [\n                    \"Sun\",\n                    1320\n                ]\n            ],\n            \"hoverAnimation\": true,\n            \"label\": {\n                \"show\": true,\n                \"position\": \"top\",\n                \"margin\": 8\n            },\n            \"lineStyle\": {\n                \"width\": 1,\n                \"opacity\": 1,\n                \"curveness\": 0,\n                \"type\": \"solid\"\n            },\n            \"areaStyle\": {\n                \"opacity\": 0\n            }\n        },\n        {\n            \"type\": \"line\",\n            \"name\": \"y2\",\n            \"connectNulls\": false,\n            \"symbolSize\": 4,\n            \"showSymbol\": true,\n            \"smooth\": false,\n            \"step\": false,\n            \"data\": [\n                [\n                    \"Mon\",\n                    1230.0\n                ],\n                [\n                    \"Tue\",\n                    1398.0\n                ],\n                [\n                    \"Wed\",\n                    1351.5\n                ],\n                [\n                    \"Thu\",\n                    1401.0\n                ],\n                [\n                    \"Fri\",\n                    1935.0\n                ],\n                [\n                    \"Sat\",\n                    1995.0\n                ],\n                [\n                    \"Sun\",\n                    1980.0\n                ]\n            ],\n            \"hoverAnimation\": true,\n            \"label\": {\n                \"show\": true,\n                \"position\": \"top\",\n                \"margin\": 8\n            },\n            \"lineStyle\": {\n                \"width\": 1,\n                \"opacity\": 1,\n                \"curveness\": 0,\n                \"type\": \"solid\"\n            },\n            \"areaStyle\": {\n                \"opacity\": 0\n            }\n        }\n    ],\n    \"legend\": [\n        {\n            \"data\": [\n                \"y1\",\n                \"y2\"\n            ],\n            \"selected\": {\n                \"y1\": true,\n                \"y2\": true\n            },\n            \"show\": true\n        }\n    ],\n    \"tooltip\": {\n        \"show\": true,\n        \"trigger\": \"axis\",\n        \"triggerOn\": \"mousemove|click\",\n        \"axisPointer\": {\n            \"type\": \"line\"\n        },\n        \"textStyle\": {\n            \"fontSize\": 14\n        },\n        \"borderWidth\": 0\n    },\n    \"xAxis\": [\n        {\n            \"type\": \"category\",\n            \"show\": true,\n            \"scale\": false,\n            \"nameLocation\": \"end\",\n            \"nameGap\": 15,\n            \"gridIndex\": 0,\n            \"inverse\": false,\n            \"offset\": 0,\n            \"splitNumber\": 5,\n            \"boundaryGap\": false,\n            \"minInterval\": 0,\n            \"splitLine\": {\n                \"show\": false,\n                \"lineStyle\": {\n                    \"width\": 1,\n                    \"opacity\": 1,\n                    \"curveness\": 0,\n                    \"type\": \"solid\"\n                }\n            },\n            \"data\": [\n                \"Mon\",\n                \"Tue\",\n                \"Wed\",\n                \"Thu\",\n                \"Fri\",\n                \"Sat\",\n                \"Sun\"\n            ]\n        }\n    ],\n    \"yAxis\": [\n        {\n            \"type\": \"value\",\n            \"show\": true,\n            \"scale\": false,\n            \"nameLocation\": \"end\",\n            \"nameGap\": 15,\n            \"gridIndex\": 0,\n            \"axisTick\": {\n                \"show\": true,\n                \"alignWithLabel\": false,\n                \"inside\": false\n            },\n            \"inverse\": false,\n            \"offset\": 0,\n            \"splitNumber\": 5,\n            \"minInterval\": 0,\n            \"splitLine\": {\n                \"show\": true,\n                \"lineStyle\": {\n                    \"width\": 1,\n                    \"opacity\": 1,\n                    \"curveness\": 0,\n                    \"type\": \"solid\"\n                }\n            }\n        }\n    ],\n    \"title\": [\n        {\n            \"text\": \"\\u6298\\u7ebf\\u56fe\\u5806\\u53e0\"\n        }\n    ],\n    \"toolbox\": {\n        \"show\": true,\n        \"orient\": \"horizontal\",\n        \"itemSize\": 15,\n        \"itemGap\": 10,\n        \"left\": \"80%\",\n        \"feature\": {\n            \"saveAsImage\": {\n                \"show\": true,\n                \"title\": \"save as image\",\n                \"type\": \"png\"\n            },\n            \"restore\": {\n                \"show\": true,\n                \"title\": \"restore\"\n            },\n            \"dataView\": {\n                \"show\": true,\n                \"title\": \"data view\",\n                \"readOnly\": false\n            },\n            \"dataZoom\": {\n                \"show\": true,\n                \"title\": {\n                    \"zoom\": \"data zoom\",\n                    \"back\": \"data zoom restore\"\n                }\n            }\n        }\n    }\n};\n                chart_d22e0d0ffc9546a6a5d00fd2f9afa463.setOption(option_d22e0d0ffc9546a6a5d00fd2f9afa463);\n        });\n    </script>\n"
     },
     "metadata": {},
     "output_type": "execute_result",
     "execution_count": 30
    }
   ],
   "source": [
    "import pyecharts.options as opts\n",
    "from pyecharts.charts import Line\n",
    "x_data = [\"Mon\", \"Tue\", \"Wed\", \"Thu\", \"Fri\", \"Sat\", \"Sun\"]\n",
    "y_data = [820, 932, 901, 934, 1290, 1330, 1320]\n",
    "y_data2 = [i*1.5 for i in y_data]\n",
    "\n",
    "l = (Line()\n",
    "    .add_xaxis(\n",
    "        xaxis_data=x_data,\n",
    "    )\n",
    "    .add_yaxis(\n",
    "        series_name=\"y1\",\n",
    "        y_axis=y_data\n",
    "    )\n",
    "    .add_yaxis(\n",
    "        series_name=\"y2\",\n",
    "        y_axis=y_data2,\n",
    "    )\n",
    "    .set_global_opts(\n",
    "        title_opts=opts.TitleOpts(title=\"折线图堆叠\"),\n",
    "        tooltip_opts=opts.TooltipOpts(trigger=\"axis\"),\n",
    "        toolbox_opts=opts.ToolboxOpts(is_show=True),\n",
    "        yaxis_opts=opts.AxisOpts(\n",
    "            type_=\"value\",\n",
    "            axistick_opts=opts.AxisTickOpts(is_show=True),\n",
    "            splitline_opts=opts.SplitLineOpts(is_show=True),\n",
    "        ),\n",
    "        xaxis_opts=opts.AxisOpts(type_=\"category\", boundary_gap=False))\n",
    ")\n",
    "l.render_notebook()"
   ],
   "metadata": {
    "collapsed": false,
    "pycharm": {
     "name": "#%%\n",
     "is_executing": false
    }
   }
  },
  {
   "cell_type": "markdown",
   "source": [
    "## 柱状图"
   ],
   "metadata": {
    "collapsed": false,
    "pycharm": {
     "name": "#%% md\n"
    }
   }
  },
  {
   "cell_type": "code",
   "execution_count": 31,
   "outputs": [
    {
     "data": {
      "text/plain": "<pyecharts.render.display.HTML at 0x22ebdafa388>",
      "text/html": "\n<script>\n    require.config({\n        paths: {\n            'echarts':'https://assets.pyecharts.org/assets/echarts.min'\n        }\n    });\n</script>\n\n        <div id=\"82a18837ba2d44cca934f37fa83c1868\" style=\"width:1600px; height:800px;\"></div>\n\n<script>\n        require(['echarts'], function(echarts) {\n                var chart_82a18837ba2d44cca934f37fa83c1868 = echarts.init(\n                    document.getElementById('82a18837ba2d44cca934f37fa83c1868'), 'white', {renderer: 'canvas'});\n                var option_82a18837ba2d44cca934f37fa83c1868 = {\n    \"animation\": true,\n    \"animationThreshold\": 2000,\n    \"animationDuration\": 1000,\n    \"animationEasing\": \"cubicOut\",\n    \"animationDelay\": 0,\n    \"animationDurationUpdate\": 300,\n    \"animationEasingUpdate\": \"cubicOut\",\n    \"animationDelayUpdate\": 0,\n    \"color\": [\n        \"#c23531\",\n        \"#2f4554\",\n        \"#61a0a8\",\n        \"#d48265\",\n        \"#749f83\",\n        \"#ca8622\",\n        \"#bda29a\",\n        \"#6e7074\",\n        \"#546570\",\n        \"#c4ccd3\",\n        \"#f05b72\",\n        \"#ef5b9c\",\n        \"#f47920\",\n        \"#905a3d\",\n        \"#fab27b\",\n        \"#2a5caa\",\n        \"#444693\",\n        \"#726930\",\n        \"#b2d235\",\n        \"#6d8346\",\n        \"#ac6767\",\n        \"#1d953f\",\n        \"#6950a1\",\n        \"#918597\"\n    ],\n    \"series\": [\n        {\n            \"type\": \"bar\",\n            \"name\": \"bar\",\n            \"data\": [\n                0.5091501174402869,\n                0.48869172877680556,\n                0.5933991093530162,\n                0.9889215769129112,\n                0.44584920163106934,\n                0.9447924514271251,\n                0.32982887347616874,\n                0.9346555092517985,\n                0.7530574012872845,\n                0.34720601520580885,\n                0.1825764840708447,\n                0.9883208067319584,\n                0.9492414293292469,\n                0.2538573334057902,\n                0.5577409776540678,\n                0.0562010215851112,\n                0.34396517294993645,\n                0.27725148308805736,\n                0.07064528001850479,\n                0.06187868845515887,\n                0.16943820825832168,\n                0.5102453458652099,\n                0.11686265937828144,\n                0.6659382993794608,\n                0.13491833214710713,\n                0.7982847556739158,\n                0.5482359850556465,\n                0.7056818070148803,\n                0.8253830839404405,\n                0.9586523626783195,\n                0.5165279053612553,\n                0.9398620727061244,\n                0.006773778033030808,\n                0.08201923717058235,\n                0.2997088676443709,\n                0.9922623539162763,\n                0.6994827149355622,\n                0.4353464080562508,\n                0.515063202786886,\n                0.9618209904341367,\n                0.24920906583629077,\n                0.2255297689373027,\n                0.8316792306151586,\n                0.18379534206238046,\n                0.35547745438571976,\n                0.2399743680758819,\n                0.6268509271775966,\n                0.07668830879754951,\n                0.1710633370073421,\n                0.0023396748797658296,\n                0.15091921289238153,\n                0.7930161024684192,\n                0.2615693822276933,\n                0.20389452071903058,\n                0.7844794698493638,\n                0.01843116820000623,\n                0.586571636986204,\n                0.27282835063127164,\n                0.8512235916762267,\n                0.05528248647434997,\n                0.8168217299977335,\n                0.3572996942245654,\n                0.6942442596258369,\n                0.460457438543182,\n                0.20787728856018417,\n                0.9052750940574863,\n                0.17071315345031668,\n                0.7190813740516082,\n                0.03337552326994919,\n                0.7020186362792504,\n                0.2603980321390359,\n                0.2577148429485292,\n                0.6473337762298659,\n                0.2772564036710994,\n                0.7580548954995573,\n                0.416080859605401,\n                0.26303134545615037,\n                0.35213555353994086,\n                0.5676217495524069,\n                0.0247413619730662,\n                0.010750550615648113,\n                0.20142592368958834,\n                0.9772384851397319,\n                0.18388249041370852,\n                0.9434231602432905,\n                0.2980470390400022,\n                0.9708787467781499,\n                0.2633298554868747,\n                0.6294781000020933,\n                0.11446491946650272,\n                0.7599317603495771,\n                0.10840068710142281,\n                0.5527209615078645,\n                0.956167942410826,\n                0.7100957519921783,\n                0.646267366554852,\n                0.5547590613340077,\n                0.4465629143736298,\n                0.9758979581582521,\n                0.9344597194482951\n            ],\n            \"barCategoryGap\": \"20%\",\n            \"label\": {\n                \"show\": false,\n                \"position\": \"top\",\n                \"margin\": 8\n            }\n        },\n        {\n            \"type\": \"bar\",\n            \"name\": \"bar2\",\n            \"data\": [\n                0.7637251761604305,\n                0.7330375931652083,\n                0.8900986640295243,\n                1.4833823653693667,\n                0.668773802446604,\n                1.4171886771406876,\n                0.4947433102142531,\n                1.401983263877698,\n                1.1295861019309268,\n                0.5208090228087132,\n                0.27386472610626705,\n                1.4824812100979377,\n                1.4238621439938703,\n                0.3807860001086853,\n                0.8366114664811017,\n                0.0843015323776668,\n                0.5159477594249047,\n                0.41587722463208604,\n                0.10596792002775718,\n                0.0928180326827383,\n                0.2541573123874825,\n                0.7653680187978148,\n                0.17529398906742216,\n                0.9989074490691912,\n                0.2023774982206607,\n                1.1974271335108737,\n                0.8223539775834698,\n                1.0585227105223205,\n                1.2380746259106608,\n                1.4379785440174793,\n                0.7747918580418829,\n                1.4097931090591866,\n                0.010160667049546213,\n                0.12302885575587352,\n                0.4495633014665563,\n                1.4883935308744145,\n                1.0492240724033435,\n                0.6530196120843762,\n                0.772594804180329,\n                1.442731485651205,\n                0.37381359875443615,\n                0.33829465340595405,\n                1.247518845922738,\n                0.2756930130935707,\n                0.5332161815785796,\n                0.35996155211382286,\n                0.9402763907663949,\n                0.11503246319632426,\n                0.25659500551101316,\n                0.0035095123196487443,\n                0.2263788193385723,\n                1.1895241537026289,\n                0.39235407334154,\n                0.30584178107854587,\n                1.1767192047740456,\n                0.027646752300009347,\n                0.8798574554793059,\n                0.40924252594690746,\n                1.2768353875143401,\n                0.08292372971152495,\n                1.2252325949966003,\n                0.5359495413368481,\n                1.0413663894387555,\n                0.6906861578147729,\n                0.31181593284027626,\n                1.3579126410862294,\n                0.256069730175475,\n                1.0786220610774122,\n                0.05006328490492379,\n                1.0530279544188756,\n                0.39059704820855384,\n                0.3865722644227938,\n                0.9710006643447988,\n                0.4158846055066491,\n                1.137082343249336,\n                0.6241212894081014,\n                0.39454701818422555,\n                0.5282033303099113,\n                0.8514326243286103,\n                0.0371120429595993,\n                0.01612582592347217,\n                0.3021388855343825,\n                1.4658577277095979,\n                0.2758237356205628,\n                1.4151347403649357,\n                0.4470705585600033,\n                1.4563181201672248,\n                0.39499478323031206,\n                0.9442171500031399,\n                0.17169737919975409,\n                1.1398976405243657,\n                0.16260103065213422,\n                0.8290814422617968,\n                1.434251913616239,\n                1.0651436279882676,\n                0.9694010498322779,\n                0.8321385920010115,\n                0.6698443715604447,\n                1.4638469372373781,\n                1.4016895791724426\n            ],\n            \"barCategoryGap\": \"20%\",\n            \"label\": {\n                \"show\": false,\n                \"position\": \"top\",\n                \"margin\": 8\n            }\n        }\n    ],\n    \"legend\": [\n        {\n            \"data\": [\n                \"bar\",\n                \"bar2\"\n            ],\n            \"selected\": {\n                \"bar\": true,\n                \"bar2\": true\n            },\n            \"show\": true\n        }\n    ],\n    \"tooltip\": {\n        \"show\": true,\n        \"trigger\": \"item\",\n        \"triggerOn\": \"mousemove|click\",\n        \"axisPointer\": {\n            \"type\": \"line\"\n        },\n        \"textStyle\": {\n            \"fontSize\": 14\n        },\n        \"borderWidth\": 0\n    },\n    \"xAxis\": [\n        {\n            \"show\": true,\n            \"scale\": false,\n            \"nameLocation\": \"end\",\n            \"nameGap\": 15,\n            \"gridIndex\": 0,\n            \"inverse\": false,\n            \"offset\": 0,\n            \"splitNumber\": 5,\n            \"minInterval\": 0,\n            \"splitLine\": {\n                \"show\": false,\n                \"lineStyle\": {\n                    \"width\": 1,\n                    \"opacity\": 1,\n                    \"curveness\": 0,\n                    \"type\": \"solid\"\n                }\n            },\n            \"data\": [\n                \"\\u7c7b\\u76ee0\",\n                \"\\u7c7b\\u76ee1\",\n                \"\\u7c7b\\u76ee2\",\n                \"\\u7c7b\\u76ee3\",\n                \"\\u7c7b\\u76ee4\",\n                \"\\u7c7b\\u76ee5\",\n                \"\\u7c7b\\u76ee6\",\n                \"\\u7c7b\\u76ee7\",\n                \"\\u7c7b\\u76ee8\",\n                \"\\u7c7b\\u76ee9\",\n                \"\\u7c7b\\u76ee10\",\n                \"\\u7c7b\\u76ee11\",\n                \"\\u7c7b\\u76ee12\",\n                \"\\u7c7b\\u76ee13\",\n                \"\\u7c7b\\u76ee14\",\n                \"\\u7c7b\\u76ee15\",\n                \"\\u7c7b\\u76ee16\",\n                \"\\u7c7b\\u76ee17\",\n                \"\\u7c7b\\u76ee18\",\n                \"\\u7c7b\\u76ee19\",\n                \"\\u7c7b\\u76ee20\",\n                \"\\u7c7b\\u76ee21\",\n                \"\\u7c7b\\u76ee22\",\n                \"\\u7c7b\\u76ee23\",\n                \"\\u7c7b\\u76ee24\",\n                \"\\u7c7b\\u76ee25\",\n                \"\\u7c7b\\u76ee26\",\n                \"\\u7c7b\\u76ee27\",\n                \"\\u7c7b\\u76ee28\",\n                \"\\u7c7b\\u76ee29\",\n                \"\\u7c7b\\u76ee30\",\n                \"\\u7c7b\\u76ee31\",\n                \"\\u7c7b\\u76ee32\",\n                \"\\u7c7b\\u76ee33\",\n                \"\\u7c7b\\u76ee34\",\n                \"\\u7c7b\\u76ee35\",\n                \"\\u7c7b\\u76ee36\",\n                \"\\u7c7b\\u76ee37\",\n                \"\\u7c7b\\u76ee38\",\n                \"\\u7c7b\\u76ee39\",\n                \"\\u7c7b\\u76ee40\",\n                \"\\u7c7b\\u76ee41\",\n                \"\\u7c7b\\u76ee42\",\n                \"\\u7c7b\\u76ee43\",\n                \"\\u7c7b\\u76ee44\",\n                \"\\u7c7b\\u76ee45\",\n                \"\\u7c7b\\u76ee46\",\n                \"\\u7c7b\\u76ee47\",\n                \"\\u7c7b\\u76ee48\",\n                \"\\u7c7b\\u76ee49\",\n                \"\\u7c7b\\u76ee50\",\n                \"\\u7c7b\\u76ee51\",\n                \"\\u7c7b\\u76ee52\",\n                \"\\u7c7b\\u76ee53\",\n                \"\\u7c7b\\u76ee54\",\n                \"\\u7c7b\\u76ee55\",\n                \"\\u7c7b\\u76ee56\",\n                \"\\u7c7b\\u76ee57\",\n                \"\\u7c7b\\u76ee58\",\n                \"\\u7c7b\\u76ee59\",\n                \"\\u7c7b\\u76ee60\",\n                \"\\u7c7b\\u76ee61\",\n                \"\\u7c7b\\u76ee62\",\n                \"\\u7c7b\\u76ee63\",\n                \"\\u7c7b\\u76ee64\",\n                \"\\u7c7b\\u76ee65\",\n                \"\\u7c7b\\u76ee66\",\n                \"\\u7c7b\\u76ee67\",\n                \"\\u7c7b\\u76ee68\",\n                \"\\u7c7b\\u76ee69\",\n                \"\\u7c7b\\u76ee70\",\n                \"\\u7c7b\\u76ee71\",\n                \"\\u7c7b\\u76ee72\",\n                \"\\u7c7b\\u76ee73\",\n                \"\\u7c7b\\u76ee74\",\n                \"\\u7c7b\\u76ee75\",\n                \"\\u7c7b\\u76ee76\",\n                \"\\u7c7b\\u76ee77\",\n                \"\\u7c7b\\u76ee78\",\n                \"\\u7c7b\\u76ee79\",\n                \"\\u7c7b\\u76ee80\",\n                \"\\u7c7b\\u76ee81\",\n                \"\\u7c7b\\u76ee82\",\n                \"\\u7c7b\\u76ee83\",\n                \"\\u7c7b\\u76ee84\",\n                \"\\u7c7b\\u76ee85\",\n                \"\\u7c7b\\u76ee86\",\n                \"\\u7c7b\\u76ee87\",\n                \"\\u7c7b\\u76ee88\",\n                \"\\u7c7b\\u76ee89\",\n                \"\\u7c7b\\u76ee90\",\n                \"\\u7c7b\\u76ee91\",\n                \"\\u7c7b\\u76ee92\",\n                \"\\u7c7b\\u76ee93\",\n                \"\\u7c7b\\u76ee94\",\n                \"\\u7c7b\\u76ee95\",\n                \"\\u7c7b\\u76ee96\",\n                \"\\u7c7b\\u76ee97\",\n                \"\\u7c7b\\u76ee98\",\n                \"\\u7c7b\\u76ee99\"\n            ]\n        }\n    ],\n    \"yAxis\": [\n        {\n            \"show\": true,\n            \"scale\": false,\n            \"nameLocation\": \"end\",\n            \"nameGap\": 15,\n            \"gridIndex\": 0,\n            \"axisTick\": {\n                \"show\": true,\n                \"alignWithLabel\": false,\n                \"inside\": false\n            },\n            \"inverse\": false,\n            \"offset\": 0,\n            \"splitNumber\": 5,\n            \"minInterval\": 0,\n            \"splitLine\": {\n                \"show\": true,\n                \"lineStyle\": {\n                    \"width\": 1,\n                    \"opacity\": 1,\n                    \"curveness\": 0,\n                    \"type\": \"solid\"\n                }\n            }\n        }\n    ],\n    \"title\": [\n        {\n            \"text\": \"\\u67f1\\u72b6\\u56fe\\u52a8\\u753b\\u5ef6\\u8fdf\"\n        }\n    ]\n};\n                chart_82a18837ba2d44cca934f37fa83c1868.setOption(option_82a18837ba2d44cca934f37fa83c1868);\n        });\n    </script>\n"
     },
     "metadata": {},
     "output_type": "execute_result",
     "execution_count": 31
    }
   ],
   "source": [
    "import pyecharts.options as opts\n",
    "from pyecharts.charts import Bar\n",
    "import numpy as np\n",
    "category = [\"类目{}\".format(i) for i in range(0, 100)]\n",
    "red_bar = list(np.random.random(100))\n",
    "blue_bar =  [i*1.5 for i in red_bar]\n",
    "\n",
    "\n",
    "bar =   (Bar(init_opts=opts.InitOpts(width=\"1600px\", height=\"800px\"))\n",
    "    .add_xaxis(xaxis_data=category)\n",
    "    .add_yaxis(\n",
    "        series_name=\"bar\", yaxis_data=red_bar, label_opts=opts.LabelOpts(is_show=False)\n",
    "    )\n",
    "    .add_yaxis(\n",
    "        series_name=\"bar2\",\n",
    "        yaxis_data=blue_bar,\n",
    "        label_opts=opts.LabelOpts(is_show=False),\n",
    "    )\n",
    "    .set_global_opts(\n",
    "        title_opts=opts.TitleOpts(title=\"柱状图动画延迟\"),\n",
    "        xaxis_opts=opts.AxisOpts(splitline_opts=opts.SplitLineOpts(is_show=False)),\n",
    "        yaxis_opts=opts.AxisOpts(\n",
    "            axistick_opts=opts.AxisTickOpts(is_show=True),\n",
    "            splitline_opts=opts.SplitLineOpts(is_show=True),\n",
    "        ),\n",
    "    ))\n",
    "bar.render_notebook()"
   ],
   "metadata": {
    "collapsed": false,
    "pycharm": {
     "name": "#%%\n",
     "is_executing": false
    }
   }
  },
  {
   "cell_type": "markdown",
   "source": [
    "### 柱状图+折线图"
   ],
   "metadata": {
    "collapsed": false,
    "pycharm": {
     "name": "#%% md\n"
    }
   }
  },
  {
   "cell_type": "code",
   "execution_count": 32,
   "outputs": [
    {
     "data": {
      "text/plain": "<pyecharts.render.display.HTML at 0x22ebdafa2c8>",
      "text/html": "\n<script>\n    require.config({\n        paths: {\n            'echarts':'https://assets.pyecharts.org/assets/echarts.min'\n        }\n    });\n</script>\n\n        <div id=\"62c8a9ea44ab4a6490cd2df03e78c16f\" style=\"width:1600px; height:800px;\"></div>\n\n<script>\n        require(['echarts'], function(echarts) {\n                var chart_62c8a9ea44ab4a6490cd2df03e78c16f = echarts.init(\n                    document.getElementById('62c8a9ea44ab4a6490cd2df03e78c16f'), 'white', {renderer: 'canvas'});\n                var option_62c8a9ea44ab4a6490cd2df03e78c16f = {\n    \"animation\": true,\n    \"animationThreshold\": 2000,\n    \"animationDuration\": 1000,\n    \"animationEasing\": \"cubicOut\",\n    \"animationDelay\": 0,\n    \"animationDurationUpdate\": 300,\n    \"animationEasingUpdate\": \"cubicOut\",\n    \"animationDelayUpdate\": 0,\n    \"color\": [\n        \"#c23531\",\n        \"#2f4554\",\n        \"#61a0a8\",\n        \"#d48265\",\n        \"#749f83\",\n        \"#ca8622\",\n        \"#bda29a\",\n        \"#6e7074\",\n        \"#546570\",\n        \"#c4ccd3\",\n        \"#f05b72\",\n        \"#ef5b9c\",\n        \"#f47920\",\n        \"#905a3d\",\n        \"#fab27b\",\n        \"#2a5caa\",\n        \"#444693\",\n        \"#726930\",\n        \"#b2d235\",\n        \"#6d8346\",\n        \"#ac6767\",\n        \"#1d953f\",\n        \"#6950a1\",\n        \"#918597\"\n    ],\n    \"series\": [\n        {\n            \"type\": \"bar\",\n            \"name\": \"\\u84b8\\u53d1\\u91cf\",\n            \"data\": [\n                2.0,\n                4.9,\n                7.0,\n                23.2,\n                25.6,\n                76.7,\n                135.6,\n                162.2,\n                32.6,\n                20.0,\n                6.4,\n                3.3\n            ],\n            \"barCategoryGap\": \"20%\",\n            \"label\": {\n                \"show\": false,\n                \"position\": \"top\",\n                \"margin\": 8\n            }\n        },\n        {\n            \"type\": \"bar\",\n            \"name\": \"\\u964d\\u6c34\\u91cf\",\n            \"data\": [\n                2.6,\n                5.9,\n                9.0,\n                26.4,\n                28.7,\n                70.7,\n                175.6,\n                182.2,\n                48.7,\n                18.8,\n                6.0,\n                2.3\n            ],\n            \"barCategoryGap\": \"20%\",\n            \"label\": {\n                \"show\": false,\n                \"position\": \"top\",\n                \"margin\": 8\n            }\n        },\n        {\n            \"type\": \"line\",\n            \"name\": \"\\u5e73\\u5747\\u6e29\\u5ea6\",\n            \"connectNulls\": false,\n            \"yAxisIndex\": 1,\n            \"symbolSize\": 4,\n            \"showSymbol\": true,\n            \"smooth\": false,\n            \"step\": false,\n            \"data\": [\n                [\n                    \"1\\u6708\",\n                    2.0\n                ],\n                [\n                    \"2\\u6708\",\n                    2.2\n                ],\n                [\n                    \"3\\u6708\",\n                    3.3\n                ],\n                [\n                    \"4\\u6708\",\n                    4.5\n                ],\n                [\n                    \"5\\u6708\",\n                    6.3\n                ],\n                [\n                    \"6\\u6708\",\n                    10.2\n                ],\n                [\n                    \"7\\u6708\",\n                    20.3\n                ],\n                [\n                    \"8\\u6708\",\n                    23.4\n                ],\n                [\n                    \"9\\u6708\",\n                    23.0\n                ],\n                [\n                    \"10\\u6708\",\n                    16.5\n                ],\n                [\n                    \"11\\u6708\",\n                    12.0\n                ],\n                [\n                    \"12\\u6708\",\n                    6.2\n                ]\n            ],\n            \"hoverAnimation\": true,\n            \"label\": {\n                \"show\": false,\n                \"position\": \"top\",\n                \"margin\": 8\n            },\n            \"lineStyle\": {\n                \"width\": 1,\n                \"opacity\": 1,\n                \"curveness\": 0,\n                \"type\": \"solid\"\n            },\n            \"areaStyle\": {\n                \"opacity\": 0\n            }\n        }\n    ],\n    \"legend\": [\n        {\n            \"data\": [\n                \"\\u84b8\\u53d1\\u91cf\",\n                \"\\u964d\\u6c34\\u91cf\",\n                \"\\u5e73\\u5747\\u6e29\\u5ea6\"\n            ],\n            \"selected\": {\n                \"\\u84b8\\u53d1\\u91cf\": true,\n                \"\\u964d\\u6c34\\u91cf\": true\n            },\n            \"show\": true\n        }\n    ],\n    \"tooltip\": {\n        \"show\": true,\n        \"trigger\": \"axis\",\n        \"triggerOn\": \"mousemove|click\",\n        \"axisPointer\": {\n            \"type\": \"cross\"\n        },\n        \"textStyle\": {\n            \"fontSize\": 14\n        },\n        \"borderWidth\": 0\n    },\n    \"xAxis\": [\n        {\n            \"type\": \"category\",\n            \"show\": true,\n            \"scale\": false,\n            \"nameLocation\": \"end\",\n            \"nameGap\": 15,\n            \"gridIndex\": 0,\n            \"axisPointer\": {\n                \"show\": true,\n                \"type\": \"shadow\"\n            },\n            \"inverse\": false,\n            \"offset\": 0,\n            \"splitNumber\": 5,\n            \"minInterval\": 0,\n            \"splitLine\": {\n                \"show\": false,\n                \"lineStyle\": {\n                    \"width\": 1,\n                    \"opacity\": 1,\n                    \"curveness\": 0,\n                    \"type\": \"solid\"\n                }\n            },\n            \"data\": [\n                \"1\\u6708\",\n                \"2\\u6708\",\n                \"3\\u6708\",\n                \"4\\u6708\",\n                \"5\\u6708\",\n                \"6\\u6708\",\n                \"7\\u6708\",\n                \"8\\u6708\",\n                \"9\\u6708\",\n                \"10\\u6708\",\n                \"11\\u6708\",\n                \"12\\u6708\"\n            ]\n        }\n    ],\n    \"yAxis\": [\n        {\n            \"type\": \"value\",\n            \"name\": \"\\u6c34\\u91cf\",\n            \"show\": true,\n            \"scale\": false,\n            \"nameLocation\": \"end\",\n            \"nameGap\": 15,\n            \"interval\": 50,\n            \"gridIndex\": 0,\n            \"axisTick\": {\n                \"show\": true,\n                \"alignWithLabel\": false,\n                \"inside\": false\n            },\n            \"axisLabel\": {\n                \"show\": true,\n                \"position\": \"top\",\n                \"margin\": 8,\n                \"formatter\": \"{value} ml\"\n            },\n            \"inverse\": false,\n            \"offset\": 0,\n            \"splitNumber\": 5,\n            \"min\": 0,\n            \"max\": 250,\n            \"minInterval\": 0,\n            \"splitLine\": {\n                \"show\": true,\n                \"lineStyle\": {\n                    \"width\": 1,\n                    \"opacity\": 1,\n                    \"curveness\": 0,\n                    \"type\": \"solid\"\n                }\n            }\n        },\n        {\n            \"type\": \"value\",\n            \"name\": \"\\u6e29\\u5ea6\",\n            \"show\": true,\n            \"scale\": false,\n            \"nameLocation\": \"end\",\n            \"nameGap\": 15,\n            \"interval\": 5,\n            \"gridIndex\": 0,\n            \"axisLabel\": {\n                \"show\": true,\n                \"position\": \"top\",\n                \"margin\": 8,\n                \"formatter\": \"{value} \\u00b0C\"\n            },\n            \"inverse\": false,\n            \"offset\": 0,\n            \"splitNumber\": 5,\n            \"min\": 0,\n            \"max\": 25,\n            \"minInterval\": 0,\n            \"splitLine\": {\n                \"show\": false,\n                \"lineStyle\": {\n                    \"width\": 1,\n                    \"opacity\": 1,\n                    \"curveness\": 0,\n                    \"type\": \"solid\"\n                }\n            }\n        }\n    ],\n    \"title\": [\n        {}\n    ]\n};\n                chart_62c8a9ea44ab4a6490cd2df03e78c16f.setOption(option_62c8a9ea44ab4a6490cd2df03e78c16f);\n        });\n    </script>\n"
     },
     "metadata": {},
     "output_type": "execute_result",
     "execution_count": 32
    }
   ],
   "source": [
    "x_data = [\"1月\", \"2月\", \"3月\", \"4月\", \"5月\", \"6月\", \"7月\", \"8月\", \"9月\", \"10月\", \"11月\", \"12月\"]\n",
    "\n",
    "bar = (\n",
    "    Bar(init_opts=opts.InitOpts(width=\"1600px\", height=\"800px\"))\n",
    "    .add_xaxis(xaxis_data=x_data)\n",
    "    .add_yaxis(\n",
    "        series_name=\"蒸发量\",\n",
    "        yaxis_data=[\n",
    "            2.0,\n",
    "            4.9,\n",
    "            7.0,\n",
    "            23.2,\n",
    "            25.6,\n",
    "            76.7,\n",
    "            135.6,\n",
    "            162.2,\n",
    "            32.6,\n",
    "            20.0,\n",
    "            6.4,\n",
    "            3.3,\n",
    "        ],\n",
    "        label_opts=opts.LabelOpts(is_show=False),\n",
    "    )\n",
    "    .add_yaxis(\n",
    "        series_name=\"降水量\",\n",
    "        yaxis_data=[\n",
    "            2.6,\n",
    "            5.9,\n",
    "            9.0,\n",
    "            26.4,\n",
    "            28.7,\n",
    "            70.7,\n",
    "            175.6,\n",
    "            182.2,\n",
    "            48.7,\n",
    "            18.8,\n",
    "            6.0,\n",
    "            2.3,\n",
    "        ],\n",
    "        label_opts=opts.LabelOpts(is_show=False),\n",
    "    )\n",
    "    .extend_axis(\n",
    "        yaxis=opts.AxisOpts(\n",
    "            name=\"温度\",\n",
    "            type_=\"value\",\n",
    "            min_=0,\n",
    "            max_=25,\n",
    "            interval=5,\n",
    "            axislabel_opts=opts.LabelOpts(formatter=\"{value} °C\"),\n",
    "        )\n",
    "    )\n",
    "    .set_global_opts(\n",
    "        tooltip_opts=opts.TooltipOpts(\n",
    "            is_show=True, trigger=\"axis\", axis_pointer_type=\"cross\"\n",
    "        ),\n",
    "        xaxis_opts=opts.AxisOpts(\n",
    "            type_=\"category\",\n",
    "            axispointer_opts=opts.AxisPointerOpts(is_show=True, type_=\"shadow\"),\n",
    "        ),\n",
    "        yaxis_opts=opts.AxisOpts(\n",
    "            name=\"水量\",\n",
    "            type_=\"value\",\n",
    "            min_=0,\n",
    "            max_=250,\n",
    "            interval=50,\n",
    "            axislabel_opts=opts.LabelOpts(formatter=\"{value} ml\"),\n",
    "            axistick_opts=opts.AxisTickOpts(is_show=True),\n",
    "            splitline_opts=opts.SplitLineOpts(is_show=True),\n",
    "        ),\n",
    "    )\n",
    ")\n",
    "\n",
    "line = (\n",
    "    Line()\n",
    "    .add_xaxis(xaxis_data=x_data)\n",
    "    .add_yaxis(\n",
    "        series_name=\"平均温度\",\n",
    "        yaxis_index=1,\n",
    "        y_axis=[2.0, 2.2, 3.3, 4.5, 6.3, 10.2, 20.3, 23.4, 23.0, 16.5, 12.0, 6.2],\n",
    "        label_opts=opts.LabelOpts(is_show=False),\n",
    "    )\n",
    ")\n",
    "\n",
    "#\n",
    "bar.overlap(line).render_notebook()"
   ],
   "metadata": {
    "collapsed": false,
    "pycharm": {
     "name": "#%% \n",
     "is_executing": false
    }
   }
  },
  {
   "cell_type": "markdown",
   "source": [
    "## 饼图"
   ],
   "metadata": {
    "collapsed": false,
    "pycharm": {
     "name": "#%% md\n"
    }
   }
  },
  {
   "cell_type": "code",
   "execution_count": 33,
   "outputs": [
    {
     "data": {
      "text/plain": "<pyecharts.render.display.HTML at 0x22ebdaf0488>",
      "text/html": "\n<script>\n    require.config({\n        paths: {\n            'echarts':'https://assets.pyecharts.org/assets/echarts.min'\n        }\n    });\n</script>\n\n        <div id=\"ba6f4d4f66fb417b8550bb641b5b0881\" style=\"width:1600px; height:800px;\"></div>\n\n<script>\n        require(['echarts'], function(echarts) {\n                var chart_ba6f4d4f66fb417b8550bb641b5b0881 = echarts.init(\n                    document.getElementById('ba6f4d4f66fb417b8550bb641b5b0881'), 'white', {renderer: 'canvas'});\n                var option_ba6f4d4f66fb417b8550bb641b5b0881 = {\n    \"backgroundColor\": \"#2c343c\",\n    \"animation\": true,\n    \"animationThreshold\": 2000,\n    \"animationDuration\": 1000,\n    \"animationEasing\": \"cubicOut\",\n    \"animationDelay\": 0,\n    \"animationDurationUpdate\": 300,\n    \"animationEasingUpdate\": \"cubicOut\",\n    \"animationDelayUpdate\": 0,\n    \"color\": [\n        \"#c23531\",\n        \"#2f4554\",\n        \"#61a0a8\",\n        \"#d48265\",\n        \"#749f83\",\n        \"#ca8622\",\n        \"#bda29a\",\n        \"#6e7074\",\n        \"#546570\",\n        \"#c4ccd3\",\n        \"#f05b72\",\n        \"#ef5b9c\",\n        \"#f47920\",\n        \"#905a3d\",\n        \"#fab27b\",\n        \"#2a5caa\",\n        \"#444693\",\n        \"#726930\",\n        \"#b2d235\",\n        \"#6d8346\",\n        \"#ac6767\",\n        \"#1d953f\",\n        \"#6950a1\",\n        \"#918597\"\n    ],\n    \"series\": [\n        {\n            \"type\": \"pie\",\n            \"name\": \"\\u8bbf\\u95ee\\u6765\\u6e90\",\n            \"clockwise\": true,\n            \"data\": [\n                {\n                    \"name\": \"\\u89c6\\u9891\\u5e7f\\u544a\",\n                    \"value\": 235\n                },\n                {\n                    \"name\": \"\\u8054\\u76df\\u5e7f\\u544a\",\n                    \"value\": 274\n                },\n                {\n                    \"name\": \"\\u90ae\\u4ef6\\u8425\\u9500\",\n                    \"value\": 310\n                },\n                {\n                    \"name\": \"\\u76f4\\u63a5\\u8bbf\\u95ee\",\n                    \"value\": 335\n                },\n                {\n                    \"name\": \"\\u641c\\u7d22\\u5f15\\u64ce\",\n                    \"value\": 400\n                }\n            ],\n            \"radius\": \"55%\",\n            \"center\": [\n                \"50%\",\n                \"50%\"\n            ],\n            \"roseType\": \"radius\",\n            \"label\": {\n                \"show\": true,\n                \"position\": \"top\",\n                \"color\": \"rgba(255, 255, 255, 0.3)\",\n                \"margin\": 8\n            },\n            \"tooltip\": {\n                \"show\": true,\n                \"trigger\": \"item\",\n                \"triggerOn\": \"mousemove|click\",\n                \"axisPointer\": {\n                    \"type\": \"line\"\n                },\n                \"formatter\": \"{a} <br/>{b}: {c} ({d}%)\",\n                \"textStyle\": {\n                    \"fontSize\": 14\n                },\n                \"borderWidth\": 0\n            },\n            \"rippleEffect\": {\n                \"show\": true,\n                \"brushType\": \"stroke\",\n                \"scale\": 2.5,\n                \"period\": 4\n            }\n        }\n    ],\n    \"legend\": [\n        {\n            \"data\": [\n                \"\\u89c6\\u9891\\u5e7f\\u544a\",\n                \"\\u8054\\u76df\\u5e7f\\u544a\",\n                \"\\u90ae\\u4ef6\\u8425\\u9500\",\n                \"\\u76f4\\u63a5\\u8bbf\\u95ee\",\n                \"\\u641c\\u7d22\\u5f15\\u64ce\"\n            ],\n            \"selected\": {},\n            \"show\": false\n        }\n    ],\n    \"tooltip\": {\n        \"show\": true,\n        \"trigger\": \"item\",\n        \"triggerOn\": \"mousemove|click\",\n        \"axisPointer\": {\n            \"type\": \"line\"\n        },\n        \"textStyle\": {\n            \"fontSize\": 14\n        },\n        \"borderWidth\": 0\n    },\n    \"title\": [\n        {\n            \"text\": \"Customized Pie\",\n            \"left\": \"center\",\n            \"top\": \"20\",\n            \"textStyle\": {\n                \"color\": \"#fff\"\n            }\n        }\n    ]\n};\n                chart_ba6f4d4f66fb417b8550bb641b5b0881.setOption(option_ba6f4d4f66fb417b8550bb641b5b0881);\n        });\n    </script>\n"
     },
     "metadata": {},
     "output_type": "execute_result",
     "execution_count": 33
    }
   ],
   "source": [
    "import pyecharts.options as opts\n",
    "from pyecharts.charts import Pie\n",
    "\n",
    "x_data = [\"直接访问\", \"邮件营销\", \"联盟广告\", \"视频广告\", \"搜索引擎\"]\n",
    "y_data = [335, 310, 274, 235, 400]\n",
    "data_pair = [list(z) for z in zip(x_data, y_data)]\n",
    "data_pair.sort(key=lambda x: x[1])\n",
    "\n",
    "pie = (\n",
    "    Pie(init_opts=opts.InitOpts(width=\"1600px\", height=\"800px\", bg_color=\"#2c343c\"))\n",
    "    .add(\n",
    "        series_name=\"访问来源\",\n",
    "        data_pair=data_pair,\n",
    "        rosetype=\"radius\",\n",
    "        radius=\"55%\",\n",
    "        center=[\"50%\", \"50%\"],\n",
    "        label_opts=opts.LabelOpts(is_show=False, position=\"center\"),\n",
    "    )\n",
    "    .set_global_opts(\n",
    "        title_opts=opts.TitleOpts(\n",
    "            title=\"Customized Pie\",\n",
    "            pos_left=\"center\",\n",
    "            pos_top=\"20\",\n",
    "            title_textstyle_opts=opts.TextStyleOpts(color=\"#fff\"),\n",
    "        ),\n",
    "        legend_opts=opts.LegendOpts(is_show=False),\n",
    "    )\n",
    "    .set_series_opts(\n",
    "        tooltip_opts=opts.TooltipOpts(\n",
    "            trigger=\"item\", formatter=\"{a} <br/>{b}: {c} ({d}%)\"\n",
    "        ),\n",
    "        label_opts=opts.LabelOpts(color=\"rgba(255, 255, 255, 0.3)\"),\n",
    "    )\n",
    "   \n",
    ")\n",
    "pie.render_notebook()"
   ],
   "metadata": {
    "collapsed": false,
    "pycharm": {
     "name": "#%%\n",
     "is_executing": false
    }
   }
  },
  {
   "cell_type": "markdown",
   "source": [
    "## 散点图"
   ],
   "metadata": {
    "collapsed": false,
    "pycharm": {
     "name": "#%% md\n"
    }
   }
  },
  {
   "cell_type": "code",
   "execution_count": 34,
   "outputs": [
    {
     "data": {
      "text/plain": "<pyecharts.render.display.HTML at 0x22ebdae86c8>",
      "text/html": "\n<script>\n    require.config({\n        paths: {\n            'echarts':'https://assets.pyecharts.org/assets/echarts.min'\n        }\n    });\n</script>\n\n        <div id=\"2091d4267f6c4da39350e43d16b97b49\" style=\"width:1600px; height:1000px;\"></div>\n\n<script>\n        require(['echarts'], function(echarts) {\n                var chart_2091d4267f6c4da39350e43d16b97b49 = echarts.init(\n                    document.getElementById('2091d4267f6c4da39350e43d16b97b49'), 'white', {renderer: 'canvas'});\n                var option_2091d4267f6c4da39350e43d16b97b49 = {\n    \"animation\": true,\n    \"animationThreshold\": 2000,\n    \"animationDuration\": 1000,\n    \"animationEasing\": \"cubicOut\",\n    \"animationDelay\": 0,\n    \"animationDurationUpdate\": 300,\n    \"animationEasingUpdate\": \"cubicOut\",\n    \"animationDelayUpdate\": 0,\n    \"color\": [\n        \"#c23531\",\n        \"#2f4554\",\n        \"#61a0a8\",\n        \"#d48265\",\n        \"#749f83\",\n        \"#ca8622\",\n        \"#bda29a\",\n        \"#6e7074\",\n        \"#546570\",\n        \"#c4ccd3\",\n        \"#f05b72\",\n        \"#ef5b9c\",\n        \"#f47920\",\n        \"#905a3d\",\n        \"#fab27b\",\n        \"#2a5caa\",\n        \"#444693\",\n        \"#726930\",\n        \"#b2d235\",\n        \"#6d8346\",\n        \"#ac6767\",\n        \"#1d953f\",\n        \"#6950a1\",\n        \"#918597\"\n    ],\n    \"series\": [\n        {\n            \"type\": \"effectScatter\",\n            \"name\": \"xc\",\n            \"showEffectOn\": \"render\",\n            \"rippleEffect\": {\n                \"show\": true,\n                \"brushType\": \"stroke\",\n                \"scale\": 2.5,\n                \"period\": 4\n            },\n            \"symbolSize\": 20,\n            \"data\": [\n                [\n                    4.0,\n                    4.26\n                ],\n                [\n                    5.0,\n                    5.68\n                ],\n                [\n                    6.0,\n                    7.24\n                ],\n                [\n                    7.0,\n                    4.82\n                ],\n                [\n                    8.0,\n                    6.95\n                ],\n                [\n                    9.0,\n                    8.81\n                ],\n                [\n                    10.0,\n                    8.04\n                ],\n                [\n                    11.0,\n                    8.33\n                ],\n                [\n                    12.0,\n                    10.84\n                ],\n                [\n                    13.0,\n                    7.58\n                ],\n                [\n                    14.0,\n                    9.96\n                ]\n            ],\n            \"label\": {\n                \"show\": false,\n                \"position\": \"top\",\n                \"margin\": 8\n            }\n        }\n    ],\n    \"legend\": [\n        {\n            \"data\": [\n                \"xc\"\n            ],\n            \"selected\": {\n                \"xc\": true\n            },\n            \"show\": true\n        }\n    ],\n    \"tooltip\": {\n        \"show\": false,\n        \"trigger\": \"item\",\n        \"triggerOn\": \"mousemove|click\",\n        \"axisPointer\": {\n            \"type\": \"line\"\n        },\n        \"textStyle\": {\n            \"fontSize\": 14\n        },\n        \"borderWidth\": 0\n    },\n    \"xAxis\": [\n        {\n            \"type\": \"value\",\n            \"show\": true,\n            \"scale\": false,\n            \"nameLocation\": \"end\",\n            \"nameGap\": 15,\n            \"gridIndex\": 0,\n            \"inverse\": false,\n            \"offset\": 0,\n            \"splitNumber\": 5,\n            \"minInterval\": 0,\n            \"splitLine\": {\n                \"show\": true,\n                \"lineStyle\": {\n                    \"width\": 1,\n                    \"opacity\": 1,\n                    \"curveness\": 0,\n                    \"type\": \"solid\"\n                }\n            },\n            \"data\": [\n                4.0,\n                5.0,\n                6.0,\n                7.0,\n                8.0,\n                9.0,\n                10.0,\n                11.0,\n                12.0,\n                13.0,\n                14.0\n            ]\n        }\n    ],\n    \"yAxis\": [\n        {\n            \"type\": \"value\",\n            \"show\": true,\n            \"scale\": false,\n            \"nameLocation\": \"end\",\n            \"nameGap\": 15,\n            \"gridIndex\": 0,\n            \"axisTick\": {\n                \"show\": true,\n                \"alignWithLabel\": false,\n                \"inside\": false\n            },\n            \"inverse\": false,\n            \"offset\": 0,\n            \"splitNumber\": 5,\n            \"minInterval\": 0,\n            \"splitLine\": {\n                \"show\": true,\n                \"lineStyle\": {\n                    \"width\": 1,\n                    \"opacity\": 1,\n                    \"curveness\": 0,\n                    \"type\": \"solid\"\n                }\n            }\n        }\n    ],\n    \"title\": [\n        {\n            \"text\": \"demo\"\n        }\n    ]\n};\n                chart_2091d4267f6c4da39350e43d16b97b49.setOption(option_2091d4267f6c4da39350e43d16b97b49);\n        });\n    </script>\n"
     },
     "metadata": {},
     "output_type": "execute_result",
     "execution_count": 34
    }
   ],
   "source": [
    "import pyecharts.options as opts\n",
    "from pyecharts.charts import EffectScatter\n",
    "\n",
    "data = [\n",
    "    [10.0, 8.04],\n",
    "    [8.0, 6.95],\n",
    "    [13.0, 7.58],\n",
    "    [9.0, 8.81],\n",
    "    [11.0, 8.33],\n",
    "    [14.0, 9.96],\n",
    "    [6.0, 7.24],\n",
    "    [4.0, 4.26],\n",
    "    [12.0, 10.84],\n",
    "    [7.0, 4.82],\n",
    "    [5.0, 5.68],\n",
    "]\n",
    "data.sort(key=lambda x: x[0])\n",
    "x_data = [d[0] for d in data]\n",
    "y_data = [d[1] for d in data]\n",
    "\n",
    "\n",
    "scatter = (  EffectScatter(init_opts=opts.InitOpts(width=\"1600px\", height=\"1000px\"))\n",
    "    .add_xaxis(\n",
    "        xaxis_data=x_data,\n",
    "    )\n",
    "    .add_yaxis(\n",
    "        series_name=\"xc\",\n",
    "        y_axis=y_data,\n",
    "        symbol_size=20,\n",
    "        label_opts=opts.LabelOpts(is_show=False),\n",
    "    )\n",
    "    .set_series_opts(   \n",
    "          \n",
    "    )\n",
    "    .set_global_opts(\n",
    "        title_opts=opts.TitleOpts(title=\"demo\"),\n",
    "        xaxis_opts=opts.AxisOpts(\n",
    "            type_=\"value\", splitline_opts=opts.SplitLineOpts(is_show=True)\n",
    "        ),\n",
    "        yaxis_opts=opts.AxisOpts(\n",
    "            type_=\"value\",\n",
    "            axistick_opts=opts.AxisTickOpts(is_show=True),\n",
    "            splitline_opts=opts.SplitLineOpts(is_show=True),\n",
    "        ),\n",
    "        tooltip_opts=opts.TooltipOpts(is_show=False),\n",
    "    )\n",
    "    )\n",
    "scatter.render_notebook()"
   ],
   "metadata": {
    "collapsed": false,
    "pycharm": {
     "name": "#%%\n",
     "is_executing": false
    }
   }
  },
  {
   "cell_type": "markdown",
   "source": [
    "## 雷达图"
   ],
   "metadata": {
    "collapsed": false,
    "pycharm": {
     "name": "#%% md\n"
    }
   }
  },
  {
   "cell_type": "code",
   "execution_count": 35,
   "outputs": [
    {
     "data": {
      "text/plain": "<pyecharts.render.display.HTML at 0x22ebd129908>",
      "text/html": "\n<script>\n    require.config({\n        paths: {\n            'echarts':'https://assets.pyecharts.org/assets/echarts.min'\n        }\n    });\n</script>\n\n        <div id=\"bbe2f01cd6024cc5bf8001d2f1816d71\" style=\"width:1600px; height:1000px;\"></div>\n\n<script>\n        require(['echarts'], function(echarts) {\n                var chart_bbe2f01cd6024cc5bf8001d2f1816d71 = echarts.init(\n                    document.getElementById('bbe2f01cd6024cc5bf8001d2f1816d71'), 'white', {renderer: 'canvas'});\n                var option_bbe2f01cd6024cc5bf8001d2f1816d71 = {\n    \"backgroundColor\": \"#CCCCCC\",\n    \"animation\": true,\n    \"animationThreshold\": 2000,\n    \"animationDuration\": 1000,\n    \"animationEasing\": \"cubicOut\",\n    \"animationDelay\": 0,\n    \"animationDurationUpdate\": 300,\n    \"animationEasingUpdate\": \"cubicOut\",\n    \"animationDelayUpdate\": 0,\n    \"color\": [\n        \"#c23531\",\n        \"#2f4554\",\n        \"#61a0a8\",\n        \"#d48265\",\n        \"#749f83\",\n        \"#ca8622\",\n        \"#bda29a\",\n        \"#6e7074\",\n        \"#546570\",\n        \"#c4ccd3\",\n        \"#f05b72\",\n        \"#ef5b9c\",\n        \"#f47920\",\n        \"#905a3d\",\n        \"#fab27b\",\n        \"#2a5caa\",\n        \"#444693\",\n        \"#726930\",\n        \"#b2d235\",\n        \"#6d8346\",\n        \"#ac6767\",\n        \"#1d953f\",\n        \"#6950a1\",\n        \"#918597\"\n    ],\n    \"series\": [\n        {\n            \"type\": \"radar\",\n            \"name\": \"\\u9884\\u7b97\\u5206\\u914d\\uff08Allocated Budget\\uff09\",\n            \"data\": [\n                [\n                    4300,\n                    10000,\n                    28000,\n                    35000,\n                    50000,\n                    19000\n                ]\n            ],\n            \"label\": {\n                \"show\": false,\n                \"position\": \"top\",\n                \"margin\": 8\n            },\n            \"itemStyle\": {\n                \"normal\": {}\n            },\n            \"lineStyle\": {\n                \"width\": 1,\n                \"opacity\": 1,\n                \"curveness\": 0,\n                \"type\": \"solid\",\n                \"color\": \"#CD0000\"\n            },\n            \"areaStyle\": {\n                \"opacity\": 0\n            },\n            \"rippleEffect\": {\n                \"show\": true,\n                \"brushType\": \"stroke\",\n                \"scale\": 2.5,\n                \"period\": 4\n            }\n        },\n        {\n            \"type\": \"radar\",\n            \"name\": \"\\u5b9e\\u9645\\u5f00\\u9500\\uff08Actual Spending\\uff09\",\n            \"data\": [\n                [\n                    5000,\n                    14000,\n                    28000,\n                    31000,\n                    42000,\n                    21000\n                ]\n            ],\n            \"label\": {\n                \"show\": false,\n                \"position\": \"top\",\n                \"margin\": 8\n            },\n            \"itemStyle\": {\n                \"normal\": {}\n            },\n            \"lineStyle\": {\n                \"width\": 1,\n                \"opacity\": 1,\n                \"curveness\": 0,\n                \"type\": \"solid\",\n                \"color\": \"#5CACEE\"\n            },\n            \"areaStyle\": {\n                \"opacity\": 0\n            },\n            \"rippleEffect\": {\n                \"show\": true,\n                \"brushType\": \"stroke\",\n                \"scale\": 2.5,\n                \"period\": 4\n            }\n        }\n    ],\n    \"legend\": [\n        {\n            \"data\": [\n                \"\\u9884\\u7b97\\u5206\\u914d\\uff08Allocated Budget\\uff09\",\n                \"\\u5b9e\\u9645\\u5f00\\u9500\\uff08Actual Spending\\uff09\"\n            ],\n            \"selected\": {\n                \"\\u9884\\u7b97\\u5206\\u914d\\uff08Allocated Budget\\uff09\": true,\n                \"\\u5b9e\\u9645\\u5f00\\u9500\\uff08Actual Spending\\uff09\": true\n            },\n            \"show\": true\n        }\n    ],\n    \"tooltip\": {\n        \"show\": true,\n        \"trigger\": \"item\",\n        \"triggerOn\": \"mousemove|click\",\n        \"axisPointer\": {\n            \"type\": \"line\"\n        },\n        \"textStyle\": {\n            \"fontSize\": 14\n        },\n        \"borderWidth\": 0\n    },\n    \"radar\": {\n        \"indicator\": [\n            {\n                \"name\": \"\\u9500\\u552e\\uff08sales\\uff09\",\n                \"max\": 6500\n            },\n            {\n                \"name\": \"\\u7ba1\\u7406\\uff08Administration\\uff09\",\n                \"max\": 16000\n            },\n            {\n                \"name\": \"\\u4fe1\\u606f\\u6280\\u672f\\uff08Information Technology\\uff09\",\n                \"max\": 30000\n            },\n            {\n                \"name\": \"\\u5ba2\\u670d\\uff08Customer Support\\uff09\",\n                \"max\": 38000\n            },\n            {\n                \"name\": \"\\u7814\\u53d1\\uff08Development\\uff09\",\n                \"max\": 52000\n            },\n            {\n                \"name\": \"\\u5e02\\u573a\\uff08Marketing\\uff09\",\n                \"max\": 25000\n            }\n        ],\n        \"name\": {\n            \"textStyle\": {\n                \"color\": \"#fff\"\n            }\n        },\n        \"splitLine\": {\n            \"show\": true,\n            \"lineStyle\": {\n                \"width\": 1,\n                \"opacity\": 1,\n                \"curveness\": 0,\n                \"type\": \"solid\"\n            }\n        },\n        \"splitArea\": {\n            \"show\": true,\n            \"areaStyle\": {\n                \"opacity\": 1\n            }\n        },\n        \"axisLine\": {\n            \"show\": true,\n            \"onZero\": true,\n            \"onZeroAxisIndex\": 0\n        }\n    },\n    \"title\": [\n        {\n            \"text\": \"\\u57fa\\u7840\\u96f7\\u8fbe\\u56fe\"\n        }\n    ]\n};\n                chart_bbe2f01cd6024cc5bf8001d2f1816d71.setOption(option_bbe2f01cd6024cc5bf8001d2f1816d71);\n        });\n    </script>\n"
     },
     "metadata": {},
     "output_type": "execute_result",
     "execution_count": 35
    }
   ],
   "source": [
    "import pyecharts.options as opts\n",
    "from pyecharts.charts import Radar\n",
    "\n",
    "v1 = [[4300, 10000, 28000, 35000, 50000, 19000]]\n",
    "v2 = [[5000, 14000, 28000, 31000, 42000, 21000]]\n",
    "\n",
    "radar =  (\n",
    "    Radar(init_opts=opts.InitOpts(width=\"1600px\", height=\"1000px\", bg_color=\"#CCCCCC\"))\n",
    "    .add_schema(\n",
    "        schema=[\n",
    "            opts.RadarIndicatorItem(name=\"销售（sales）\", max_=6500),\n",
    "            opts.RadarIndicatorItem(name=\"管理（Administration）\", max_=16000),\n",
    "            opts.RadarIndicatorItem(name=\"信息技术（Information Technology）\", max_=30000),\n",
    "            opts.RadarIndicatorItem(name=\"客服（Customer Support）\", max_=38000),\n",
    "            opts.RadarIndicatorItem(name=\"研发（Development）\", max_=52000),\n",
    "            opts.RadarIndicatorItem(name=\"市场（Marketing）\", max_=25000),\n",
    "        ],\n",
    "        splitarea_opt=opts.SplitAreaOpts(\n",
    "            is_show=True, areastyle_opts=opts.AreaStyleOpts(opacity=1)\n",
    "        ),\n",
    "        textstyle_opts=opts.TextStyleOpts(color=\"#fff\"),\n",
    "    )\n",
    "    .add(\n",
    "        series_name=\"预算分配（Allocated Budget）\",\n",
    "        data=v1,\n",
    "        linestyle_opts=opts.LineStyleOpts(color=\"#CD0000\"),\n",
    "    )\n",
    "    .add(\n",
    "        series_name=\"实际开销（Actual Spending）\",\n",
    "        data=v2,\n",
    "        linestyle_opts=opts.LineStyleOpts(color=\"#5CACEE\"),\n",
    "    )\n",
    "    .set_series_opts(label_opts=opts.LabelOpts(is_show=False))\n",
    "    .set_global_opts(\n",
    "        title_opts=opts.TitleOpts(title=\"基础雷达图\"), legend_opts=opts.LegendOpts()\n",
    "    )\n",
    ")\n",
    "radar.render_notebook()"
   ],
   "metadata": {
    "collapsed": false,
    "pycharm": {
     "name": "#%%\n",
     "is_executing": false
    }
   }
  },
  {
   "cell_type": "markdown",
   "source": [
    "## 词云"
   ],
   "metadata": {
    "collapsed": false,
    "pycharm": {
     "name": "#%% md\n"
    }
   }
  },
  {
   "cell_type": "code",
   "execution_count": 36,
   "outputs": [
    {
     "data": {
      "text/plain": "<pyecharts.render.display.HTML at 0x22ebdae2408>",
      "text/html": "\n<script>\n    require.config({\n        paths: {\n            'echarts':'https://assets.pyecharts.org/assets/echarts.min', 'echarts-wordcloud':'https://assets.pyecharts.org/assets/echarts-wordcloud.min'\n        }\n    });\n</script>\n\n        <div id=\"d795563356774644ad1f5a767c9dc39a\" style=\"width:900px; height:500px;\"></div>\n\n<script>\n        require(['echarts', 'echarts-wordcloud'], function(echarts) {\n                var chart_d795563356774644ad1f5a767c9dc39a = echarts.init(\n                    document.getElementById('d795563356774644ad1f5a767c9dc39a'), 'white', {renderer: 'canvas'});\n                var option_d795563356774644ad1f5a767c9dc39a = {\n    \"animation\": true,\n    \"animationThreshold\": 2000,\n    \"animationDuration\": 1000,\n    \"animationEasing\": \"cubicOut\",\n    \"animationDelay\": 0,\n    \"animationDurationUpdate\": 300,\n    \"animationEasingUpdate\": \"cubicOut\",\n    \"animationDelayUpdate\": 0,\n    \"color\": [\n        \"#c23531\",\n        \"#2f4554\",\n        \"#61a0a8\",\n        \"#d48265\",\n        \"#749f83\",\n        \"#ca8622\",\n        \"#bda29a\",\n        \"#6e7074\",\n        \"#546570\",\n        \"#c4ccd3\",\n        \"#f05b72\",\n        \"#ef5b9c\",\n        \"#f47920\",\n        \"#905a3d\",\n        \"#fab27b\",\n        \"#2a5caa\",\n        \"#444693\",\n        \"#726930\",\n        \"#b2d235\",\n        \"#6d8346\",\n        \"#ac6767\",\n        \"#1d953f\",\n        \"#6950a1\",\n        \"#918597\"\n    ],\n    \"series\": [\n        {\n            \"type\": \"wordCloud\",\n            \"name\": \"\\u70ed\\u70b9\\u5206\\u6790\",\n            \"shape\": \"circle\",\n            \"rotationRange\": [\n                -90,\n                90\n            ],\n            \"rotationStep\": 45,\n            \"girdSize\": 20,\n            \"sizeRange\": [\n                6,\n                66\n            ],\n            \"data\": [\n                {\n                    \"name\": \"python\",\n                    \"value\": \"999\",\n                    \"textStyle\": {\n                        \"normal\": {\n                            \"color\": \"rgb(104,108,133)\"\n                        }\n                    }\n                },\n                {\n                    \"name\": \"java\",\n                    \"value\": \"888\",\n                    \"textStyle\": {\n                        \"normal\": {\n                            \"color\": \"rgb(130,128,15)\"\n                        }\n                    }\n                },\n                {\n                    \"name\": \"C\\\\C++\",\n                    \"value\": \"777\",\n                    \"textStyle\": {\n                        \"normal\": {\n                            \"color\": \"rgb(45,96,101)\"\n                        }\n                    }\n                },\n                {\n                    \"name\": \"js\",\n                    \"value\": \"688\",\n                    \"textStyle\": {\n                        \"normal\": {\n                            \"color\": \"rgb(109,57,9)\"\n                        }\n                    }\n                },\n                {\n                    \"name\": \"node\",\n                    \"value\": \"588\",\n                    \"textStyle\": {\n                        \"normal\": {\n                            \"color\": \"rgb(136,159,65)\"\n                        }\n                    }\n                },\n                {\n                    \"name\": \"C#\",\n                    \"value\": \"516\",\n                    \"textStyle\": {\n                        \"normal\": {\n                            \"color\": \"rgb(130,9,66)\"\n                        }\n                    }\n                }\n            ]\n        }\n    ],\n    \"legend\": [\n        {\n            \"data\": [],\n            \"selected\": {},\n            \"show\": true\n        }\n    ],\n    \"tooltip\": {\n        \"show\": true,\n        \"trigger\": \"item\",\n        \"triggerOn\": \"mousemove|click\",\n        \"axisPointer\": {\n            \"type\": \"line\"\n        },\n        \"textStyle\": {\n            \"fontSize\": 14\n        },\n        \"borderWidth\": 0\n    },\n    \"title\": [\n        {\n            \"text\": \"\\u70ed\\u70b9\\u5206\\u6790\",\n            \"textStyle\": {\n                \"fontSize\": 23\n            }\n        }\n    ]\n};\n                chart_d795563356774644ad1f5a767c9dc39a.setOption(option_d795563356774644ad1f5a767c9dc39a);\n        });\n    </script>\n"
     },
     "metadata": {},
     "output_type": "execute_result",
     "execution_count": 36
    }
   ],
   "source": [
    "import pyecharts.options as opts\n",
    "from pyecharts.charts import WordCloud\n",
    "\n",
    "data = [\n",
    "    (\"python\", \"999\"),\n",
    "    (\"java\", \"888\"),\n",
    "    (\"C\\C++\", \"777\"),\n",
    "    (\"js\", \"688\"),\n",
    "    (\"node\", \"588\"),\n",
    "    (\"C#\", \"516\"),\n",
    " \n",
    "]\n",
    "\n",
    "\n",
    "word_cloud = (\n",
    "    WordCloud()\n",
    "    .add(series_name=\"热点分析\", data_pair=data, word_size_range=[6, 66])\n",
    "    .set_global_opts(\n",
    "        title_opts=opts.TitleOpts(\n",
    "            title=\"热点分析\", title_textstyle_opts=opts.TextStyleOpts(font_size=23)\n",
    "        ),\n",
    "        tooltip_opts=opts.TooltipOpts(is_show=True),\n",
    "    )\n",
    ")\n",
    "\n",
    "word_cloud.render_notebook()\n"
   ],
   "metadata": {
    "collapsed": false,
    "pycharm": {
     "name": "#%% \n",
     "is_executing": false
    }
   }
  }
 ],
 "metadata": {
  "kernelspec": {
   "display_name": "Python 3",
   "language": "python",
   "name": "python3"
  },
  "language_info": {
   "codemirror_mode": {
    "name": "ipython",
    "version": 2
   },
   "file_extension": ".py",
   "mimetype": "text/x-python",
   "name": "python",
   "nbconvert_exporter": "python",
   "pygments_lexer": "ipython2",
   "version": "2.7.6"
  },
  "pycharm": {
   "stem_cell": {
    "cell_type": "raw",
    "source": [],
    "metadata": {
     "collapsed": false
    }
   }
  }
 },
 "nbformat": 4,
 "nbformat_minor": 0
}