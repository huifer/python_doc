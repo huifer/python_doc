{
 "cells": [
  {
   "cell_type": "markdown",
   "source": [
    "# Matplotlib color 颜色\n",
    "- Matplotlib支持的颜色可以参考\n",
    "    1. https://matplotlib.org/examples/color/named_colors.html\n",
    "    2. `/prompt_toolkit/styles/named_colors.py`这个类\n",
    "\n",
    "## 如何使用\n",
    "通过属性`color`进行设置"
   ],
   "metadata": {
    "collapsed": false,
    "pycharm": {
     "name": "#%% md\n"
    }
   }
  },
  {
   "cell_type": "code",
   "execution_count": null,
   "outputs": [],
   "source": [
    "import numpy as np\n",
    "import matplotlib.pyplot as plt\n",
    "import matplotlib as mpl\n",
    "\n",
    "th = np.linspace(0, 2*np.pi, 128)\n",
    "\n",
    "\n",
    "def demo(sty):\n",
    "    mpl.style.use(sty)\n",
    "    fig, ax = plt.subplots(figsize=(3, 3))\n",
    "\n",
    "    ax.set_title('style: {!r}'.format(sty), color='C0')\n",
    "\n",
    "    ax.plot(th, np.cos(th), 'C3', label='C1')\n",
    "    ax.plot(th, np.sin(th), 'C2', label='C2')\n",
    "    ax.legend()\n",
    "\n",
    "demo('default')\n",
    "demo('seaborn')"
   ],
   "metadata": {
    "collapsed": false,
    "pycharm": {
     "name": "#%%\n"
    }
   }
  }
 ],
 "metadata": {
  "kernelspec": {
   "display_name": "Python 3",
   "language": "python",
   "name": "python3"
  },
  "language_info": {
   "codemirror_mode": {
    "name": "ipython",
    "version": 2
   },
   "file_extension": ".py",
   "mimetype": "text/x-python",
   "name": "python",
   "nbconvert_exporter": "python",
   "pygments_lexer": "ipython2",
   "version": "2.7.6"
  },
  "pycharm": {
   "stem_cell": {
    "cell_type": "raw",
    "source": [],
    "metadata": {
     "collapsed": false
    }
   }
  }
 },
 "nbformat": 4,
 "nbformat_minor": 0
}