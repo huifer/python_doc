{
 "cells": [
  {
   "cell_type": "markdown",
   "metadata": {
    "collapsed": true,
    "pycharm": {
     "name": "#%% md\n"
    }
   },
   "source": [
    "# Matplotlib 快速入门\n",
    "## Matplotlib 是什么\n",
    "> Matplotlib is a Python 2D plotting library which produces publication-quality figures in a variety of hardcopy formats and interactive environments across platforms. Matplotlib can be used in Python scripts, the Python and IPython shell (à la MATLAB or Mathematica), web application servers, and various graphical user interface toolkits.\n",
    "- Matplotlib 在 Python 中作为一个绘制 2D 图像的库\n",
    "\n",
    "## 为什么用 Matplotlib\n",
    "1. 支持图像种类多\n",
    "1. 绘图简单\n",
    "\n",
    "## 安装\n",
    "`pip install matplotlib`\n",
    "\n",
    "## 核心\n",
    "- `matplotlib.pyplot` 绘图核心\n",
    "- 布局\n",
    "- 颜色\n",
    "- 图例\n",
    "- 文本\n",
    "- 交互\n",
    "- 输出\n",
    "\n",
    "## 术语\n",
    "![模型图](https://matplotlib.org/_images/anatomy.png)\n",
    "## Title\n",
    "> 标题\n",
    "## Major tick\n",
    "> 刻度\n",
    "## Legend\n",
    "> 图例\n",
    "## Major tick label\n",
    "> 刻度上的标记\n",
    "## Grid\n",
    "> 后置网格\n",
    "\n",
    "## Line \n",
    "> Plot的一种折线图\n",
    "## Markers\n",
    "> 标记(可用散点图绘制)\n",
    "\n",
    "## Y axis label\n",
    "> 纵坐标标注\n",
    "## X axis label \n",
    "> 横坐标标注\n",
    "## Spines \n",
    "> 绘制范围\n",
    "\n",
    "| 英文              | 中文      |\n",
    "| ----------------- | --------- |\n",
    "| Annotation        | 标注      |\n",
    "| Artist            | 艺术家    |\n",
    "| Axes              | 轴域      |\n",
    "| Axis              | 轴/坐标轴 |\n",
    "| Bézier            | 贝塞尔    |\n",
    "| Coordinate        | 坐标      |\n",
    "| Coordinate System | 坐标系    |\n",
    "| Figure            | 图形      |\n",
    "| Handle            | 句柄      |\n",
    "| Handler           | 处理器    |\n",
    "| Image             | 图像      |\n",
    "| Legend            | 图例      |\n",
    "| Line              | 线条      |\n",
    "| Patch             | 补丁      |\n",
    "| Path              | 路径      |\n",
    "| Pick              | 拾取      |\n",
    "| Subplot           | 子图      |\n",
    "| Text              | 文本      |\n",
    "| Tick              | 刻度      |\n",
    "| Tick Label        | 刻度标签  |\n",
    "| Transformation    | 变换      |\n",
    "\n",
    "\n",
    "## 第一个Plot\n"
   ]
  },
  {
   "cell_type": "code",
   "execution_count": 5,
   "outputs": [
    {
     "data": {
      "text/plain": "<Figure size 432x288 with 1 Axes>",
      "image/png": "[encoded data removed]"
     },
     "metadata": {
      "needs_background": "light"
     },
     "output_type": "display_data"
    }
   ],
   "source": [
    "import matplotlib.pyplot as plt\n",
    "plt.plot([1,2,3,2])\n",
    "plt.ylabel('some numbers')\n",
    "plt.show()"
   ],
   "metadata": {
    "collapsed": false,
    "pycharm": {
     "name": "#%% \n",
     "is_executing": false
    }
   }
  }
 ],
 "metadata": {
  "kernelspec": {
   "display_name": "Python 3",
   "language": "python",
   "name": "python3"
  },
  "language_info": {
   "codemirror_mode": {
    "name": "ipython",
    "version": 2
   },
   "file_extension": ".py",
   "mimetype": "text/x-python",
   "name": "python",
   "nbconvert_exporter": "python",
   "pygments_lexer": "ipython2",
   "version": "2.7.6"
  },
  "pycharm": {
   "stem_cell": {
    "cell_type": "raw",
    "source": [],
    "metadata": {
     "collapsed": false
    }
   }
  }
 },
 "nbformat": 4,
 "nbformat_minor": 0
}